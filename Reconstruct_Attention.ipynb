{
 "cells": [
  {
   "cell_type": "code",
   "execution_count": 65,
   "id": "2350116f-92ab-4fca-baa5-0adf24777abc",
   "metadata": {},
   "outputs": [],
   "source": [
    "import torch.nn.functional as F\n",
    "import torch\n",
    "from torch_geometric.nn import Sequential, GCNConv\n",
    "\n",
    "import numpy as np\n",
    "from pgmpy.metrics import correlation_score\n",
    "from pgmpy.base import DAG\n",
    "from pgmpy.models import BayesianNetwork\n",
    "import networkx as nx\n",
    "from scipy.stats import chi2_contingency\n",
    "import pandas as pd\n",
    "\n",
    "import bnlearn as bn\n",
    "import matplotlib.pyplot as plt\n",
    "from tqdm import tqdm"
   ]
  },
  {
   "cell_type": "code",
   "execution_count": 181,
   "id": "ecbc12dd-291e-4627-83ba-02843c8df48b",
   "metadata": {},
   "outputs": [],
   "source": [
    "# from torch_geometric.nn.models import GAT\n",
    "from torch_geometric.nn import GATConv\n",
    "from torch_geometric.data import Data\n",
    "from torch_geometric.explain import AttentionExplainer, ModelConfig, ExplainerConfig, Explainer, GNNExplainer"
   ]
  },
  {
   "cell_type": "code",
   "execution_count": 363,
   "id": "c6b58416-c727-441a-a1d0-9f1d4a122b12",
   "metadata": {},
   "outputs": [],
   "source": [
    "def undirected_SHD(g1, g2):\n",
    "    g1 = np.tril(((g1 + g1.T) > 0).astype(int))\n",
    "    g2 = np.tril(((g2 + g2.T) > 0).astype(int))\n",
    "    return np.sum(np.abs(g1-g2))"
   ]
  },
  {
   "cell_type": "code",
   "execution_count": 364,
   "id": "d3240329-0ff2-4f5c-938e-b34d7c6601ec",
   "metadata": {},
   "outputs": [],
   "source": [
    "def comb_SHD(g1, g2):\n",
    "    return np.sum(np.abs(g1 - g2)), undirected_SHD(g1,g2)"
   ]
  },
  {
   "cell_type": "code",
   "execution_count": 373,
   "id": "477221dc-1daa-4e33-acac-1d5836e66c7c",
   "metadata": {
    "scrolled": true
   },
   "outputs": [
    {
     "name": "stdout",
     "output_type": "stream",
     "text": [
      "[bnlearn] >Import <BIFs/insurance.bif>\n",
      "[bnlearn] >Loading bif file <BIFs/insurance.bif>\n"
     ]
    },
    {
     "name": "stderr",
     "output_type": "stream",
     "text": [
      "[setgraphviz] >WARNING> Probability values don't exactly sum to 1. Differ by: -2.220446049250313e-16. Adjusting values.\n",
      "[setgraphviz] >WARNING> Probability values don't exactly sum to 1. Differ by: 2.220446049250313e-16. Adjusting values.\n",
      "[setgraphviz] >WARNING> Probability values don't exactly sum to 1. Differ by: -2.220446049250313e-16. Adjusting values.\n",
      "[setgraphviz] >WARNING> Probability values don't exactly sum to 1. Differ by: -2.220446049250313e-16. Adjusting values.\n",
      "[setgraphviz] >WARNING> Probability values don't exactly sum to 1. Differ by: -2.220446049250313e-16. Adjusting values.\n",
      "[setgraphviz] >WARNING> Probability values don't exactly sum to 1. Differ by: -2.220446049250313e-16. Adjusting values.\n",
      "[setgraphviz] >WARNING> Probability values don't exactly sum to 1. Differ by: -2.220446049250313e-16. Adjusting values.\n",
      "[setgraphviz] >WARNING> Probability values don't exactly sum to 1. Differ by: 1.1102230246251565e-16. Adjusting values.\n",
      "[setgraphviz] >WARNING> Probability values don't exactly sum to 1. Differ by: -2.220446049250313e-16. Adjusting values.\n"
     ]
    },
    {
     "name": "stdout",
     "output_type": "stream",
     "text": [
      "[bnlearn] >Check whether CPDs sum up to one.\n",
      "[bnlearn] >CPD [Accident] does not add up to 1 but is: [[[1. 1. 1.]\n",
      "  [1. 1. 1.]\n",
      "  [1. 1. 1.]\n",
      "  [1. 1. 1.]]\n",
      "\n",
      " [[1. 1. 1.]\n",
      "  [1. 1. 1.]\n",
      "  [1. 1. 1.]\n",
      "  [1. 1. 1.]]]\n",
      "[bnlearn] >CPD [CarValue] does not add up to 1 but is: [[[1. 1. 1. 1.]\n",
      "  [1. 1. 1. 1.]]\n",
      "\n",
      " [[1. 1. 1. 1.]\n",
      "  [1. 1. 1. 1.]]\n",
      "\n",
      " [[1. 1. 1. 1.]\n",
      "  [1. 1. 1. 1.]]\n",
      "\n",
      " [[1. 1. 1. 1.]\n",
      "  [1. 1. 1. 1.]]\n",
      "\n",
      " [[1. 1. 1. 1.]\n",
      "  [1. 1. 1. 1.]]]\n",
      "[bnlearn] >CPD [DrivHist] does not add up to 1 but is: [[1. 1. 1. 1.]\n",
      " [1. 1. 1. 1.]\n",
      " [1. 1. 1. 1.]]\n",
      "[bnlearn] >CPD [DrivingSkill] does not add up to 1 but is: [[1. 1.]\n",
      " [1. 1.]\n",
      " [1. 1.]]\n",
      "[bnlearn] >CPD [HomeBase] does not add up to 1 but is: [[1. 1. 1. 1.]\n",
      " [1. 1. 1. 1.]\n",
      " [1. 1. 1. 1.]\n",
      " [1. 1. 1. 1.]]\n",
      "[bnlearn] >CPD [MedCost] does not add up to 1 but is: [[[1. 1. 1. 1.]\n",
      "  [1. 1. 1. 1.]\n",
      "  [1. 1. 1. 1.]]\n",
      "\n",
      " [[1. 1. 1. 1.]\n",
      "  [1. 1. 1. 1.]\n",
      "  [1. 1. 1. 1.]]\n",
      "\n",
      " [[1. 1. 1. 1.]\n",
      "  [1. 1. 1. 1.]\n",
      "  [1. 1. 1. 1.]]\n",
      "\n",
      " [[1. 1. 1. 1.]\n",
      "  [1. 1. 1. 1.]\n",
      "  [1. 1. 1. 1.]]]\n",
      "[bnlearn] >CPD [OtherCarCost] does not add up to 1 but is: [[1. 1. 1.]\n",
      " [1. 1. 1.]\n",
      " [1. 1. 1.]\n",
      " [1. 1. 1.]]\n",
      "[bnlearn] >CPD [RiskAversion] does not add up to 1 but is: [[1. 1. 1. 1.]\n",
      " [1. 1. 1. 1.]\n",
      " [1. 1. 1. 1.]]\n"
     ]
    }
   ],
   "source": [
    "num_samples = 10000\n",
    "file_name = \"insurance\"\n",
    "model_asia = bn.import_DAG(\"BIFs/\" + file_name + \".bif\")\n",
    "df_asia = bn.sampling(model_asia, n=num_samples)\n",
    "# df_asia = df_asia.drop(file_name, axis=1)\n",
    "nodes_orig = list(model_asia['adjmat'].columns)\n",
    "asia_dag = DAG(model_asia['adjmat'])"
   ]
  },
  {
   "cell_type": "code",
   "execution_count": 374,
   "id": "0e743c8e-0943-4b57-899b-aa63e10a7c65",
   "metadata": {},
   "outputs": [
    {
     "data": {
      "text/plain": [
       "(27, 10000)"
      ]
     },
     "execution_count": 374,
     "metadata": {},
     "output_type": "execute_result"
    }
   ],
   "source": [
    "df_asia.T.to_numpy().shape"
   ]
  },
  {
   "cell_type": "code",
   "execution_count": 375,
   "id": "c2a6e914-0a02-40f7-bede-23beacdb1a6f",
   "metadata": {},
   "outputs": [
    {
     "name": "stderr",
     "output_type": "stream",
     "text": [
      "[setgraphviz] >INFO> System found: osx\n",
      "[setgraphviz] >INFO> The OS is not supported to automatically set Graphviz in the system env.\n",
      "[setgraphviz] >INFO> Graphviz path found in environment.\n"
     ]
    },
    {
     "data": {
      "image/svg+xml": [
       "<?xml version=\"1.0\" encoding=\"UTF-8\" standalone=\"no\"?>\n",
       "<!DOCTYPE svg PUBLIC \"-//W3C//DTD SVG 1.1//EN\"\n",
       " \"http://www.w3.org/Graphics/SVG/1.1/DTD/svg11.dtd\">\n",
       "<!-- Generated by graphviz version 12.2.1 (20241206.2353)\n",
       " -->\n",
       "<!-- Pages: 1 -->\n",
       "<svg width=\"907pt\" height=\"841pt\"\n",
       " viewBox=\"0.00 0.00 907.04 840.50\" xmlns=\"http://www.w3.org/2000/svg\" xmlns:xlink=\"http://www.w3.org/1999/xlink\">\n",
       "<g id=\"graph0\" class=\"graph\" transform=\"scale(1 1) rotate(0) translate(4 836.5)\">\n",
       "<polygon fill=\"white\" stroke=\"none\" points=\"-4,4 -4,-836.5 903.04,-836.5 903.04,4 -4,4\"/>\n",
       "<!-- SocioEcon -->\n",
       "<g id=\"node1\" class=\"node\">\n",
       "<title>SocioEcon</title>\n",
       "<ellipse fill=\"none\" stroke=\"black\" cx=\"572.07\" cy=\"-726\" rx=\"50.84\" ry=\"18\"/>\n",
       "<text text-anchor=\"middle\" x=\"572.07\" y=\"-720.95\" font-family=\"Times,serif\" font-size=\"14.00\">SocioEcon</text>\n",
       "</g>\n",
       "<!-- GoodStudent -->\n",
       "<g id=\"node2\" class=\"node\">\n",
       "<title>GoodStudent</title>\n",
       "<ellipse fill=\"none\" stroke=\"black\" cx=\"287.07\" cy=\"-637.5\" rx=\"59.54\" ry=\"18\"/>\n",
       "<text text-anchor=\"middle\" x=\"287.07\" y=\"-632.45\" font-family=\"Times,serif\" font-size=\"14.00\">GoodStudent</text>\n",
       "</g>\n",
       "<!-- SocioEcon&#45;&gt;GoodStudent -->\n",
       "<g id=\"edge2\" class=\"edge\">\n",
       "<title>SocioEcon&#45;&gt;GoodStudent</title>\n",
       "<path fill=\"none\" stroke=\"black\" d=\"M529.5,-715.73C501.13,-709.25 463.12,-700 430.07,-690 397.18,-680.05 360.75,-666.9 332.89,-656.38\"/>\n",
       "<polygon fill=\"black\" stroke=\"black\" points=\"334.28,-653.16 323.69,-652.88 331.8,-659.71 334.28,-653.16\"/>\n",
       "<text text-anchor=\"middle\" x=\"442.07\" y=\"-676.7\" font-family=\"Times,serif\" font-size=\"14.00\">1.00</text>\n",
       "</g>\n",
       "<!-- RiskAversion -->\n",
       "<g id=\"node4\" class=\"node\">\n",
       "<title>RiskAversion</title>\n",
       "<ellipse fill=\"none\" stroke=\"black\" cx=\"426.07\" cy=\"-637.5\" rx=\"61.59\" ry=\"18\"/>\n",
       "<text text-anchor=\"middle\" x=\"426.07\" y=\"-632.45\" font-family=\"Times,serif\" font-size=\"14.00\">RiskAversion</text>\n",
       "</g>\n",
       "<!-- SocioEcon&#45;&gt;RiskAversion -->\n",
       "<g id=\"edge4\" class=\"edge\">\n",
       "<title>SocioEcon&#45;&gt;RiskAversion</title>\n",
       "<path fill=\"none\" stroke=\"black\" d=\"M532.37,-714.35C514.91,-708.65 494.65,-700.59 478.07,-690 466.75,-682.77 455.92,-672.74 447.1,-663.45\"/>\n",
       "<polygon fill=\"black\" stroke=\"black\" points=\"449.95,-661.38 440.63,-656.34 444.78,-666.09 449.95,-661.38\"/>\n",
       "<text text-anchor=\"middle\" x=\"490.07\" y=\"-676.7\" font-family=\"Times,serif\" font-size=\"14.00\">1.00</text>\n",
       "</g>\n",
       "<!-- VehicleYear -->\n",
       "<g id=\"node5\" class=\"node\">\n",
       "<title>VehicleYear</title>\n",
       "<ellipse fill=\"none\" stroke=\"black\" cx=\"641.07\" cy=\"-460.5\" rx=\"55.96\" ry=\"18\"/>\n",
       "<text text-anchor=\"middle\" x=\"641.07\" y=\"-455.45\" font-family=\"Times,serif\" font-size=\"14.00\">VehicleYear</text>\n",
       "</g>\n",
       "<!-- SocioEcon&#45;&gt;VehicleYear -->\n",
       "<g id=\"edge6\" class=\"edge\">\n",
       "<title>SocioEcon&#45;&gt;VehicleYear</title>\n",
       "<path fill=\"none\" stroke=\"black\" d=\"M576.6,-707.71C588.24,-663.23 619.33,-544.5 633.66,-489.8\"/>\n",
       "<polygon fill=\"black\" stroke=\"black\" points=\"636.99,-490.88 636.14,-480.32 630.22,-489.1 636.99,-490.88\"/>\n",
       "<text text-anchor=\"middle\" x=\"620.16\" y=\"-588.2\" font-family=\"Times,serif\" font-size=\"14.00\">1.00</text>\n",
       "</g>\n",
       "<!-- MakeModel -->\n",
       "<g id=\"node9\" class=\"node\">\n",
       "<title>MakeModel</title>\n",
       "<ellipse fill=\"none\" stroke=\"black\" cx=\"510.07\" cy=\"-460.5\" rx=\"56.98\" ry=\"18\"/>\n",
       "<text text-anchor=\"middle\" x=\"510.07\" y=\"-455.45\" font-family=\"Times,serif\" font-size=\"14.00\">MakeModel</text>\n",
       "</g>\n",
       "<!-- SocioEcon&#45;&gt;MakeModel -->\n",
       "<g id=\"edge15\" class=\"edge\">\n",
       "<title>SocioEcon&#45;&gt;MakeModel</title>\n",
       "<path fill=\"none\" stroke=\"black\" d=\"M561.22,-708.28C547,-685.3 522.75,-642.19 513.07,-601.5 504.06,-563.63 505.15,-518.36 507.22,-489.77\"/>\n",
       "<polygon fill=\"black\" stroke=\"black\" points=\"510.69,-490.36 508.02,-480.11 503.71,-489.79 510.69,-490.36\"/>\n",
       "<text text-anchor=\"middle\" x=\"525.07\" y=\"-588.2\" font-family=\"Times,serif\" font-size=\"14.00\">1.00</text>\n",
       "</g>\n",
       "<!-- AntiTheft -->\n",
       "<g id=\"node18\" class=\"node\">\n",
       "<title>AntiTheft</title>\n",
       "<ellipse fill=\"none\" stroke=\"black\" cx=\"824.07\" cy=\"-549\" rx=\"47.26\" ry=\"18\"/>\n",
       "<text text-anchor=\"middle\" x=\"824.07\" y=\"-543.95\" font-family=\"Times,serif\" font-size=\"14.00\">AntiTheft</text>\n",
       "</g>\n",
       "<!-- SocioEcon&#45;&gt;AntiTheft -->\n",
       "<g id=\"edge34\" class=\"edge\">\n",
       "<title>SocioEcon&#45;&gt;AntiTheft</title>\n",
       "<path fill=\"none\" stroke=\"black\" d=\"M622.84,-724.54C675.13,-721.1 754.79,-707.01 797.07,-655.5 814.86,-633.82 821.1,-601.84 823.2,-578.78\"/>\n",
       "<polygon fill=\"black\" stroke=\"black\" points=\"826.69,-579.04 823.87,-568.83 819.71,-578.57 826.69,-579.04\"/>\n",
       "<text text-anchor=\"middle\" x=\"827.01\" y=\"-632.45\" font-family=\"Times,serif\" font-size=\"14.00\">1.00</text>\n",
       "</g>\n",
       "<!-- HomeBase -->\n",
       "<g id=\"node19\" class=\"node\">\n",
       "<title>HomeBase</title>\n",
       "<ellipse fill=\"none\" stroke=\"black\" cx=\"690.07\" cy=\"-549\" rx=\"51.86\" ry=\"18\"/>\n",
       "<text text-anchor=\"middle\" x=\"690.07\" y=\"-543.95\" font-family=\"Times,serif\" font-size=\"14.00\">HomeBase</text>\n",
       "</g>\n",
       "<!-- SocioEcon&#45;&gt;HomeBase -->\n",
       "<g id=\"edge36\" class=\"edge\">\n",
       "<title>SocioEcon&#45;&gt;HomeBase</title>\n",
       "<path fill=\"none\" stroke=\"black\" d=\"M599.37,-710.54C608.06,-704.97 617.19,-698.01 624.07,-690 639.39,-672.16 664.62,-613.25 679.04,-577.79\"/>\n",
       "<polygon fill=\"black\" stroke=\"black\" points=\"682.26,-579.16 682.75,-568.58 675.77,-576.55 682.26,-579.16\"/>\n",
       "<text text-anchor=\"middle\" x=\"672.81\" y=\"-632.45\" font-family=\"Times,serif\" font-size=\"14.00\">1.00</text>\n",
       "</g>\n",
       "<!-- OtherCar -->\n",
       "<g id=\"node22\" class=\"node\">\n",
       "<title>OtherCar</title>\n",
       "<ellipse fill=\"none\" stroke=\"black\" cx=\"743.07\" cy=\"-637.5\" rx=\"45.21\" ry=\"18\"/>\n",
       "<text text-anchor=\"middle\" x=\"743.07\" y=\"-632.45\" font-family=\"Times,serif\" font-size=\"14.00\">OtherCar</text>\n",
       "</g>\n",
       "<!-- SocioEcon&#45;&gt;OtherCar -->\n",
       "<g id=\"edge42\" class=\"edge\">\n",
       "<title>SocioEcon&#45;&gt;OtherCar</title>\n",
       "<path fill=\"none\" stroke=\"black\" d=\"M610.78,-713.86C629.22,-707.88 651.31,-699.74 670.07,-690 685.69,-681.89 701.8,-670.86 714.9,-661.08\"/>\n",
       "<polygon fill=\"black\" stroke=\"black\" points=\"716.83,-664.01 722.66,-655.16 712.58,-658.45 716.83,-664.01\"/>\n",
       "<text text-anchor=\"middle\" x=\"709.36\" y=\"-676.7\" font-family=\"Times,serif\" font-size=\"14.00\">1.00</text>\n",
       "</g>\n",
       "<!-- Age -->\n",
       "<g id=\"node3\" class=\"node\">\n",
       "<title>Age</title>\n",
       "<ellipse fill=\"none\" stroke=\"black\" cx=\"226.07\" cy=\"-814.5\" rx=\"27\" ry=\"18\"/>\n",
       "<text text-anchor=\"middle\" x=\"226.07\" y=\"-809.45\" font-family=\"Times,serif\" font-size=\"14.00\">Age</text>\n",
       "</g>\n",
       "<!-- Age&#45;&gt;SocioEcon -->\n",
       "<g id=\"edge1\" class=\"edge\">\n",
       "<title>Age&#45;&gt;SocioEcon</title>\n",
       "<path fill=\"none\" stroke=\"black\" d=\"M252.5,-809.39C288.1,-803.64 353.31,-792.31 408.07,-778.5 448.49,-768.3 493.64,-753.9 526.31,-742.91\"/>\n",
       "<polygon fill=\"black\" stroke=\"black\" points=\"527.11,-746.34 535.46,-739.82 524.86,-739.71 527.11,-746.34\"/>\n",
       "<text text-anchor=\"middle\" x=\"474.68\" y=\"-765.2\" font-family=\"Times,serif\" font-size=\"14.00\">1.00</text>\n",
       "</g>\n",
       "<!-- Age&#45;&gt;GoodStudent -->\n",
       "<g id=\"edge3\" class=\"edge\">\n",
       "<title>Age&#45;&gt;GoodStudent</title>\n",
       "<path fill=\"none\" stroke=\"black\" d=\"M231.92,-796.72C242.43,-766.56 264.61,-702.92 277.41,-666.21\"/>\n",
       "<polygon fill=\"black\" stroke=\"black\" points=\"280.57,-667.77 280.56,-657.17 273.96,-665.46 280.57,-667.77\"/>\n",
       "<text text-anchor=\"middle\" x=\"274.63\" y=\"-720.95\" font-family=\"Times,serif\" font-size=\"14.00\">1.00</text>\n",
       "</g>\n",
       "<!-- Age&#45;&gt;RiskAversion -->\n",
       "<g id=\"edge5\" class=\"edge\">\n",
       "<title>Age&#45;&gt;RiskAversion</title>\n",
       "<path fill=\"none\" stroke=\"black\" d=\"M243.94,-800.69C273.48,-779.18 333.81,-733.86 380.07,-690 388.59,-681.92 397.33,-672.48 404.87,-663.91\"/>\n",
       "<polygon fill=\"black\" stroke=\"black\" points=\"407.35,-666.38 411.24,-656.53 402.05,-661.81 407.35,-666.38\"/>\n",
       "<text text-anchor=\"middle\" x=\"372.29\" y=\"-720.95\" font-family=\"Times,serif\" font-size=\"14.00\">1.00</text>\n",
       "</g>\n",
       "<!-- DrivingSkill -->\n",
       "<g id=\"node13\" class=\"node\">\n",
       "<title>DrivingSkill</title>\n",
       "<ellipse fill=\"none\" stroke=\"black\" cx=\"168.07\" cy=\"-460.5\" rx=\"56.98\" ry=\"18\"/>\n",
       "<text text-anchor=\"middle\" x=\"168.07\" y=\"-455.45\" font-family=\"Times,serif\" font-size=\"14.00\">DrivingSkill</text>\n",
       "</g>\n",
       "<!-- Age&#45;&gt;DrivingSkill -->\n",
       "<g id=\"edge21\" class=\"edge\">\n",
       "<title>Age&#45;&gt;DrivingSkill</title>\n",
       "<path fill=\"none\" stroke=\"black\" d=\"M217.93,-797.01C199.24,-758.13 153.69,-657.22 138.07,-567 135.34,-551.23 134.83,-546.67 138.07,-531 141.07,-516.47 147.26,-501.23 153.24,-488.74\"/>\n",
       "<polygon fill=\"black\" stroke=\"black\" points=\"156.32,-490.42 157.68,-479.91 150.06,-487.28 156.32,-490.42\"/>\n",
       "<text text-anchor=\"middle\" x=\"172.52\" y=\"-632.45\" font-family=\"Times,serif\" font-size=\"14.00\">1.00</text>\n",
       "</g>\n",
       "<!-- SeniorTrain -->\n",
       "<g id=\"node14\" class=\"node\">\n",
       "<title>SeniorTrain</title>\n",
       "<ellipse fill=\"none\" stroke=\"black\" cx=\"202.07\" cy=\"-549\" rx=\"54.93\" ry=\"18\"/>\n",
       "<text text-anchor=\"middle\" x=\"202.07\" y=\"-543.95\" font-family=\"Times,serif\" font-size=\"14.00\">SeniorTrain</text>\n",
       "</g>\n",
       "<!-- Age&#45;&gt;SeniorTrain -->\n",
       "<g id=\"edge23\" class=\"edge\">\n",
       "<title>Age&#45;&gt;SeniorTrain</title>\n",
       "<path fill=\"none\" stroke=\"black\" d=\"M224.49,-796.21C220.45,-751.82 209.67,-633.49 204.68,-578.65\"/>\n",
       "<polygon fill=\"black\" stroke=\"black\" points=\"208.18,-578.5 203.79,-568.86 201.21,-579.14 208.18,-578.5\"/>\n",
       "<text text-anchor=\"middle\" x=\"226.62\" y=\"-676.7\" font-family=\"Times,serif\" font-size=\"14.00\">1.00</text>\n",
       "</g>\n",
       "<!-- MedCost -->\n",
       "<g id=\"node23\" class=\"node\">\n",
       "<title>MedCost</title>\n",
       "<ellipse fill=\"none\" stroke=\"black\" cx=\"365.07\" cy=\"-195\" rx=\"45.21\" ry=\"18\"/>\n",
       "<text text-anchor=\"middle\" x=\"365.07\" y=\"-189.95\" font-family=\"Times,serif\" font-size=\"14.00\">MedCost</text>\n",
       "</g>\n",
       "<!-- Age&#45;&gt;MedCost -->\n",
       "<g id=\"edge43\" class=\"edge\">\n",
       "<title>Age&#45;&gt;MedCost</title>\n",
       "<path fill=\"none\" stroke=\"black\" d=\"M199.61,-810.16C157.04,-803.16 78.07,-782.65 78.07,-727 78.07,-727 78.07,-727 78.07,-282.5 78.07,-234.6 226.48,-210.86 309.86,-201.3\"/>\n",
       "<polygon fill=\"black\" stroke=\"black\" points=\"310.11,-204.8 319.66,-200.21 309.34,-197.84 310.11,-204.8\"/>\n",
       "<text text-anchor=\"middle\" x=\"90.07\" y=\"-499.7\" font-family=\"Times,serif\" font-size=\"14.00\">1.00</text>\n",
       "</g>\n",
       "<!-- RiskAversion&#45;&gt;VehicleYear -->\n",
       "<g id=\"edge7\" class=\"edge\">\n",
       "<title>RiskAversion&#45;&gt;VehicleYear</title>\n",
       "<path fill=\"none\" stroke=\"black\" d=\"M431.31,-619.35C435.22,-608.61 441.39,-594.97 450.07,-585 491.66,-537.23 556.12,-500.84 598.46,-480.32\"/>\n",
       "<polygon fill=\"black\" stroke=\"black\" points=\"599.82,-483.55 607.35,-476.1 596.82,-477.22 599.82,-483.55\"/>\n",
       "<text text-anchor=\"middle\" x=\"521.32\" y=\"-543.95\" font-family=\"Times,serif\" font-size=\"14.00\">1.00</text>\n",
       "</g>\n",
       "<!-- RiskAversion&#45;&gt;MakeModel -->\n",
       "<g id=\"edge16\" class=\"edge\">\n",
       "<title>RiskAversion&#45;&gt;MakeModel</title>\n",
       "<path fill=\"none\" stroke=\"black\" d=\"M419.62,-619.39C412.54,-597.63 403.91,-559.45 418.07,-531 428.78,-509.48 449.68,-492.86 468.86,-481.28\"/>\n",
       "<polygon fill=\"black\" stroke=\"black\" points=\"470.4,-484.43 477.35,-476.43 466.93,-478.35 470.4,-484.43\"/>\n",
       "<text text-anchor=\"middle\" x=\"430.07\" y=\"-543.95\" font-family=\"Times,serif\" font-size=\"14.00\">1.00</text>\n",
       "</g>\n",
       "<!-- DrivQuality -->\n",
       "<g id=\"node12\" class=\"node\">\n",
       "<title>DrivQuality</title>\n",
       "<ellipse fill=\"none\" stroke=\"black\" cx=\"163.07\" cy=\"-372\" rx=\"55.45\" ry=\"18\"/>\n",
       "<text text-anchor=\"middle\" x=\"163.07\" y=\"-366.95\" font-family=\"Times,serif\" font-size=\"14.00\">DrivQuality</text>\n",
       "</g>\n",
       "<!-- RiskAversion&#45;&gt;DrivQuality -->\n",
       "<g id=\"edge19\" class=\"edge\">\n",
       "<title>RiskAversion&#45;&gt;DrivQuality</title>\n",
       "<path fill=\"none\" stroke=\"black\" d=\"M409.72,-619.8C376.69,-586.11 299.59,-507.66 234.07,-442.5 218.88,-427.39 201.71,-410.58 188.06,-397.28\"/>\n",
       "<polygon fill=\"black\" stroke=\"black\" points=\"190.76,-395.02 181.15,-390.55 185.88,-400.03 190.76,-395.02\"/>\n",
       "<text text-anchor=\"middle\" x=\"315.4\" y=\"-499.7\" font-family=\"Times,serif\" font-size=\"14.00\">1.00</text>\n",
       "</g>\n",
       "<!-- RiskAversion&#45;&gt;SeniorTrain -->\n",
       "<g id=\"edge24\" class=\"edge\">\n",
       "<title>RiskAversion&#45;&gt;SeniorTrain</title>\n",
       "<path fill=\"none\" stroke=\"black\" d=\"M380.62,-624.94C372.47,-623.02 364.03,-621.12 356.07,-619.5 307.96,-609.7 289.96,-625.39 247.07,-601.5 236.18,-595.43 226.65,-585.68 219.2,-576.28\"/>\n",
       "<polygon fill=\"black\" stroke=\"black\" points=\"222.12,-574.35 213.37,-568.38 216.49,-578.5 222.12,-574.35\"/>\n",
       "<text text-anchor=\"middle\" x=\"259.07\" y=\"-588.2\" font-family=\"Times,serif\" font-size=\"14.00\">1.00</text>\n",
       "</g>\n",
       "<!-- RiskAversion&#45;&gt;AntiTheft -->\n",
       "<g id=\"edge35\" class=\"edge\">\n",
       "<title>RiskAversion&#45;&gt;AntiTheft</title>\n",
       "<path fill=\"none\" stroke=\"black\" d=\"M473.84,-625.72C495.04,-619.99 519.93,-611.95 541.07,-601.5 552.35,-595.93 552.29,-589.42 564.07,-585 642.24,-555.65 668.67,-580.5 751.07,-567 758.66,-565.76 766.64,-564.18 774.42,-562.49\"/>\n",
       "<polygon fill=\"black\" stroke=\"black\" points=\"775.16,-565.91 784.14,-560.3 773.61,-559.09 775.16,-565.91\"/>\n",
       "<text text-anchor=\"middle\" x=\"576.07\" y=\"-588.2\" font-family=\"Times,serif\" font-size=\"14.00\">1.00</text>\n",
       "</g>\n",
       "<!-- RiskAversion&#45;&gt;HomeBase -->\n",
       "<g id=\"edge37\" class=\"edge\">\n",
       "<title>RiskAversion&#45;&gt;HomeBase</title>\n",
       "<path fill=\"none\" stroke=\"black\" d=\"M436.14,-619.32C443.89,-607.7 455.71,-593.05 470.07,-585 496.58,-570.14 573.47,-560.34 628.88,-554.98\"/>\n",
       "<polygon fill=\"black\" stroke=\"black\" points=\"628.86,-558.49 638.49,-554.08 628.21,-551.53 628.86,-558.49\"/>\n",
       "<text text-anchor=\"middle\" x=\"482.07\" y=\"-588.2\" font-family=\"Times,serif\" font-size=\"14.00\">1.00</text>\n",
       "</g>\n",
       "<!-- DrivHist -->\n",
       "<g id=\"node27\" class=\"node\">\n",
       "<title>DrivHist</title>\n",
       "<ellipse fill=\"none\" stroke=\"black\" cx=\"280.07\" cy=\"-372\" rx=\"43.16\" ry=\"18\"/>\n",
       "<text text-anchor=\"middle\" x=\"280.07\" y=\"-366.95\" font-family=\"Times,serif\" font-size=\"14.00\">DrivHist</text>\n",
       "</g>\n",
       "<!-- RiskAversion&#45;&gt;DrivHist -->\n",
       "<g id=\"edge51\" class=\"edge\">\n",
       "<title>RiskAversion&#45;&gt;DrivHist</title>\n",
       "<path fill=\"none\" stroke=\"black\" d=\"M416.71,-619.62C391.99,-575 324.77,-453.68 294.82,-399.62\"/>\n",
       "<polygon fill=\"black\" stroke=\"black\" points=\"297.99,-398.12 290.08,-391.07 291.86,-401.51 297.99,-398.12\"/>\n",
       "<text text-anchor=\"middle\" x=\"368.44\" y=\"-499.7\" font-family=\"Times,serif\" font-size=\"14.00\">1.00</text>\n",
       "</g>\n",
       "<!-- RuggedAuto -->\n",
       "<g id=\"node8\" class=\"node\">\n",
       "<title>RuggedAuto</title>\n",
       "<ellipse fill=\"none\" stroke=\"black\" cx=\"655.07\" cy=\"-372\" rx=\"58\" ry=\"18\"/>\n",
       "<text text-anchor=\"middle\" x=\"655.07\" y=\"-366.95\" font-family=\"Times,serif\" font-size=\"14.00\">RuggedAuto</text>\n",
       "</g>\n",
       "<!-- VehicleYear&#45;&gt;RuggedAuto -->\n",
       "<g id=\"edge13\" class=\"edge\">\n",
       "<title>VehicleYear&#45;&gt;RuggedAuto</title>\n",
       "<path fill=\"none\" stroke=\"black\" d=\"M657.9,-443.13C662.42,-437.68 666.7,-431.26 669.07,-424.5 671.75,-416.86 670.97,-408.44 668.78,-400.66\"/>\n",
       "<polygon fill=\"black\" stroke=\"black\" points=\"672.07,-399.48 665.33,-391.31 665.5,-401.9 672.07,-399.48\"/>\n",
       "<text text-anchor=\"middle\" x=\"682.77\" y=\"-411.2\" font-family=\"Times,serif\" font-size=\"14.00\">1.00</text>\n",
       "</g>\n",
       "<!-- Antilock -->\n",
       "<g id=\"node10\" class=\"node\">\n",
       "<title>Antilock</title>\n",
       "<ellipse fill=\"none\" stroke=\"black\" cx=\"444.07\" cy=\"-372\" rx=\"43.16\" ry=\"18\"/>\n",
       "<text text-anchor=\"middle\" x=\"444.07\" y=\"-366.95\" font-family=\"Times,serif\" font-size=\"14.00\">Antilock</text>\n",
       "</g>\n",
       "<!-- VehicleYear&#45;&gt;Antilock -->\n",
       "<g id=\"edge17\" class=\"edge\">\n",
       "<title>VehicleYear&#45;&gt;Antilock</title>\n",
       "<path fill=\"none\" stroke=\"black\" d=\"M599.58,-448.1C591.8,-446.12 583.7,-444.16 576.07,-442.5 530.66,-432.61 511.01,-451.33 473.07,-424.5 464.64,-418.54 458.35,-409.31 453.83,-400.3\"/>\n",
       "<polygon fill=\"black\" stroke=\"black\" points=\"457.15,-399.16 449.92,-391.42 450.75,-401.98 457.15,-399.16\"/>\n",
       "<text text-anchor=\"middle\" x=\"485.07\" y=\"-411.2\" font-family=\"Times,serif\" font-size=\"14.00\">1.00</text>\n",
       "</g>\n",
       "<!-- CarValue -->\n",
       "<g id=\"node16\" class=\"node\">\n",
       "<title>CarValue</title>\n",
       "<ellipse fill=\"none\" stroke=\"black\" cx=\"776.07\" cy=\"-372\" rx=\"45.21\" ry=\"18\"/>\n",
       "<text text-anchor=\"middle\" x=\"776.07\" y=\"-366.95\" font-family=\"Times,serif\" font-size=\"14.00\">CarValue</text>\n",
       "</g>\n",
       "<!-- VehicleYear&#45;&gt;CarValue -->\n",
       "<g id=\"edge28\" class=\"edge\">\n",
       "<title>VehicleYear&#45;&gt;CarValue</title>\n",
       "<path fill=\"none\" stroke=\"black\" d=\"M695.6,-455.85C719.26,-451.54 745.52,-442.62 763.07,-424.5 769,-418.38 772.34,-409.96 774.19,-401.71\"/>\n",
       "<polygon fill=\"black\" stroke=\"black\" points=\"777.64,-402.31 775.7,-391.9 770.72,-401.25 777.64,-402.31\"/>\n",
       "<text text-anchor=\"middle\" x=\"784.26\" y=\"-411.2\" font-family=\"Times,serif\" font-size=\"14.00\">1.00</text>\n",
       "</g>\n",
       "<!-- Airbag -->\n",
       "<g id=\"node25\" class=\"node\">\n",
       "<title>Airbag</title>\n",
       "<ellipse fill=\"none\" stroke=\"black\" cx=\"542.07\" cy=\"-372\" rx=\"36.51\" ry=\"18\"/>\n",
       "<text text-anchor=\"middle\" x=\"542.07\" y=\"-366.95\" font-family=\"Times,serif\" font-size=\"14.00\">Airbag</text>\n",
       "</g>\n",
       "<!-- VehicleYear&#45;&gt;Airbag -->\n",
       "<g id=\"edge48\" class=\"edge\">\n",
       "<title>VehicleYear&#45;&gt;Airbag</title>\n",
       "<path fill=\"none\" stroke=\"black\" d=\"M600.19,-447.91C579.67,-441.28 557.76,-432.67 551.07,-424.5 545.75,-418.01 543.1,-409.49 541.88,-401.26\"/>\n",
       "<polygon fill=\"black\" stroke=\"black\" points=\"545.39,-401.24 541.11,-391.55 538.42,-401.8 545.39,-401.24\"/>\n",
       "<text text-anchor=\"middle\" x=\"563.07\" y=\"-411.2\" font-family=\"Times,serif\" font-size=\"14.00\">1.00</text>\n",
       "</g>\n",
       "<!-- Accident -->\n",
       "<g id=\"node6\" class=\"node\">\n",
       "<title>Accident</title>\n",
       "<ellipse fill=\"none\" stroke=\"black\" cx=\"365.07\" cy=\"-283.5\" rx=\"44.19\" ry=\"18\"/>\n",
       "<text text-anchor=\"middle\" x=\"365.07\" y=\"-278.45\" font-family=\"Times,serif\" font-size=\"14.00\">Accident</text>\n",
       "</g>\n",
       "<!-- ThisCarDam -->\n",
       "<g id=\"node7\" class=\"node\">\n",
       "<title>ThisCarDam</title>\n",
       "<ellipse fill=\"none\" stroke=\"black\" cx=\"689.07\" cy=\"-195\" rx=\"59.03\" ry=\"18\"/>\n",
       "<text text-anchor=\"middle\" x=\"689.07\" y=\"-189.95\" font-family=\"Times,serif\" font-size=\"14.00\">ThisCarDam</text>\n",
       "</g>\n",
       "<!-- Accident&#45;&gt;ThisCarDam -->\n",
       "<g id=\"edge11\" class=\"edge\">\n",
       "<title>Accident&#45;&gt;ThisCarDam</title>\n",
       "<path fill=\"none\" stroke=\"black\" d=\"M405.74,-275.97C441.45,-269.86 494.62,-259.84 540.07,-247.5 575.08,-237.99 613.79,-224.52 642.97,-213.74\"/>\n",
       "<polygon fill=\"black\" stroke=\"black\" points=\"644.1,-217.06 652.25,-210.29 641.65,-210.5 644.1,-217.06\"/>\n",
       "<text text-anchor=\"middle\" x=\"605.93\" y=\"-234.2\" font-family=\"Times,serif\" font-size=\"14.00\">1.00</text>\n",
       "</g>\n",
       "<!-- OtherCarCost -->\n",
       "<g id=\"node20\" class=\"node\">\n",
       "<title>OtherCarCost</title>\n",
       "<ellipse fill=\"none\" stroke=\"black\" cx=\"550.07\" cy=\"-195\" rx=\"62.1\" ry=\"18\"/>\n",
       "<text text-anchor=\"middle\" x=\"550.07\" y=\"-189.95\" font-family=\"Times,serif\" font-size=\"14.00\">OtherCarCost</text>\n",
       "</g>\n",
       "<!-- Accident&#45;&gt;OtherCarCost -->\n",
       "<g id=\"edge38\" class=\"edge\">\n",
       "<title>Accident&#45;&gt;OtherCarCost</title>\n",
       "<path fill=\"none\" stroke=\"black\" d=\"M405.16,-275.5C430.01,-270.11 462.05,-261.22 488.07,-247.5 501.51,-240.41 514.7,-230.07 525.44,-220.51\"/>\n",
       "<polygon fill=\"black\" stroke=\"black\" points=\"527.76,-223.14 532.72,-213.78 523,-218 527.76,-223.14\"/>\n",
       "<text text-anchor=\"middle\" x=\"524\" y=\"-234.2\" font-family=\"Times,serif\" font-size=\"14.00\">1.00</text>\n",
       "</g>\n",
       "<!-- Accident&#45;&gt;MedCost -->\n",
       "<g id=\"edge44\" class=\"edge\">\n",
       "<title>Accident&#45;&gt;MedCost</title>\n",
       "<path fill=\"none\" stroke=\"black\" d=\"M365.07,-265.41C365.07,-253.76 365.07,-238.05 365.07,-224.52\"/>\n",
       "<polygon fill=\"black\" stroke=\"black\" points=\"368.57,-224.86 365.07,-214.86 361.57,-224.86 368.57,-224.86\"/>\n",
       "<text text-anchor=\"middle\" x=\"377.07\" y=\"-234.2\" font-family=\"Times,serif\" font-size=\"14.00\">1.00</text>\n",
       "</g>\n",
       "<!-- ILiCost -->\n",
       "<g id=\"node26\" class=\"node\">\n",
       "<title>ILiCost</title>\n",
       "<ellipse fill=\"none\" stroke=\"black\" cx=\"39.07\" cy=\"-195\" rx=\"39.07\" ry=\"18\"/>\n",
       "<text text-anchor=\"middle\" x=\"39.07\" y=\"-189.95\" font-family=\"Times,serif\" font-size=\"14.00\">ILiCost</text>\n",
       "</g>\n",
       "<!-- Accident&#45;&gt;ILiCost -->\n",
       "<g id=\"edge50\" class=\"edge\">\n",
       "<title>Accident&#45;&gt;ILiCost</title>\n",
       "<path fill=\"none\" stroke=\"black\" d=\"M328.62,-272.83C268.43,-256.86 148.47,-225.03 83.44,-207.77\"/>\n",
       "<polygon fill=\"black\" stroke=\"black\" points=\"84.37,-204.4 73.81,-205.22 82.58,-211.17 84.37,-204.4\"/>\n",
       "<text text-anchor=\"middle\" x=\"243.27\" y=\"-234.2\" font-family=\"Times,serif\" font-size=\"14.00\">1.00</text>\n",
       "</g>\n",
       "<!-- ThisCarCost -->\n",
       "<g id=\"node15\" class=\"node\">\n",
       "<title>ThisCarCost</title>\n",
       "<ellipse fill=\"none\" stroke=\"black\" cx=\"744.07\" cy=\"-106.5\" rx=\"57.49\" ry=\"18\"/>\n",
       "<text text-anchor=\"middle\" x=\"744.07\" y=\"-101.45\" font-family=\"Times,serif\" font-size=\"14.00\">ThisCarCost</text>\n",
       "</g>\n",
       "<!-- ThisCarDam&#45;&gt;ThisCarCost -->\n",
       "<g id=\"edge25\" class=\"edge\">\n",
       "<title>ThisCarDam&#45;&gt;ThisCarCost</title>\n",
       "<path fill=\"none\" stroke=\"black\" d=\"M699.93,-176.91C707.69,-164.71 718.28,-148.05 727.14,-134.12\"/>\n",
       "<polygon fill=\"black\" stroke=\"black\" points=\"730,-136.15 732.41,-125.83 724.09,-132.39 730,-136.15\"/>\n",
       "<text text-anchor=\"middle\" x=\"733.49\" y=\"-145.7\" font-family=\"Times,serif\" font-size=\"14.00\">1.00</text>\n",
       "</g>\n",
       "<!-- RuggedAuto&#45;&gt;ThisCarDam -->\n",
       "<g id=\"edge12\" class=\"edge\">\n",
       "<title>RuggedAuto&#45;&gt;ThisCarDam</title>\n",
       "<path fill=\"none\" stroke=\"black\" d=\"M658.45,-353.58C664.33,-323.31 676.49,-260.76 683.58,-224.22\"/>\n",
       "<polygon fill=\"black\" stroke=\"black\" points=\"686.94,-225.32 685.41,-214.83 680.07,-223.98 686.94,-225.32\"/>\n",
       "<text text-anchor=\"middle\" x=\"687.45\" y=\"-278.45\" font-family=\"Times,serif\" font-size=\"14.00\">1.00</text>\n",
       "</g>\n",
       "<!-- RuggedAuto&#45;&gt;OtherCarCost -->\n",
       "<g id=\"edge39\" class=\"edge\">\n",
       "<title>RuggedAuto&#45;&gt;OtherCarCost</title>\n",
       "<path fill=\"none\" stroke=\"black\" d=\"M651.87,-353.7C645.48,-320.65 630.44,-250.1 615.07,-231 610.21,-224.96 604.02,-219.82 597.4,-215.5\"/>\n",
       "<polygon fill=\"black\" stroke=\"black\" points=\"599.2,-212.5 588.8,-210.49 595.68,-218.55 599.2,-212.5\"/>\n",
       "<text text-anchor=\"middle\" x=\"652.1\" y=\"-278.45\" font-family=\"Times,serif\" font-size=\"14.00\">1.00</text>\n",
       "</g>\n",
       "<!-- Cushioning -->\n",
       "<g id=\"node24\" class=\"node\">\n",
       "<title>Cushioning</title>\n",
       "<ellipse fill=\"none\" stroke=\"black\" cx=\"540.07\" cy=\"-283.5\" rx=\"53.4\" ry=\"18\"/>\n",
       "<text text-anchor=\"middle\" x=\"540.07\" y=\"-278.45\" font-family=\"Times,serif\" font-size=\"14.00\">Cushioning</text>\n",
       "</g>\n",
       "<!-- RuggedAuto&#45;&gt;Cushioning -->\n",
       "<g id=\"edge46\" class=\"edge\">\n",
       "<title>RuggedAuto&#45;&gt;Cushioning</title>\n",
       "<path fill=\"none\" stroke=\"black\" d=\"M624.01,-356.34C613.16,-350.62 601.19,-343.62 591.07,-336 580.71,-328.2 570.42,-318.33 561.83,-309.33\"/>\n",
       "<polygon fill=\"black\" stroke=\"black\" points=\"564.56,-307.12 555.2,-302.16 559.43,-311.88 564.56,-307.12\"/>\n",
       "<text text-anchor=\"middle\" x=\"603.07\" y=\"-322.7\" font-family=\"Times,serif\" font-size=\"14.00\">1.00</text>\n",
       "</g>\n",
       "<!-- MakeModel&#45;&gt;RuggedAuto -->\n",
       "<g id=\"edge14\" class=\"edge\">\n",
       "<title>MakeModel&#45;&gt;RuggedAuto</title>\n",
       "<path fill=\"none\" stroke=\"black\" d=\"M551.97,-447.91C581.29,-439.54 616.22,-428.96 622.07,-424.5 630.44,-418.11 637.28,-408.94 642.52,-400.1\"/>\n",
       "<polygon fill=\"black\" stroke=\"black\" points=\"645.54,-401.87 647.2,-391.4 639.38,-398.55 645.54,-401.87\"/>\n",
       "<text text-anchor=\"middle\" x=\"648.83\" y=\"-411.2\" font-family=\"Times,serif\" font-size=\"14.00\">1.00</text>\n",
       "</g>\n",
       "<!-- MakeModel&#45;&gt;Antilock -->\n",
       "<g id=\"edge18\" class=\"edge\">\n",
       "<title>MakeModel&#45;&gt;Antilock</title>\n",
       "<path fill=\"none\" stroke=\"black\" d=\"M469.09,-447.6C443.14,-439.65 413.78,-429.73 410.07,-424.5 403.63,-415.43 408.01,-405.24 415.49,-396.34\"/>\n",
       "<polygon fill=\"black\" stroke=\"black\" points=\"417.82,-398.96 422.3,-389.36 412.81,-394.08 417.82,-398.96\"/>\n",
       "<text text-anchor=\"middle\" x=\"422.07\" y=\"-411.2\" font-family=\"Times,serif\" font-size=\"14.00\">1.00</text>\n",
       "</g>\n",
       "<!-- MakeModel&#45;&gt;CarValue -->\n",
       "<g id=\"edge29\" class=\"edge\">\n",
       "<title>MakeModel&#45;&gt;CarValue</title>\n",
       "<path fill=\"none\" stroke=\"black\" d=\"M552.16,-447.94C560.07,-445.98 568.3,-444.06 576.07,-442.5 630.23,-431.59 647.51,-444.35 699.07,-424.5 716.87,-417.65 734.71,-406.09 748.73,-395.65\"/>\n",
       "<polygon fill=\"black\" stroke=\"black\" points=\"750.79,-398.48 756.57,-389.61 746.52,-392.94 750.79,-398.48\"/>\n",
       "<text text-anchor=\"middle\" x=\"742.53\" y=\"-411.2\" font-family=\"Times,serif\" font-size=\"14.00\">1.00</text>\n",
       "</g>\n",
       "<!-- MakeModel&#45;&gt;Airbag -->\n",
       "<g id=\"edge49\" class=\"edge\">\n",
       "<title>MakeModel&#45;&gt;Airbag</title>\n",
       "<path fill=\"none\" stroke=\"black\" d=\"M503.72,-442.14C500.99,-431.83 499.37,-418.72 504.07,-408 506.15,-403.25 509.23,-398.86 512.75,-394.91\"/>\n",
       "<polygon fill=\"black\" stroke=\"black\" points=\"515.09,-397.52 519.86,-388.05 510.23,-392.48 515.09,-397.52\"/>\n",
       "<text text-anchor=\"middle\" x=\"516.07\" y=\"-411.2\" font-family=\"Times,serif\" font-size=\"14.00\">1.00</text>\n",
       "</g>\n",
       "<!-- Antilock&#45;&gt;Accident -->\n",
       "<g id=\"edge8\" class=\"edge\">\n",
       "<title>Antilock&#45;&gt;Accident</title>\n",
       "<path fill=\"none\" stroke=\"black\" d=\"M429.21,-354.73C417.4,-341.8 400.7,-323.52 387.31,-308.85\"/>\n",
       "<polygon fill=\"black\" stroke=\"black\" points=\"390.21,-306.84 380.88,-301.81 385.04,-311.56 390.21,-306.84\"/>\n",
       "<text text-anchor=\"middle\" x=\"423.64\" y=\"-322.7\" font-family=\"Times,serif\" font-size=\"14.00\">1.00</text>\n",
       "</g>\n",
       "<!-- Mileage -->\n",
       "<g id=\"node11\" class=\"node\">\n",
       "<title>Mileage</title>\n",
       "<ellipse fill=\"none\" stroke=\"black\" cx=\"393.07\" cy=\"-460.5\" rx=\"41.63\" ry=\"18\"/>\n",
       "<text text-anchor=\"middle\" x=\"393.07\" y=\"-455.45\" font-family=\"Times,serif\" font-size=\"14.00\">Mileage</text>\n",
       "</g>\n",
       "<!-- Mileage&#45;&gt;Accident -->\n",
       "<g id=\"edge9\" class=\"edge\">\n",
       "<title>Mileage&#45;&gt;Accident</title>\n",
       "<path fill=\"none\" stroke=\"black\" d=\"M385.24,-442.5C379.29,-428.69 371.57,-408.52 368.07,-390 363.21,-364.29 362.84,-334.45 363.46,-313.07\"/>\n",
       "<polygon fill=\"black\" stroke=\"black\" points=\"366.94,-313.5 363.84,-303.37 359.95,-313.22 366.94,-313.5\"/>\n",
       "<text text-anchor=\"middle\" x=\"380.07\" y=\"-366.95\" font-family=\"Times,serif\" font-size=\"14.00\">1.00</text>\n",
       "</g>\n",
       "<!-- Mileage&#45;&gt;CarValue -->\n",
       "<g id=\"edge30\" class=\"edge\">\n",
       "<title>Mileage&#45;&gt;CarValue</title>\n",
       "<path fill=\"none\" stroke=\"black\" d=\"M424.09,-448.14C430.63,-446.04 437.52,-444.03 444.07,-442.5 501.3,-429.15 521.55,-448.78 575.07,-424.5 585.25,-419.88 583.89,-412.64 594.07,-408 646.35,-384.19 666.03,-402.67 722.07,-390 725.21,-389.29 728.44,-388.48 731.67,-387.61\"/>\n",
       "<polygon fill=\"black\" stroke=\"black\" points=\"732.5,-391.02 741.15,-384.9 730.57,-384.29 732.5,-391.02\"/>\n",
       "<text text-anchor=\"middle\" x=\"606.07\" y=\"-411.2\" font-family=\"Times,serif\" font-size=\"14.00\">1.00</text>\n",
       "</g>\n",
       "<!-- DrivQuality&#45;&gt;Accident -->\n",
       "<g id=\"edge10\" class=\"edge\">\n",
       "<title>DrivQuality&#45;&gt;Accident</title>\n",
       "<path fill=\"none\" stroke=\"black\" d=\"M195.52,-357.1C230.79,-342 287.18,-317.85 325.14,-301.6\"/>\n",
       "<polygon fill=\"black\" stroke=\"black\" points=\"326.12,-304.99 333.94,-297.83 323.36,-298.55 326.12,-304.99\"/>\n",
       "<text text-anchor=\"middle\" x=\"294.16\" y=\"-322.7\" font-family=\"Times,serif\" font-size=\"14.00\">1.00</text>\n",
       "</g>\n",
       "<!-- DrivingSkill&#45;&gt;DrivQuality -->\n",
       "<g id=\"edge20\" class=\"edge\">\n",
       "<title>DrivingSkill&#45;&gt;DrivQuality</title>\n",
       "<path fill=\"none\" stroke=\"black\" d=\"M167.08,-442.41C166.41,-430.76 165.5,-415.05 164.72,-401.52\"/>\n",
       "<polygon fill=\"black\" stroke=\"black\" points=\"168.23,-401.64 164.16,-391.86 161.24,-402.05 168.23,-401.64\"/>\n",
       "<text text-anchor=\"middle\" x=\"178.02\" y=\"-411.2\" font-family=\"Times,serif\" font-size=\"14.00\">1.00</text>\n",
       "</g>\n",
       "<!-- DrivingSkill&#45;&gt;DrivHist -->\n",
       "<g id=\"edge52\" class=\"edge\">\n",
       "<title>DrivingSkill&#45;&gt;DrivHist</title>\n",
       "<path fill=\"none\" stroke=\"black\" d=\"M188.87,-443.43C206.38,-429.91 231.6,-410.43 251.08,-395.39\"/>\n",
       "<polygon fill=\"black\" stroke=\"black\" points=\"253.16,-398.21 258.93,-389.32 248.88,-392.67 253.16,-398.21\"/>\n",
       "<text text-anchor=\"middle\" x=\"246.1\" y=\"-411.2\" font-family=\"Times,serif\" font-size=\"14.00\">1.00</text>\n",
       "</g>\n",
       "<!-- SeniorTrain&#45;&gt;DrivingSkill -->\n",
       "<g id=\"edge22\" class=\"edge\">\n",
       "<title>SeniorTrain&#45;&gt;DrivingSkill</title>\n",
       "<path fill=\"none\" stroke=\"black\" d=\"M195.35,-530.91C190.68,-519.02 184.34,-502.91 178.96,-489.2\"/>\n",
       "<polygon fill=\"black\" stroke=\"black\" points=\"182.36,-488.29 175.44,-480.26 175.84,-490.85 182.36,-488.29\"/>\n",
       "<text text-anchor=\"middle\" x=\"200.11\" y=\"-499.7\" font-family=\"Times,serif\" font-size=\"14.00\">1.00</text>\n",
       "</g>\n",
       "<!-- PropCost -->\n",
       "<g id=\"node21\" class=\"node\">\n",
       "<title>PropCost</title>\n",
       "<ellipse fill=\"none\" stroke=\"black\" cx=\"641.07\" cy=\"-18\" rx=\"45.21\" ry=\"18\"/>\n",
       "<text text-anchor=\"middle\" x=\"641.07\" y=\"-12.95\" font-family=\"Times,serif\" font-size=\"14.00\">PropCost</text>\n",
       "</g>\n",
       "<!-- ThisCarCost&#45;&gt;PropCost -->\n",
       "<g id=\"edge40\" class=\"edge\">\n",
       "<title>ThisCarCost&#45;&gt;PropCost</title>\n",
       "<path fill=\"none\" stroke=\"black\" d=\"M724.69,-89.23C708.81,-75.89 686.15,-56.86 668.42,-41.97\"/>\n",
       "<polygon fill=\"black\" stroke=\"black\" points=\"670.73,-39.34 660.82,-35.59 666.23,-44.7 670.73,-39.34\"/>\n",
       "<text text-anchor=\"middle\" x=\"713.79\" y=\"-57.2\" font-family=\"Times,serif\" font-size=\"14.00\">1.00</text>\n",
       "</g>\n",
       "<!-- CarValue&#45;&gt;ThisCarCost -->\n",
       "<g id=\"edge26\" class=\"edge\">\n",
       "<title>CarValue&#45;&gt;ThisCarCost</title>\n",
       "<path fill=\"none\" stroke=\"black\" d=\"M774.87,-353.55C772.43,-319.49 766.29,-241.83 757.07,-177 755.14,-163.46 752.43,-148.55 749.98,-136.01\"/>\n",
       "<polygon fill=\"black\" stroke=\"black\" points=\"753.44,-135.46 748.05,-126.34 746.58,-136.83 753.44,-135.46\"/>\n",
       "<text text-anchor=\"middle\" x=\"777.51\" y=\"-234.2\" font-family=\"Times,serif\" font-size=\"14.00\">1.00</text>\n",
       "</g>\n",
       "<!-- Theft -->\n",
       "<g id=\"node17\" class=\"node\">\n",
       "<title>Theft</title>\n",
       "<ellipse fill=\"none\" stroke=\"black\" cx=\"842.07\" cy=\"-283.5\" rx=\"30.88\" ry=\"18\"/>\n",
       "<text text-anchor=\"middle\" x=\"842.07\" y=\"-278.45\" font-family=\"Times,serif\" font-size=\"14.00\">Theft</text>\n",
       "</g>\n",
       "<!-- CarValue&#45;&gt;Theft -->\n",
       "<g id=\"edge31\" class=\"edge\">\n",
       "<title>CarValue&#45;&gt;Theft</title>\n",
       "<path fill=\"none\" stroke=\"black\" d=\"M786.58,-354.39C793.28,-344.11 802.31,-330.77 811.07,-319.5 813.98,-315.75 817.18,-311.89 820.39,-308.16\"/>\n",
       "<polygon fill=\"black\" stroke=\"black\" points=\"822.75,-310.77 826.74,-300.95 817.5,-306.14 822.75,-310.77\"/>\n",
       "<text text-anchor=\"middle\" x=\"823.07\" y=\"-322.7\" font-family=\"Times,serif\" font-size=\"14.00\">1.00</text>\n",
       "</g>\n",
       "<!-- Theft&#45;&gt;ThisCarCost -->\n",
       "<g id=\"edge27\" class=\"edge\">\n",
       "<title>Theft&#45;&gt;ThisCarCost</title>\n",
       "<path fill=\"none\" stroke=\"black\" d=\"M838.97,-265.51C833.23,-237.59 818.79,-181.24 790.07,-142.5 786.8,-138.1 782.84,-133.98 778.62,-130.23\"/>\n",
       "<polygon fill=\"black\" stroke=\"black\" points=\"780.9,-127.57 770.92,-124.01 776.5,-133.02 780.9,-127.57\"/>\n",
       "<text text-anchor=\"middle\" x=\"836.77\" y=\"-189.95\" font-family=\"Times,serif\" font-size=\"14.00\">1.00</text>\n",
       "</g>\n",
       "<!-- AntiTheft&#45;&gt;Theft -->\n",
       "<g id=\"edge32\" class=\"edge\">\n",
       "<title>AntiTheft&#45;&gt;Theft</title>\n",
       "<path fill=\"none\" stroke=\"black\" d=\"M846.4,-532.8C852.8,-527.31 859.11,-520.58 863.07,-513 881.42,-477.87 871.62,-464.06 874.07,-424.5 876.97,-377.67 878.36,-363.86 863.07,-319.5 862.01,-316.42 860.65,-313.32 859.14,-310.31\"/>\n",
       "<polygon fill=\"black\" stroke=\"black\" points=\"862.32,-308.83 854.35,-301.85 856.23,-312.28 862.32,-308.83\"/>\n",
       "<text text-anchor=\"middle\" x=\"887.04\" y=\"-411.2\" font-family=\"Times,serif\" font-size=\"14.00\">1.00</text>\n",
       "</g>\n",
       "<!-- HomeBase&#45;&gt;Theft -->\n",
       "<g id=\"edge33\" class=\"edge\">\n",
       "<title>HomeBase&#45;&gt;Theft</title>\n",
       "<path fill=\"none\" stroke=\"black\" d=\"M710.62,-532.18C742.47,-506.34 802.91,-451.72 830.07,-390 840.79,-365.63 843.23,-335.17 843.33,-313.25\"/>\n",
       "<polygon fill=\"black\" stroke=\"black\" points=\"846.83,-313.21 843.19,-303.26 839.83,-313.31 846.83,-313.21\"/>\n",
       "<text text-anchor=\"middle\" x=\"832.28\" y=\"-411.2\" font-family=\"Times,serif\" font-size=\"14.00\">1.00</text>\n",
       "</g>\n",
       "<!-- OtherCarCost&#45;&gt;PropCost -->\n",
       "<g id=\"edge41\" class=\"edge\">\n",
       "<title>OtherCarCost&#45;&gt;PropCost</title>\n",
       "<path fill=\"none\" stroke=\"black\" d=\"M558.96,-176.9C574.83,-146.37 608.16,-82.28 627.11,-45.84\"/>\n",
       "<polygon fill=\"black\" stroke=\"black\" points=\"630.07,-47.74 631.58,-37.25 623.86,-44.51 630.07,-47.74\"/>\n",
       "<text text-anchor=\"middle\" x=\"616.61\" y=\"-101.45\" font-family=\"Times,serif\" font-size=\"14.00\">1.00</text>\n",
       "</g>\n",
       "<!-- Cushioning&#45;&gt;MedCost -->\n",
       "<g id=\"edge45\" class=\"edge\">\n",
       "<title>Cushioning&#45;&gt;MedCost</title>\n",
       "<path fill=\"none\" stroke=\"black\" d=\"M508.85,-268.53C495.05,-262.25 478.68,-254.66 464.07,-247.5 443.17,-237.26 420.1,-225.3 401.48,-215.48\"/>\n",
       "<polygon fill=\"black\" stroke=\"black\" points=\"403.18,-212.41 392.7,-210.83 399.9,-218.6 403.18,-212.41\"/>\n",
       "<text text-anchor=\"middle\" x=\"476.07\" y=\"-234.2\" font-family=\"Times,serif\" font-size=\"14.00\">1.00</text>\n",
       "</g>\n",
       "<!-- Airbag&#45;&gt;Cushioning -->\n",
       "<g id=\"edge47\" class=\"edge\">\n",
       "<title>Airbag&#45;&gt;Cushioning</title>\n",
       "<path fill=\"none\" stroke=\"black\" d=\"M541.67,-353.91C541.4,-342.26 541.04,-326.55 540.73,-313.02\"/>\n",
       "<polygon fill=\"black\" stroke=\"black\" points=\"544.23,-313.28 540.5,-303.36 537.24,-313.44 544.23,-313.28\"/>\n",
       "<text text-anchor=\"middle\" x=\"553.25\" y=\"-322.7\" font-family=\"Times,serif\" font-size=\"14.00\">1.00</text>\n",
       "</g>\n",
       "</g>\n",
       "</svg>\n"
      ],
      "text/plain": [
       "<graphviz.graphs.Digraph at 0x4670038f0>"
      ]
     },
     "execution_count": 375,
     "metadata": {},
     "output_type": "execute_result"
    }
   ],
   "source": [
    "bn.plot_graphviz(model_asia)"
   ]
  },
  {
   "cell_type": "code",
   "execution_count": 376,
   "id": "f3e043e3-9442-4961-80f4-4fd796fd8eda",
   "metadata": {},
   "outputs": [
    {
     "data": {
      "text/plain": [
       "array([[2, 1, 1, ..., 0, 0, 1],\n",
       "       [1, 1, 0, ..., 0, 0, 0],\n",
       "       [2, 1, 2, ..., 1, 0, 0],\n",
       "       ...,\n",
       "       [1, 1, 1, ..., 1, 0, 2],\n",
       "       [0, 1, 1, ..., 1, 0, 0],\n",
       "       [1, 1, 2, ..., 0, 0, 0]])"
      ]
     },
     "execution_count": 376,
     "metadata": {},
     "output_type": "execute_result"
    }
   ],
   "source": [
    "df_asia.to_numpy()"
   ]
  },
  {
   "cell_type": "code",
   "execution_count": 417,
   "id": "528495be-513e-4d15-ad03-d73c7980c215",
   "metadata": {},
   "outputs": [],
   "source": [
    "edge_index = []\n",
    "for i in range(len(df_asia.columns)):\n",
    "    for j in range(i+1, len(df_asia.columns)):\n",
    "        edge_index.append([i,j])\n",
    "        edge_index.append([j,i])\n",
    "edge_index = torch.tensor(np.array(edge_index))"
   ]
  },
  {
   "cell_type": "code",
   "execution_count": 466,
   "id": "73d5f436-b228-49c3-a03b-b152481c013e",
   "metadata": {},
   "outputs": [],
   "source": [
    "class GAT(torch.nn.Module):\n",
    "    def __init__(self, in_channels, hidden_channels, out_channels, heads):\n",
    "        super().__init__()\n",
    "        self.conv1 = GATConv(in_channels, hidden_channels, heads)\n",
    "        self.conv2 = GATConv(hidden_channels* heads, hidden_channels, heads, dropout=0)\n",
    "        self.conv3 = GATConv(hidden_channels * heads, out_channels, heads=1, concat=False, dropout=0)\n",
    "\n",
    "    def forward(self, x, edge_index):\n",
    "        x = F.dropout(x, p=0.3, training=self.training)\n",
    "        x = F.relu(self.conv1(x, edge_index))\n",
    "        x = F.dropout(x, p=0.3, training=self.training)\n",
    "        x = self.conv2(x, edge_index)\n",
    "        x = F.dropout(x, p=0.3, training=self.training)\n",
    "        x = self.conv3(x, edge_index)\n",
    "        return x"
   ]
  },
  {
   "cell_type": "code",
   "execution_count": 467,
   "id": "a7e65d86-331f-473a-a12d-b010ee7c5005",
   "metadata": {},
   "outputs": [],
   "source": [
    "data = Data()"
   ]
  },
  {
   "cell_type": "code",
   "execution_count": 468,
   "id": "412148c4-a919-4d81-8579-321e3e7203ac",
   "metadata": {},
   "outputs": [],
   "source": [
    "data.x = torch.tensor(df_asia.T.to_numpy().astype(\"float32\"))\n",
    "data.edge_index = edge_index.t().contiguous()"
   ]
  },
  {
   "cell_type": "code",
   "execution_count": 469,
   "id": "c33baa70-a713-40fd-b7ed-665d672e8873",
   "metadata": {},
   "outputs": [],
   "source": [
    "adj_mat_size = len(df_asia.columns)\n",
    "\n",
    "model = GAT(data.num_features, 100, data.num_features, adj_mat_size)\n",
    "optim = torch.optim.Adam(model.parameters(), lr=0.01)\n",
    "loss_fn = torch.nn.MSELoss()"
   ]
  },
  {
   "cell_type": "code",
   "execution_count": 471,
   "id": "830e0f42-4523-4a88-92ce-954817a33dee",
   "metadata": {},
   "outputs": [
    {
     "data": {
      "text/plain": [
       "torch.Size([27, 10000])"
      ]
     },
     "execution_count": 471,
     "metadata": {},
     "output_type": "execute_result"
    }
   ],
   "source": [
    "model(data.x, data.edge_index).shape"
   ]
  },
  {
   "cell_type": "code",
   "execution_count": 472,
   "id": "9ec6541d-41e3-4020-a7d5-e3d06d7f8d4f",
   "metadata": {},
   "outputs": [],
   "source": [
    "target = torch.tensor(model_asia['adjmat'].astype(int).to_numpy().astype(\"float32\"))"
   ]
  },
  {
   "cell_type": "code",
   "execution_count": 473,
   "id": "8cb24778-f23e-4a16-b486-85ced25fb087",
   "metadata": {},
   "outputs": [
    {
     "name": "stderr",
     "output_type": "stream",
     "text": [
      "\n",
      "00%|█████████████████████████████████████████| 100/100 [00:19<00:00,  5.15it/s]"
     ]
    }
   ],
   "source": [
    "model.train()\n",
    "losses = []\n",
    "for e in tqdm(range(100)):\n",
    "    optim.zero_grad()\n",
    "    out = model(data.x, data.edge_index)\n",
    "    loss1 = loss_fn(data.x, out)\n",
    "    loss1.backward()\n",
    "    \n",
    "    optim.step()\n",
    "    losses.append(loss1.item())"
   ]
  },
  {
   "cell_type": "code",
   "execution_count": 474,
   "id": "b95cbb28-f5e6-45d7-ab2b-098ac2541e6a",
   "metadata": {},
   "outputs": [
    {
     "data": {
      "text/plain": [
       "torch.Size([27, 10000])"
      ]
     },
     "execution_count": 474,
     "metadata": {},
     "output_type": "execute_result"
    }
   ],
   "source": [
    "model(data.x, data.edge_index).shape"
   ]
  },
  {
   "cell_type": "code",
   "execution_count": 475,
   "id": "009d96a6-dca4-47e1-b3db-e24ac4b01b56",
   "metadata": {},
   "outputs": [
    {
     "data": {
      "text/plain": [
       "(27, 100)"
      ]
     },
     "execution_count": 475,
     "metadata": {},
     "output_type": "execute_result"
    }
   ],
   "source": [
    "model.conv1.att_dst.detach().numpy()[0].shape"
   ]
  },
  {
   "cell_type": "code",
   "execution_count": 476,
   "id": "02b77630-7741-4e4a-815f-1a7278f6f20d",
   "metadata": {
    "scrolled": true
   },
   "outputs": [
    {
     "data": {
      "text/plain": [
       "array([[ 0.02321145,  0.13384114, -0.23028012, ..., -0.1077688 ,\n",
       "         0.2561939 , -0.06263844],\n",
       "       [-0.01599094, -0.16538548,  0.14726058, ..., -0.10414315,\n",
       "        -0.0359097 ,  0.1459648 ],\n",
       "       [ 0.03747515,  0.2224477 , -0.03702009, ...,  0.25493994,\n",
       "         0.34923515,  0.2631955 ],\n",
       "       ...,\n",
       "       [-0.1690107 ,  0.12787476,  0.15176885, ...,  0.06565682,\n",
       "         0.09373303, -0.20330025],\n",
       "       [-0.19798753, -0.0782149 , -0.13868445, ..., -0.03968324,\n",
       "         0.0516752 , -0.03686824],\n",
       "       [ 0.13817935, -0.10498392,  0.08747531, ..., -0.01586856,\n",
       "        -0.06844407, -0.06099031]], dtype=float32)"
      ]
     },
     "execution_count": 476,
     "metadata": {},
     "output_type": "execute_result"
    }
   ],
   "source": [
    "model.conv1.att_dst.detach().numpy()[0]"
   ]
  },
  {
   "cell_type": "code",
   "execution_count": 477,
   "id": "2a4bed27-3db6-49ff-8743-c398ab6140a7",
   "metadata": {},
   "outputs": [
    {
     "data": {
      "text/plain": [
       "<matplotlib.image.AxesImage at 0x466b3e7b0>"
      ]
     },
     "execution_count": 477,
     "metadata": {},
     "output_type": "execute_result"
    },
    {
     "data": {
      "image/png": "[encoded data removed]",
      "text/plain": [
       "<Figure size 640x480 with 1 Axes>"
      ]
     },
     "metadata": {},
     "output_type": "display_data"
    }
   ],
   "source": [
    "plt.imshow(model.conv1.att_dst.detach().numpy()[0])"
   ]
  },
  {
   "cell_type": "code",
   "execution_count": 478,
   "id": "fc75642b-da70-47d6-bc77-a0a495b0ea46",
   "metadata": {},
   "outputs": [
    {
     "data": {
      "text/plain": [
       "(1, 27, 100)"
      ]
     },
     "execution_count": 478,
     "metadata": {},
     "output_type": "execute_result"
    }
   ],
   "source": [
    "model.conv1.att_src.detach().numpy().shape"
   ]
  },
  {
   "cell_type": "code",
   "execution_count": 479,
   "id": "60ca854a-0c52-4b87-97ad-fd492a64c68f",
   "metadata": {},
   "outputs": [
    {
     "data": {
      "text/plain": [
       "<matplotlib.image.AxesImage at 0x466b0d970>"
      ]
     },
     "execution_count": 479,
     "metadata": {},
     "output_type": "execute_result"
    },
    {
     "data": {
      "image/png": "[encoded data removed]",
      "text/plain": [
       "<Figure size 640x480 with 1 Axes>"
      ]
     },
     "metadata": {},
     "output_type": "display_data"
    }
   ],
   "source": [
    "plt.imshow(model.conv1.att_src.detach().numpy()[0])"
   ]
  },
  {
   "cell_type": "code",
   "execution_count": 498,
   "id": "c81a6b25-601c-42f4-b891-caa15d5cce4c",
   "metadata": {},
   "outputs": [],
   "source": [
    "explainer = Explainer(\n",
    "    model = model, \n",
    "    explanation_type=\"model\",\n",
    "    algorithm=AttentionExplainer(reduce=\"mean\"),\n",
    "    node_mask_type=None,\n",
    "    edge_mask_type='object',\n",
    "    model_config = ModelConfig(\n",
    "        mode='binary_classification',\n",
    "        task_level='edge',\n",
    "        return_type='raw'\n",
    "    )\n",
    ")"
   ]
  },
  {
   "cell_type": "code",
   "execution_count": 499,
   "id": "6aebb4b7-5df7-49d6-b95e-83f9442be311",
   "metadata": {},
   "outputs": [],
   "source": [
    "explanation = explainer(\n",
    "    data.x, data.edge_index\n",
    ")"
   ]
  },
  {
   "cell_type": "code",
   "execution_count": 500,
   "id": "d0add82e-2097-4dc0-b13d-546cb897d014",
   "metadata": {},
   "outputs": [
    {
     "data": {
      "text/plain": [
       "['edge_mask']"
      ]
     },
     "execution_count": 500,
     "metadata": {},
     "output_type": "execute_result"
    }
   ],
   "source": [
    "explanation.available_explanations"
   ]
  },
  {
   "cell_type": "code",
   "execution_count": 501,
   "id": "4ad50c49-f5f4-40e5-aa1c-7277b1a79c29",
   "metadata": {
    "scrolled": true
   },
   "outputs": [
    {
     "data": {
      "text/plain": [
       "tensor([0.0247, 0.0247, 0.0247, 0.0247, 0.0247, 0.0370, 0.0247, 0.0247, 0.0247,\n",
       "        0.0247, 0.0247, 0.0247, 0.0247, 0.0247, 0.0247, 0.0247, 0.0247, 0.0247,\n",
       "        0.0247, 0.0247, 0.0247, 0.0494, 0.0247, 0.0247, 0.0247, 0.0247, 0.0247,\n",
       "        0.0247, 0.0247, 0.0247, 0.0247, 0.0247, 0.0247, 0.0247, 0.0247, 0.0247,\n",
       "        0.0247, 0.0247, 0.0247, 0.0247, 0.0247, 0.0247, 0.0247, 0.0370, 0.0247,\n",
       "        0.0247, 0.0247, 0.0247, 0.0247, 0.3086, 0.0247, 0.0247, 0.0247, 0.0247,\n",
       "        0.0247, 0.0370, 0.0247, 0.0247, 0.0247, 0.0247, 0.0247, 0.0247, 0.0247,\n",
       "        0.0247, 0.0247, 0.0247, 0.0247, 0.0247, 0.0247, 0.0247, 0.0247, 0.0494,\n",
       "        0.0247, 0.0247, 0.0247, 0.0247, 0.0247, 0.0247, 0.0247, 0.0247, 0.0247,\n",
       "        0.0247, 0.0247, 0.0247, 0.0247, 0.0247, 0.0247, 0.0247, 0.0247, 0.0247,\n",
       "        0.0247, 0.0247, 0.0247, 0.0370, 0.0247, 0.0247, 0.0247, 0.0247, 0.0247,\n",
       "        0.3086, 0.0247, 0.0247, 0.0247, 0.0370, 0.0247, 0.0247, 0.0247, 0.0247,\n",
       "        0.0247, 0.0247, 0.0247, 0.0247, 0.0247, 0.0247, 0.0247, 0.0247, 0.0247,\n",
       "        0.0247, 0.0247, 0.0494, 0.0247, 0.0247, 0.0247, 0.0247, 0.0247, 0.0247,\n",
       "        0.0247, 0.0247, 0.0247, 0.0247, 0.0247, 0.0247, 0.0247, 0.0247, 0.0247,\n",
       "        0.0247, 0.0247, 0.0247, 0.0247, 0.0247, 0.0247, 0.0370, 0.0247, 0.0247,\n",
       "        0.0247, 0.0247, 0.0247, 0.3086, 0.0247, 0.0247, 0.0370, 0.0247, 0.0370,\n",
       "        0.0247, 0.0370, 0.0247, 0.0370, 0.0247, 0.0370, 0.0247, 0.0370, 0.0247,\n",
       "        0.0370, 0.0247, 0.0370, 0.0494, 0.0370, 0.0247, 0.0370, 0.0247, 0.0370,\n",
       "        0.0247, 0.0370, 0.0247, 0.0370, 0.0247, 0.0370, 0.0247, 0.0370, 0.0247,\n",
       "        0.0370, 0.0247, 0.0370, 0.0247, 0.0370, 0.0247, 0.0370, 0.0370, 0.0370,\n",
       "        0.0247, 0.0370, 0.0247, 0.0370, 0.3086, 0.0370, 0.0247, 0.0247, 0.0247,\n",
       "        0.0247, 0.0247, 0.0247, 0.0247, 0.0247, 0.0247, 0.0247, 0.0247, 0.0247,\n",
       "        0.0247, 0.0247, 0.0494, 0.0247, 0.0247, 0.0247, 0.0247, 0.0247, 0.0247,\n",
       "        0.0247, 0.0247, 0.0247, 0.0247, 0.0247, 0.0247, 0.0247, 0.0247, 0.0247,\n",
       "        0.0247, 0.0247, 0.0247, 0.0247, 0.0247, 0.0247, 0.0370, 0.0247, 0.0247,\n",
       "        0.0247, 0.0247, 0.0247, 0.3086, 0.0247, 0.0247, 0.0247, 0.0247, 0.0247,\n",
       "        0.0247, 0.0247, 0.0247, 0.0247, 0.0247, 0.0247, 0.0247, 0.0247, 0.0494,\n",
       "        0.0247, 0.0247, 0.0247, 0.0247, 0.0247, 0.0247, 0.0247, 0.0247, 0.0247,\n",
       "        0.0247, 0.0247, 0.0247, 0.0247, 0.0247, 0.0247, 0.0247, 0.0247, 0.0247,\n",
       "        0.0247, 0.0247, 0.0247, 0.0370, 0.0247, 0.0247, 0.0247, 0.0247, 0.0247,\n",
       "        0.3086, 0.0247, 0.0247, 0.0247, 0.0247, 0.0247, 0.0247, 0.0247, 0.0247,\n",
       "        0.0247, 0.0247, 0.0247, 0.0494, 0.0247, 0.0247, 0.0247, 0.0247, 0.0247,\n",
       "        0.0247, 0.0247, 0.0247, 0.0247, 0.0247, 0.0247, 0.0247, 0.0247, 0.0247,\n",
       "        0.0247, 0.0247, 0.0247, 0.0247, 0.0247, 0.0247, 0.0247, 0.0370, 0.0247,\n",
       "        0.0247, 0.0247, 0.0247, 0.0247, 0.3086, 0.0247, 0.0247, 0.0247, 0.0247,\n",
       "        0.0247, 0.0247, 0.0247, 0.0247, 0.0247, 0.0494, 0.0247, 0.0247, 0.0247,\n",
       "        0.0247, 0.0247, 0.0247, 0.0247, 0.0247, 0.0247, 0.0247, 0.0247, 0.0247,\n",
       "        0.0247, 0.0247, 0.0247, 0.0247, 0.0247, 0.0247, 0.0247, 0.0247, 0.0247,\n",
       "        0.0370, 0.0247, 0.0247, 0.0247, 0.0247, 0.0247, 0.3086, 0.0247, 0.0247,\n",
       "        0.0247, 0.0247, 0.0247, 0.0247, 0.0247, 0.0494, 0.0247, 0.0247, 0.0247,\n",
       "        0.0247, 0.0247, 0.0247, 0.0247, 0.0247, 0.0247, 0.0247, 0.0247, 0.0247,\n",
       "        0.0247, 0.0247, 0.0247, 0.0247, 0.0247, 0.0247, 0.0247, 0.0247, 0.0247,\n",
       "        0.0370, 0.0247, 0.0247, 0.0247, 0.0247, 0.0247, 0.3086, 0.0247, 0.0247,\n",
       "        0.0247, 0.0247, 0.0247, 0.0494, 0.0247, 0.0247, 0.0247, 0.0247, 0.0247,\n",
       "        0.0247, 0.0247, 0.0247, 0.0247, 0.0247, 0.0247, 0.0247, 0.0247, 0.0247,\n",
       "        0.0247, 0.0247, 0.0247, 0.0247, 0.0247, 0.0247, 0.0247, 0.0370, 0.0247,\n",
       "        0.0247, 0.0247, 0.0247, 0.0247, 0.3086, 0.0247, 0.0247, 0.0247, 0.0494,\n",
       "        0.0247, 0.0247, 0.0247, 0.0247, 0.0247, 0.0247, 0.0247, 0.0247, 0.0247,\n",
       "        0.0247, 0.0247, 0.0247, 0.0247, 0.0247, 0.0247, 0.0247, 0.0247, 0.0247,\n",
       "        0.0247, 0.0247, 0.0247, 0.0370, 0.0247, 0.0247, 0.0247, 0.0247, 0.0247,\n",
       "        0.3086, 0.0247, 0.0247, 0.0494, 0.0247, 0.0494, 0.0247, 0.0494, 0.0247,\n",
       "        0.0494, 0.0247, 0.0494, 0.0247, 0.0494, 0.0247, 0.0494, 0.0247, 0.0494,\n",
       "        0.0247, 0.0494, 0.0247, 0.0494, 0.0247, 0.0494, 0.0370, 0.0494, 0.0247,\n",
       "        0.0494, 0.0247, 0.0494, 0.3086, 0.0494, 0.0247, 0.0247, 0.0247, 0.0247,\n",
       "        0.0247, 0.0247, 0.0247, 0.0247, 0.0247, 0.0247, 0.0247, 0.0247, 0.0247,\n",
       "        0.0247, 0.0247, 0.0247, 0.0247, 0.0247, 0.0247, 0.0247, 0.0370, 0.0247,\n",
       "        0.0247, 0.0247, 0.0247, 0.0247, 0.3086, 0.0247, 0.0247, 0.0247, 0.0247,\n",
       "        0.0247, 0.0247, 0.0247, 0.0247, 0.0247, 0.0247, 0.0247, 0.0247, 0.0247,\n",
       "        0.0247, 0.0247, 0.0247, 0.0247, 0.0247, 0.0247, 0.0370, 0.0247, 0.0247,\n",
       "        0.0247, 0.0247, 0.0247, 0.3086, 0.0247, 0.0247, 0.0247, 0.0247, 0.0247,\n",
       "        0.0247, 0.0247, 0.0247, 0.0247, 0.0247, 0.0247, 0.0247, 0.0247, 0.0247,\n",
       "        0.0247, 0.0247, 0.0247, 0.0370, 0.0247, 0.0247, 0.0247, 0.0247, 0.0247,\n",
       "        0.3086, 0.0247, 0.0247, 0.0247, 0.0247, 0.0247, 0.0247, 0.0247, 0.0247,\n",
       "        0.0247, 0.0247, 0.0247, 0.0247, 0.0247, 0.0247, 0.0247, 0.0370, 0.0247,\n",
       "        0.0247, 0.0247, 0.0247, 0.0247, 0.3086, 0.0247, 0.0247, 0.0247, 0.0247,\n",
       "        0.0247, 0.0247, 0.0247, 0.0247, 0.0247, 0.0247, 0.0247, 0.0247, 0.0247,\n",
       "        0.0370, 0.0247, 0.0247, 0.0247, 0.0247, 0.0247, 0.3086, 0.0247, 0.0247,\n",
       "        0.0247, 0.0247, 0.0247, 0.0247, 0.0247, 0.0247, 0.0247, 0.0247, 0.0247,\n",
       "        0.0370, 0.0247, 0.0247, 0.0247, 0.0247, 0.0247, 0.3086, 0.0247, 0.0247,\n",
       "        0.0247, 0.0247, 0.0247, 0.0247, 0.0247, 0.0247, 0.0247, 0.0370, 0.0247,\n",
       "        0.0247, 0.0247, 0.0247, 0.0247, 0.3086, 0.0247, 0.0247, 0.0247, 0.0247,\n",
       "        0.0247, 0.0247, 0.0247, 0.0370, 0.0247, 0.0247, 0.0247, 0.0247, 0.0247,\n",
       "        0.3086, 0.0247, 0.0247, 0.0247, 0.0247, 0.0247, 0.0370, 0.0247, 0.0247,\n",
       "        0.0247, 0.0247, 0.0247, 0.3086, 0.0247, 0.0247, 0.0247, 0.0370, 0.0247,\n",
       "        0.0247, 0.0247, 0.0247, 0.0247, 0.3086, 0.0247, 0.0247, 0.0370, 0.0247,\n",
       "        0.0370, 0.0247, 0.0370, 0.3086, 0.0370, 0.0247, 0.0247, 0.0247, 0.0247,\n",
       "        0.3086, 0.0247, 0.0247, 0.0247, 0.3086, 0.0247, 0.0247, 0.3086, 0.0247])"
      ]
     },
     "execution_count": 501,
     "metadata": {},
     "output_type": "execute_result"
    }
   ],
   "source": [
    "explanation['edge_mask']"
   ]
  },
  {
   "cell_type": "code",
   "execution_count": 502,
   "id": "683c9e2e-be9c-4de4-ad6f-d6886c85ce01",
   "metadata": {},
   "outputs": [
    {
     "data": {
      "text/plain": [
       "tensor(0.3086)"
      ]
     },
     "execution_count": 502,
     "metadata": {},
     "output_type": "execute_result"
    }
   ],
   "source": [
    "max(explanation['edge_mask'])"
   ]
  },
  {
   "cell_type": "code",
   "execution_count": 503,
   "id": "c8f82963-fe6b-4de4-aa7b-69b8d08d6844",
   "metadata": {},
   "outputs": [
    {
     "data": {
      "text/plain": [
       "tensor(0.0536)"
      ]
     },
     "execution_count": 503,
     "metadata": {},
     "output_type": "execute_result"
    }
   ],
   "source": [
    "torch.std(explanation['edge_mask'])"
   ]
  },
  {
   "cell_type": "code",
   "execution_count": 504,
   "id": "c6186a34-f7e7-491e-a2a0-188f86d96c95",
   "metadata": {},
   "outputs": [
    {
     "data": {
      "text/plain": [
       "tensor(0.0370)"
      ]
     },
     "execution_count": 504,
     "metadata": {},
     "output_type": "execute_result"
    }
   ],
   "source": [
    "torch.mean(explanation['edge_mask'])"
   ]
  },
  {
   "cell_type": "code",
   "execution_count": 505,
   "id": "87cce727-58fc-43b4-ba64-151ac350ffa4",
   "metadata": {},
   "outputs": [],
   "source": [
    "# att_thresh = (explanation['edge_mask'] > torch.mean(explanation['edge_mask']) + 0.82 * torch.std(explanation['edge_mask'])).detach().numpy().astype(int)\n",
    "att_thresh = explanation['edge_mask'] == max(explanation['edge_mask'])"
   ]
  },
  {
   "cell_type": "code",
   "execution_count": 506,
   "id": "74fc4d45-b58c-4a93-b347-08176113b862",
   "metadata": {
    "scrolled": true
   },
   "outputs": [
    {
     "name": "stdout",
     "output_type": "stream",
     "text": [
      "[25  0]\n",
      "[25  1]\n",
      "[25  2]\n",
      "[25  3]\n",
      "[25  4]\n",
      "[25  5]\n",
      "[25  6]\n",
      "[25  7]\n",
      "[25  8]\n",
      "[25  9]\n",
      "[25 10]\n",
      "[25 11]\n",
      "[25 12]\n",
      "[25 13]\n",
      "[25 14]\n",
      "[25 15]\n",
      "[25 16]\n",
      "[25 17]\n",
      "[25 18]\n",
      "[25 19]\n",
      "[25 20]\n",
      "[25 21]\n",
      "[25 22]\n",
      "[25 23]\n",
      "[25 24]\n",
      "[25 26]\n"
     ]
    }
   ],
   "source": [
    "temp_adj = np.zeros((adj_mat_size, adj_mat_size), dtype=int)\n",
    "for i in range(len(att_thresh)):\n",
    "    if att_thresh[i] == 1:\n",
    "        print(edge_index[i].detach().numpy())\n",
    "        idx = edge_index[i].detach().numpy()\n",
    "        temp_adj[idx[0]][idx[1]] = 1"
   ]
  },
  {
   "cell_type": "code",
   "execution_count": 507,
   "id": "39f70faa-ad27-4862-9511-26e37e191175",
   "metadata": {},
   "outputs": [
    {
     "data": {
      "text/plain": [
       "<matplotlib.image.AxesImage at 0x465c65a90>"
      ]
     },
     "execution_count": 507,
     "metadata": {},
     "output_type": "execute_result"
    },
    {
     "data": {
      "image/png": "[encoded data removed]",
      "text/plain": [
       "<Figure size 640x480 with 1 Axes>"
      ]
     },
     "metadata": {},
     "output_type": "display_data"
    }
   ],
   "source": [
    "plt.imshow(temp_adj)"
   ]
  },
  {
   "cell_type": "code",
   "execution_count": 508,
   "id": "cfc1b394-d0c6-473e-988a-19c70b6ba140",
   "metadata": {},
   "outputs": [
    {
     "data": {
      "text/plain": [
       "(78, 76)"
      ]
     },
     "execution_count": 508,
     "metadata": {},
     "output_type": "execute_result"
    }
   ],
   "source": [
    "comb_SHD(temp_adj, model_asia['adjmat'].astype(int).to_numpy())"
   ]
  },
  {
   "cell_type": "code",
   "execution_count": 509,
   "id": "6db45dbe-9bf7-4fe1-8818-c45a43bcceab",
   "metadata": {},
   "outputs": [],
   "source": [
    "g = nx.DiGraph(temp_adj, nodes=df_asia.columns)"
   ]
  },
  {
   "cell_type": "code",
   "execution_count": 510,
   "id": "5d11be52-ade3-4625-9012-0a7fa7a86b6f",
   "metadata": {},
   "outputs": [
    {
     "data": {
      "image/png": "[encoded data removed]",
      "text/plain": [
       "<Figure size 640x480 with 1 Axes>"
      ]
     },
     "metadata": {},
     "output_type": "display_data"
    }
   ],
   "source": [
    "pos = nx.circular_layout(g)\n",
    "nx.draw_networkx(g, pos, labels = {\n",
    "    i:df_asia.columns[i] for i in range(len(g.nodes))\n",
    "})"
   ]
  },
  {
   "cell_type": "code",
   "execution_count": 494,
   "id": "bd6982b8-8a3d-4ecd-ad30-f92fedabe6c7",
   "metadata": {},
   "outputs": [],
   "source": [
    "explanation.visualize_graph(node_labels=df_asia.columns)"
   ]
  },
  {
   "cell_type": "code",
   "execution_count": 360,
   "id": "e140609a-ff23-4d97-a858-cb958be56d4e",
   "metadata": {},
   "outputs": [
    {
     "data": {
      "text/plain": [
       "6192.29296875"
      ]
     },
     "execution_count": 360,
     "metadata": {},
     "output_type": "execute_result"
    }
   ],
   "source": [
    "max(losses)"
   ]
  },
  {
   "cell_type": "code",
   "execution_count": 282,
   "id": "494e1355-2d63-4bb7-80f2-79ffc86606c0",
   "metadata": {},
   "outputs": [
    {
     "data": {
      "text/plain": [
       "0.12791305780410767"
      ]
     },
     "execution_count": 282,
     "metadata": {},
     "output_type": "execute_result"
    }
   ],
   "source": [
    "min(losses)"
   ]
  },
  {
   "cell_type": "code",
   "execution_count": 283,
   "id": "dda21e2d-3190-44ab-83d2-58f995ef76d3",
   "metadata": {},
   "outputs": [
    {
     "data": {
      "text/plain": [
       "[<matplotlib.lines.Line2D at 0x45098d070>]"
      ]
     },
     "execution_count": 283,
     "metadata": {},
     "output_type": "execute_result"
    },
    {
     "data": {
      "image/png": "[encoded data removed]",
      "text/plain": [
       "<Figure size 640x480 with 1 Axes>"
      ]
     },
     "metadata": {},
     "output_type": "display_data"
    }
   ],
   "source": [
    "plt.plot(losses)"
   ]
  },
  {
   "cell_type": "code",
   "execution_count": null,
   "id": "dbd3a42d-b98b-4f8c-82d0-23609642f700",
   "metadata": {},
   "outputs": [],
   "source": []
  }
 ],
 "metadata": {
  "kernelspec": {
   "display_name": "Python 3 (ipykernel)",
   "language": "python",
   "name": "python3"
  },
  "language_info": {
   "codemirror_mode": {
    "name": "ipython",
    "version": 3
   },
   "file_extension": ".py",
   "mimetype": "text/x-python",
   "name": "python",
   "nbconvert_exporter": "python",
   "pygments_lexer": "ipython3",
   "version": "3.12.8"
  }
 },
 "nbformat": 4,
 "nbformat_minor": 5
}
