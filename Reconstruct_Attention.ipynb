{
 "cells": [
  {
   "cell_type": "markdown",
   "id": "83808770-14c7-4613-8f5f-67a1f49efda1",
   "metadata": {},
   "source": [
    "## Methods\n",
    "1 - Feed Random Noise and reconstruct the data\n",
    "\n",
    "2 - Start with clean data, keep adding on noise slowly\n",
    "\n",
    "3 - Reduce dimension - Done"
   ]
  },
  {
   "cell_type": "code",
   "execution_count": 1,
   "id": "2350116f-92ab-4fca-baa5-0adf24777abc",
   "metadata": {},
   "outputs": [],
   "source": [
    "import torch.nn.functional as F\n",
    "import torch\n",
    "from torch_geometric.nn import Sequential, GCNConv\n",
    "\n",
    "import numpy as np\n",
    "from pgmpy.metrics import correlation_score\n",
    "from pgmpy.base import DAG\n",
    "from pgmpy.models import BayesianNetwork\n",
    "import networkx as nx\n",
    "from scipy.stats import chi2_contingency\n",
    "import pandas as pd\n",
    "\n",
    "import bnlearn as bn\n",
    "import matplotlib.pyplot as plt\n",
    "from tqdm import tqdm"
   ]
  },
  {
   "cell_type": "code",
   "execution_count": 2,
   "id": "ecbc12dd-291e-4627-83ba-02843c8df48b",
   "metadata": {},
   "outputs": [],
   "source": [
    "# from torch_geometric.nn.models import GAT\n",
    "from torch_geometric.nn import GATConv\n",
    "from torch_geometric.data import Data\n",
    "from torch_geometric.explain import AttentionExplainer, ModelConfig, ExplainerConfig, Explainer, GNNExplainer"
   ]
  },
  {
   "cell_type": "code",
   "execution_count": 2,
   "id": "298fbe86-6a66-4fa1-91a9-e96d9d2bbca8",
   "metadata": {},
   "outputs": [],
   "source": [
    "%load_ext autoreload\n",
    "%autoreload 2"
   ]
  },
  {
   "cell_type": "code",
   "execution_count": 3,
   "id": "c6b58416-c727-441a-a1d0-9f1d4a122b12",
   "metadata": {},
   "outputs": [],
   "source": [
    "def undirected_SHD(g1, g2):\n",
    "    g1 = np.tril(((g1 + g1.T) > 0).astype(int))\n",
    "    g2 = np.tril(((g2 + g2.T) > 0).astype(int))\n",
    "    return np.sum(np.abs(g1-g2))"
   ]
  },
  {
   "cell_type": "code",
   "execution_count": 6,
   "id": "d3240329-0ff2-4f5c-938e-b34d7c6601ec",
   "metadata": {},
   "outputs": [],
   "source": [
    "def comb_SHD(g1, g2):\n",
    "    return np.sum(np.abs(g1 - g2)), undirected_SHD(g1,g2)"
   ]
  },
  {
   "cell_type": "code",
   "execution_count": 122,
   "id": "477221dc-1daa-4e33-acac-1d5836e66c7c",
   "metadata": {
    "scrolled": true
   },
   "outputs": [
    {
     "name": "stdout",
     "output_type": "stream",
     "text": [
      "[bnlearn] >Import <BIFs/asia.bif>\n",
      "[bnlearn] >Loading bif file <BIFs/asia.bif>\n",
      "[bnlearn] >Check whether CPDs sum up to one.\n"
     ]
    }
   ],
   "source": [
    "num_samples = 10000\n",
    "file_name = \"asia\"\n",
    "model_asia = bn.import_DAG(\"BIFs/\" + file_name + \".bif\")\n",
    "df_asia = bn.sampling(model_asia, n=num_samples)\n",
    "# df_asia = df_asia.drop(file_name, axis=1)\n",
    "nodes_orig = list(model_asia['adjmat'].columns)\n",
    "asia_dag = DAG(model_asia['adjmat'])"
   ]
  },
  {
   "cell_type": "code",
   "execution_count": 123,
   "id": "327d2f5f-86f8-4fe1-86a2-d14958735ba3",
   "metadata": {},
   "outputs": [
    {
     "data": {
      "text/html": [
       "<div>\n",
       "<style scoped>\n",
       "    .dataframe tbody tr th:only-of-type {\n",
       "        vertical-align: middle;\n",
       "    }\n",
       "\n",
       "    .dataframe tbody tr th {\n",
       "        vertical-align: top;\n",
       "    }\n",
       "\n",
       "    .dataframe thead th {\n",
       "        text-align: right;\n",
       "    }\n",
       "</style>\n",
       "<table border=\"1\" class=\"dataframe\">\n",
       "  <thead>\n",
       "    <tr style=\"text-align: right;\">\n",
       "      <th></th>\n",
       "      <th>asia</th>\n",
       "      <th>tub</th>\n",
       "      <th>smoke</th>\n",
       "      <th>lung</th>\n",
       "      <th>bronc</th>\n",
       "      <th>either</th>\n",
       "      <th>xray</th>\n",
       "      <th>dysp</th>\n",
       "    </tr>\n",
       "  </thead>\n",
       "  <tbody>\n",
       "    <tr>\n",
       "      <th>0</th>\n",
       "      <td>1</td>\n",
       "      <td>1</td>\n",
       "      <td>0</td>\n",
       "      <td>1</td>\n",
       "      <td>0</td>\n",
       "      <td>1</td>\n",
       "      <td>1</td>\n",
       "      <td>0</td>\n",
       "    </tr>\n",
       "    <tr>\n",
       "      <th>1</th>\n",
       "      <td>1</td>\n",
       "      <td>1</td>\n",
       "      <td>1</td>\n",
       "      <td>1</td>\n",
       "      <td>0</td>\n",
       "      <td>1</td>\n",
       "      <td>1</td>\n",
       "      <td>0</td>\n",
       "    </tr>\n",
       "    <tr>\n",
       "      <th>2</th>\n",
       "      <td>1</td>\n",
       "      <td>1</td>\n",
       "      <td>0</td>\n",
       "      <td>1</td>\n",
       "      <td>0</td>\n",
       "      <td>1</td>\n",
       "      <td>1</td>\n",
       "      <td>0</td>\n",
       "    </tr>\n",
       "    <tr>\n",
       "      <th>3</th>\n",
       "      <td>1</td>\n",
       "      <td>1</td>\n",
       "      <td>1</td>\n",
       "      <td>1</td>\n",
       "      <td>1</td>\n",
       "      <td>1</td>\n",
       "      <td>1</td>\n",
       "      <td>1</td>\n",
       "    </tr>\n",
       "    <tr>\n",
       "      <th>4</th>\n",
       "      <td>1</td>\n",
       "      <td>1</td>\n",
       "      <td>0</td>\n",
       "      <td>1</td>\n",
       "      <td>1</td>\n",
       "      <td>1</td>\n",
       "      <td>1</td>\n",
       "      <td>1</td>\n",
       "    </tr>\n",
       "    <tr>\n",
       "      <th>...</th>\n",
       "      <td>...</td>\n",
       "      <td>...</td>\n",
       "      <td>...</td>\n",
       "      <td>...</td>\n",
       "      <td>...</td>\n",
       "      <td>...</td>\n",
       "      <td>...</td>\n",
       "      <td>...</td>\n",
       "    </tr>\n",
       "    <tr>\n",
       "      <th>9995</th>\n",
       "      <td>1</td>\n",
       "      <td>1</td>\n",
       "      <td>0</td>\n",
       "      <td>1</td>\n",
       "      <td>1</td>\n",
       "      <td>1</td>\n",
       "      <td>1</td>\n",
       "      <td>1</td>\n",
       "    </tr>\n",
       "    <tr>\n",
       "      <th>9996</th>\n",
       "      <td>1</td>\n",
       "      <td>1</td>\n",
       "      <td>0</td>\n",
       "      <td>1</td>\n",
       "      <td>1</td>\n",
       "      <td>1</td>\n",
       "      <td>1</td>\n",
       "      <td>1</td>\n",
       "    </tr>\n",
       "    <tr>\n",
       "      <th>9997</th>\n",
       "      <td>1</td>\n",
       "      <td>1</td>\n",
       "      <td>1</td>\n",
       "      <td>0</td>\n",
       "      <td>1</td>\n",
       "      <td>0</td>\n",
       "      <td>0</td>\n",
       "      <td>1</td>\n",
       "    </tr>\n",
       "    <tr>\n",
       "      <th>9998</th>\n",
       "      <td>1</td>\n",
       "      <td>1</td>\n",
       "      <td>1</td>\n",
       "      <td>1</td>\n",
       "      <td>0</td>\n",
       "      <td>1</td>\n",
       "      <td>1</td>\n",
       "      <td>1</td>\n",
       "    </tr>\n",
       "    <tr>\n",
       "      <th>9999</th>\n",
       "      <td>1</td>\n",
       "      <td>1</td>\n",
       "      <td>1</td>\n",
       "      <td>1</td>\n",
       "      <td>1</td>\n",
       "      <td>1</td>\n",
       "      <td>1</td>\n",
       "      <td>1</td>\n",
       "    </tr>\n",
       "  </tbody>\n",
       "</table>\n",
       "<p>10000 rows × 8 columns</p>\n",
       "</div>"
      ],
      "text/plain": [
       "      asia  tub  smoke  lung  bronc  either  xray  dysp\n",
       "0        1    1      0     1      0       1     1     0\n",
       "1        1    1      1     1      0       1     1     0\n",
       "2        1    1      0     1      0       1     1     0\n",
       "3        1    1      1     1      1       1     1     1\n",
       "4        1    1      0     1      1       1     1     1\n",
       "...    ...  ...    ...   ...    ...     ...   ...   ...\n",
       "9995     1    1      0     1      1       1     1     1\n",
       "9996     1    1      0     1      1       1     1     1\n",
       "9997     1    1      1     0      1       0     0     1\n",
       "9998     1    1      1     1      0       1     1     1\n",
       "9999     1    1      1     1      1       1     1     1\n",
       "\n",
       "[10000 rows x 8 columns]"
      ]
     },
     "execution_count": 123,
     "metadata": {},
     "output_type": "execute_result"
    }
   ],
   "source": [
    "df_asia"
   ]
  },
  {
   "cell_type": "code",
   "execution_count": 124,
   "id": "0e743c8e-0943-4b57-899b-aa63e10a7c65",
   "metadata": {},
   "outputs": [
    {
     "data": {
      "text/plain": [
       "(8, 10000)"
      ]
     },
     "execution_count": 124,
     "metadata": {},
     "output_type": "execute_result"
    }
   ],
   "source": [
    "df_asia.T.to_numpy().shape"
   ]
  },
  {
   "cell_type": "code",
   "execution_count": 125,
   "id": "c2a6e914-0a02-40f7-bede-23beacdb1a6f",
   "metadata": {},
   "outputs": [
    {
     "name": "stderr",
     "output_type": "stream",
     "text": [
      "[setgraphviz] >INFO> System found: osx\n",
      "[setgraphviz] >INFO> The OS is not supported to automatically set Graphviz in the system env.\n",
      "[setgraphviz] >INFO> Graphviz path found in environment.\n"
     ]
    },
    {
     "data": {
      "image/svg+xml": [
       "<?xml version=\"1.0\" encoding=\"UTF-8\" standalone=\"no\"?>\n",
       "<!DOCTYPE svg PUBLIC \"-//W3C//DTD SVG 1.1//EN\"\n",
       " \"http://www.w3.org/Graphics/SVG/1.1/DTD/svg11.dtd\">\n",
       "<!-- Generated by graphviz version 12.2.1 (20241206.2353)\n",
       " -->\n",
       "<!-- Pages: 1 -->\n",
       "<svg width=\"194pt\" height=\"329pt\"\n",
       " viewBox=\"0.00 0.00 193.90 329.00\" xmlns=\"http://www.w3.org/2000/svg\" xmlns:xlink=\"http://www.w3.org/1999/xlink\">\n",
       "<g id=\"graph0\" class=\"graph\" transform=\"scale(1 1) rotate(0) translate(4 325)\">\n",
       "<polygon fill=\"white\" stroke=\"none\" points=\"-4,4 -4,-325 189.9,-325 189.9,4 -4,4\"/>\n",
       "<!-- asia -->\n",
       "<g id=\"node1\" class=\"node\">\n",
       "<title>asia</title>\n",
       "<ellipse fill=\"none\" stroke=\"black\" cx=\"27\" cy=\"-303\" rx=\"27\" ry=\"18\"/>\n",
       "<text text-anchor=\"middle\" x=\"27\" y=\"-297.95\" font-family=\"Times,serif\" font-size=\"14.00\">asia</text>\n",
       "</g>\n",
       "<!-- tub -->\n",
       "<g id=\"node2\" class=\"node\">\n",
       "<title>tub</title>\n",
       "<ellipse fill=\"none\" stroke=\"black\" cx=\"27\" cy=\"-214.5\" rx=\"27\" ry=\"18\"/>\n",
       "<text text-anchor=\"middle\" x=\"27\" y=\"-209.45\" font-family=\"Times,serif\" font-size=\"14.00\">tub</text>\n",
       "</g>\n",
       "<!-- asia&#45;&gt;tub -->\n",
       "<g id=\"edge1\" class=\"edge\">\n",
       "<title>asia&#45;&gt;tub</title>\n",
       "<path fill=\"none\" stroke=\"black\" d=\"M27,-284.91C27,-273.26 27,-257.55 27,-244.02\"/>\n",
       "<polygon fill=\"black\" stroke=\"black\" points=\"30.5,-244.36 27,-234.36 23.5,-244.36 30.5,-244.36\"/>\n",
       "<text text-anchor=\"middle\" x=\"39\" y=\"-253.7\" font-family=\"Times,serif\" font-size=\"14.00\">1.00</text>\n",
       "</g>\n",
       "<!-- either -->\n",
       "<g id=\"node6\" class=\"node\">\n",
       "<title>either</title>\n",
       "<ellipse fill=\"none\" stroke=\"black\" cx=\"77\" cy=\"-106.5\" rx=\"31.9\" ry=\"18\"/>\n",
       "<text text-anchor=\"middle\" x=\"77\" y=\"-101.45\" font-family=\"Times,serif\" font-size=\"14.00\">either</text>\n",
       "</g>\n",
       "<!-- tub&#45;&gt;either -->\n",
       "<g id=\"edge4\" class=\"edge\">\n",
       "<title>tub&#45;&gt;either</title>\n",
       "<path fill=\"none\" stroke=\"black\" d=\"M32.33,-196.41C37.17,-181.75 44.94,-160.23 54,-142.5 55.6,-139.36 57.42,-136.16 59.32,-133.03\"/>\n",
       "<polygon fill=\"black\" stroke=\"black\" points=\"62.2,-135.02 64.66,-124.71 56.31,-131.24 62.2,-135.02\"/>\n",
       "<text text-anchor=\"middle\" x=\"66\" y=\"-155.45\" font-family=\"Times,serif\" font-size=\"14.00\">1.00</text>\n",
       "</g>\n",
       "<!-- smoke -->\n",
       "<g id=\"node3\" class=\"node\">\n",
       "<title>smoke</title>\n",
       "<ellipse fill=\"none\" stroke=\"black\" cx=\"130\" cy=\"-303\" rx=\"35.49\" ry=\"18\"/>\n",
       "<text text-anchor=\"middle\" x=\"130\" y=\"-297.95\" font-family=\"Times,serif\" font-size=\"14.00\">smoke</text>\n",
       "</g>\n",
       "<!-- lung -->\n",
       "<g id=\"node4\" class=\"node\">\n",
       "<title>lung</title>\n",
       "<ellipse fill=\"none\" stroke=\"black\" cx=\"99\" cy=\"-214.5\" rx=\"27.3\" ry=\"18\"/>\n",
       "<text text-anchor=\"middle\" x=\"99\" y=\"-209.45\" font-family=\"Times,serif\" font-size=\"14.00\">lung</text>\n",
       "</g>\n",
       "<!-- smoke&#45;&gt;lung -->\n",
       "<g id=\"edge2\" class=\"edge\">\n",
       "<title>smoke&#45;&gt;lung</title>\n",
       "<path fill=\"none\" stroke=\"black\" d=\"M117.86,-285.61C114.18,-279.96 110.47,-273.43 108,-267 105.22,-259.77 103.29,-251.64 101.96,-244.01\"/>\n",
       "<polygon fill=\"black\" stroke=\"black\" points=\"105.43,-243.54 100.53,-234.14 98.5,-244.54 105.43,-243.54\"/>\n",
       "<text text-anchor=\"middle\" x=\"120\" y=\"-253.7\" font-family=\"Times,serif\" font-size=\"14.00\">1.00</text>\n",
       "</g>\n",
       "<!-- bronc -->\n",
       "<g id=\"node5\" class=\"node\">\n",
       "<title>bronc</title>\n",
       "<ellipse fill=\"none\" stroke=\"black\" cx=\"154\" cy=\"-160.5\" rx=\"31.9\" ry=\"18\"/>\n",
       "<text text-anchor=\"middle\" x=\"154\" y=\"-155.45\" font-family=\"Times,serif\" font-size=\"14.00\">bronc</text>\n",
       "</g>\n",
       "<!-- smoke&#45;&gt;bronc -->\n",
       "<g id=\"edge3\" class=\"edge\">\n",
       "<title>smoke&#45;&gt;bronc</title>\n",
       "<path fill=\"none\" stroke=\"black\" d=\"M132.94,-284.77C136.97,-261.18 144.26,-218.5 149.12,-190.08\"/>\n",
       "<polygon fill=\"black\" stroke=\"black\" points=\"152.54,-190.81 150.78,-180.36 145.64,-189.63 152.54,-190.81\"/>\n",
       "<text text-anchor=\"middle\" x=\"150.45\" y=\"-253.7\" font-family=\"Times,serif\" font-size=\"14.00\">1.00</text>\n",
       "</g>\n",
       "<!-- lung&#45;&gt;either -->\n",
       "<g id=\"edge5\" class=\"edge\">\n",
       "<title>lung&#45;&gt;either</title>\n",
       "<path fill=\"none\" stroke=\"black\" d=\"M93.74,-196.51C92.08,-190.82 90.34,-184.42 89,-178.5 85.85,-164.59 83.12,-148.98 81.07,-135.95\"/>\n",
       "<polygon fill=\"black\" stroke=\"black\" points=\"84.57,-135.68 79.61,-126.32 77.65,-136.73 84.57,-135.68\"/>\n",
       "<text text-anchor=\"middle\" x=\"101\" y=\"-155.45\" font-family=\"Times,serif\" font-size=\"14.00\">1.00</text>\n",
       "</g>\n",
       "<!-- dysp -->\n",
       "<g id=\"node8\" class=\"node\">\n",
       "<title>dysp</title>\n",
       "<ellipse fill=\"none\" stroke=\"black\" cx=\"148\" cy=\"-18\" rx=\"28.32\" ry=\"18\"/>\n",
       "<text text-anchor=\"middle\" x=\"148\" y=\"-12.95\" font-family=\"Times,serif\" font-size=\"14.00\">dysp</text>\n",
       "</g>\n",
       "<!-- bronc&#45;&gt;dysp -->\n",
       "<g id=\"edge7\" class=\"edge\">\n",
       "<title>bronc&#45;&gt;dysp</title>\n",
       "<path fill=\"none\" stroke=\"black\" d=\"M153.26,-142.27C152.26,-118.68 150.43,-76 149.22,-47.58\"/>\n",
       "<polygon fill=\"black\" stroke=\"black\" points=\"152.73,-47.72 148.81,-37.88 145.74,-48.02 152.73,-47.72\"/>\n",
       "<text text-anchor=\"middle\" x=\"164.48\" y=\"-101.45\" font-family=\"Times,serif\" font-size=\"14.00\">1.00</text>\n",
       "</g>\n",
       "<!-- xray -->\n",
       "<g id=\"node7\" class=\"node\">\n",
       "<title>xray</title>\n",
       "<ellipse fill=\"none\" stroke=\"black\" cx=\"68\" cy=\"-18\" rx=\"27.3\" ry=\"18\"/>\n",
       "<text text-anchor=\"middle\" x=\"68\" y=\"-12.95\" font-family=\"Times,serif\" font-size=\"14.00\">xray</text>\n",
       "</g>\n",
       "<!-- either&#45;&gt;xray -->\n",
       "<g id=\"edge6\" class=\"edge\">\n",
       "<title>either&#45;&gt;xray</title>\n",
       "<path fill=\"none\" stroke=\"black\" d=\"M72.39,-88.53C71.04,-82.85 69.73,-76.44 69,-70.5 68.1,-63.13 67.67,-55.13 67.51,-47.68\"/>\n",
       "<polygon fill=\"black\" stroke=\"black\" points=\"71.02,-47.72 67.46,-37.74 64.02,-47.76 71.02,-47.72\"/>\n",
       "<text text-anchor=\"middle\" x=\"81\" y=\"-57.2\" font-family=\"Times,serif\" font-size=\"14.00\">1.00</text>\n",
       "</g>\n",
       "<!-- either&#45;&gt;dysp -->\n",
       "<g id=\"edge8\" class=\"edge\">\n",
       "<title>either&#45;&gt;dysp</title>\n",
       "<path fill=\"none\" stroke=\"black\" d=\"M88.58,-89.43C96.15,-79.12 106.38,-65.55 116,-54 119.29,-50.05 122.88,-45.94 126.42,-41.99\"/>\n",
       "<polygon fill=\"black\" stroke=\"black\" points=\"128.8,-44.58 132.97,-34.83 123.64,-39.86 128.8,-44.58\"/>\n",
       "<text text-anchor=\"middle\" x=\"128\" y=\"-57.2\" font-family=\"Times,serif\" font-size=\"14.00\">1.00</text>\n",
       "</g>\n",
       "</g>\n",
       "</svg>\n"
      ],
      "text/plain": [
       "<graphviz.graphs.Digraph at 0x36fe8c9e0>"
      ]
     },
     "execution_count": 125,
     "metadata": {},
     "output_type": "execute_result"
    }
   ],
   "source": [
    "bn.plot_graphviz(model_asia)"
   ]
  },
  {
   "cell_type": "code",
   "execution_count": 126,
   "id": "f3e043e3-9442-4961-80f4-4fd796fd8eda",
   "metadata": {},
   "outputs": [
    {
     "data": {
      "text/plain": [
       "array([[1, 1, 0, ..., 1, 1, 0],\n",
       "       [1, 1, 1, ..., 1, 1, 0],\n",
       "       [1, 1, 0, ..., 1, 1, 0],\n",
       "       ...,\n",
       "       [1, 1, 1, ..., 0, 0, 1],\n",
       "       [1, 1, 1, ..., 1, 1, 1],\n",
       "       [1, 1, 1, ..., 1, 1, 1]])"
      ]
     },
     "execution_count": 126,
     "metadata": {},
     "output_type": "execute_result"
    }
   ],
   "source": [
    "df_asia.to_numpy()"
   ]
  },
  {
   "cell_type": "code",
   "execution_count": 127,
   "id": "528495be-513e-4d15-ad03-d73c7980c215",
   "metadata": {},
   "outputs": [],
   "source": [
    "edge_index = []\n",
    "for i in range(len(df_asia.columns)):\n",
    "    for j in range(i+1, len(df_asia.columns)):\n",
    "        edge_index.append([i,j])\n",
    "        edge_index.append([j,i])\n",
    "edge_index = torch.tensor(np.array(edge_index))"
   ]
  },
  {
   "cell_type": "code",
   "execution_count": 936,
   "id": "73d5f436-b228-49c3-a03b-b152481c013e",
   "metadata": {},
   "outputs": [],
   "source": [
    "class GAT(torch.nn.Module):\n",
    "    def __init__(self, in_channels, hidden_channels, out_channels, heads):\n",
    "        super().__init__()\n",
    "        self.conv1 = GATConv(in_channels, hidden_channels, heads)\n",
    "        self.conv2 = GATConv(hidden_channels* heads, data.num_nodes, heads=1, dropout=0)\n",
    "        self.conv3 = GATConv(data.num_nodes*self.conv2.heads, out_channels, heads, concat=False, dropout=0)\n",
    "        self.att_wt = None\n",
    "\n",
    "    def forward(self, x, edge_index, return_att = False):\n",
    "        x = F.dropout(x, p=0.3, training=self.training)\n",
    "        if return_att:\n",
    "            x, att_wt = self.conv1.forward(x, edge_index, return_attention_weights=True)\n",
    "            self.att_wt = att_wt\n",
    "        else:\n",
    "            x= self.conv1.forward(x, edge_index)\n",
    "            \n",
    "        x = F.relu(x)\n",
    "        # print(x.shape)\n",
    "        x = F.dropout(x, p=0.3, training=self.training)\n",
    "        x = self.conv2(x, edge_index)\n",
    "        # print(x.shape)\n",
    "        x = F.dropout(x, p=0.3, training=self.training)\n",
    "        x = self.conv3(x, edge_index)\n",
    "        x = F.softmax(x, dim=1)\n",
    "        # print(x.shape)\n",
    "        return x"
   ]
  },
  {
   "cell_type": "code",
   "execution_count": null,
   "id": "f23bca08-d618-43a6-ab5f-7cccf75443ff",
   "metadata": {},
   "outputs": [],
   "source": []
  },
  {
   "cell_type": "code",
   "execution_count": 1095,
   "id": "a7e65d86-331f-473a-a12d-b010ee7c5005",
   "metadata": {},
   "outputs": [],
   "source": [
    "data = Data()"
   ]
  },
  {
   "cell_type": "code",
   "execution_count": 1096,
   "id": "412148c4-a919-4d81-8579-321e3e7203ac",
   "metadata": {},
   "outputs": [],
   "source": [
    "data.x = torch.tensor(df_asia.T.to_numpy().astype(\"float32\").reshape(-1, num_samples))\n",
    "# data.x = torch.rand((len(df_asia.columns), 100))\n",
    "data.edge_index = edge_index.t().contiguous()"
   ]
  },
  {
   "cell_type": "code",
   "execution_count": 1097,
   "id": "304f6172-4ca9-4eb0-8492-96d5f53009d5",
   "metadata": {
    "scrolled": true
   },
   "outputs": [
    {
     "data": {
      "text/plain": [
       "Data(x=[8, 10000], edge_index=[2, 56])"
      ]
     },
     "execution_count": 1097,
     "metadata": {},
     "output_type": "execute_result"
    }
   ],
   "source": [
    "data"
   ]
  },
  {
   "cell_type": "code",
   "execution_count": 1184,
   "id": "c33baa70-a713-40fd-b7ed-665d672e8873",
   "metadata": {},
   "outputs": [],
   "source": [
    "model = GAT(data.x.shape[1], 20, num_samples, heads=data.num_nodes)\n",
    "optim = torch.optim.Adam(model.parameters(), lr=0.001)\n",
    "scheduler = torch.optim.lr_scheduler.ExponentialLR(optim, gamma=0.99)\n",
    "loss_fn = torch.nn.CrossEntropyLoss()"
   ]
  },
  {
   "cell_type": "code",
   "execution_count": 1185,
   "id": "6d95c0cc-8203-49a9-8a4f-52c1c51f76fa",
   "metadata": {},
   "outputs": [],
   "source": [
    "true_vals = torch.tensor(df_asia.T.to_numpy().astype(\"float32\").reshape(-1, num_samples))"
   ]
  },
  {
   "cell_type": "code",
   "execution_count": 1186,
   "id": "f1bdec2e-d4aa-4603-ac54-d5705bfbb1b3",
   "metadata": {},
   "outputs": [
    {
     "data": {
      "text/plain": [
       "GAT(\n",
       "  (conv1): GATConv(10000, 20, heads=8)\n",
       "  (conv2): GATConv(160, 8, heads=1)\n",
       "  (conv3): GATConv(8, 10000, heads=8)\n",
       ")"
      ]
     },
     "execution_count": 1186,
     "metadata": {},
     "output_type": "execute_result"
    }
   ],
   "source": [
    "model"
   ]
  },
  {
   "cell_type": "code",
   "execution_count": 1187,
   "id": "f022805d-2fbb-4db7-88c1-c07ea4cee414",
   "metadata": {},
   "outputs": [
    {
     "data": {
      "text/plain": [
       "8"
      ]
     },
     "execution_count": 1187,
     "metadata": {},
     "output_type": "execute_result"
    }
   ],
   "source": [
    "data.num_nodes"
   ]
  },
  {
   "cell_type": "code",
   "execution_count": 1188,
   "id": "9ec6541d-41e3-4020-a7d5-e3d06d7f8d4f",
   "metadata": {},
   "outputs": [],
   "source": [
    "target = torch.tensor(model_asia['adjmat'].astype(int).to_numpy().astype(\"float32\"))"
   ]
  },
  {
   "cell_type": "code",
   "execution_count": 1189,
   "id": "8cb24778-f23e-4a16-b486-85ced25fb087",
   "metadata": {
    "scrolled": true
   },
   "outputs": [
    {
     "name": "stderr",
     "output_type": "stream",
     "text": [
      "\n",
      "00%|███████████████████████████████████████| 1000/1000 [00:26<00:00, 37.22it/s]"
     ]
    }
   ],
   "source": [
    "model.train()\n",
    "losses = []\n",
    "for i in tqdm(range(1000)):\n",
    "    optim.zero_grad()\n",
    "    out = model(data.x, data.edge_index)\n",
    "    if i % 50 == 0:\n",
    "        data.x = torch.tensor(df_asia.T.to_numpy().astype(\"float32\").reshape(-1, num_samples)) + torch.randn((data.num_nodes, num_samples)) * (i / 1000) \n",
    "    \n",
    "    loss1 = loss_fn(true_vals, out)\n",
    "    loss1.backward()\n",
    "    \n",
    "    optim.step()\n",
    "    scheduler.step()\n",
    "    losses.append(loss1.item())"
   ]
  },
  {
   "cell_type": "code",
   "execution_count": 1191,
   "id": "99dba147-12cb-4c41-a5e7-86e6eb291b15",
   "metadata": {},
   "outputs": [
    {
     "data": {
      "text/plain": [
       "[<matplotlib.lines.Line2D at 0x5af22fe30>]"
      ]
     },
     "execution_count": 1191,
     "metadata": {},
     "output_type": "execute_result"
    },
    {
     "data": {
      "image/png": "[encoded data removed]",
      "text/plain": [
       "<Figure size 640x480 with 1 Axes>"
      ]
     },
     "metadata": {},
     "output_type": "display_data"
    }
   ],
   "source": [
    "plt.plot(losses)"
   ]
  },
  {
   "cell_type": "code",
   "execution_count": 1192,
   "id": "38aeebb4-9456-4771-ae77-bc4ca50e1e2c",
   "metadata": {},
   "outputs": [
    {
     "data": {
      "text/plain": [
       "9.062374114990234"
      ]
     },
     "execution_count": 1192,
     "metadata": {},
     "output_type": "execute_result"
    }
   ],
   "source": [
    "min(losses)"
   ]
  },
  {
   "cell_type": "code",
   "execution_count": 1193,
   "id": "2a4bed27-3db6-49ff-8743-c398ab6140a7",
   "metadata": {},
   "outputs": [
    {
     "data": {
      "text/plain": [
       "<matplotlib.image.AxesImage at 0x5af812420>"
      ]
     },
     "execution_count": 1193,
     "metadata": {},
     "output_type": "execute_result"
    },
    {
     "data": {
      "image/png": "[encoded data removed]",
      "text/plain": [
       "<Figure size 640x480 with 1 Axes>"
      ]
     },
     "metadata": {},
     "output_type": "display_data"
    }
   ],
   "source": [
    "plt.imshow(model.conv1.att_dst.detach().numpy()[0])"
   ]
  },
  {
   "cell_type": "code",
   "execution_count": 1194,
   "id": "60ca854a-0c52-4b87-97ad-fd492a64c68f",
   "metadata": {},
   "outputs": [
    {
     "data": {
      "text/plain": [
       "<matplotlib.image.AxesImage at 0x5af8d2090>"
      ]
     },
     "execution_count": 1194,
     "metadata": {},
     "output_type": "execute_result"
    },
    {
     "data": {
      "image/png": "[encoded data removed]",
      "text/plain": [
       "<Figure size 640x480 with 1 Axes>"
      ]
     },
     "metadata": {},
     "output_type": "display_data"
    }
   ],
   "source": [
    "plt.imshow(model.conv1.att_src.detach().numpy()[0])"
   ]
  },
  {
   "cell_type": "code",
   "execution_count": 1217,
   "id": "c81a6b25-601c-42f4-b891-caa15d5cce4c",
   "metadata": {},
   "outputs": [],
   "source": [
    "explainer = Explainer(\n",
    "    model = model, \n",
    "    explanation_type=\"model\",\n",
    "    algorithm=AttentionExplainer(reduce=\"mean\"),\n",
    "    node_mask_type=None,\n",
    "    edge_mask_type='object',\n",
    "    model_config = ModelConfig(\n",
    "        mode='binary_classification',\n",
    "        task_level='edge',\n",
    "        return_type='raw'\n",
    "    )\n",
    ")"
   ]
  },
  {
   "cell_type": "code",
   "execution_count": 1218,
   "id": "6aebb4b7-5df7-49d6-b95e-83f9442be311",
   "metadata": {},
   "outputs": [],
   "source": [
    "explanation = explainer(\n",
    "    data.x, data.edge_index\n",
    ")"
   ]
  },
  {
   "cell_type": "code",
   "execution_count": 1219,
   "id": "d0add82e-2097-4dc0-b13d-546cb897d014",
   "metadata": {},
   "outputs": [
    {
     "data": {
      "text/plain": [
       "['edge_mask']"
      ]
     },
     "execution_count": 1219,
     "metadata": {},
     "output_type": "execute_result"
    }
   ],
   "source": [
    "explanation.available_explanations"
   ]
  },
  {
   "cell_type": "code",
   "execution_count": 1220,
   "id": "4ad50c49-f5f4-40e5-aa1c-7277b1a79c29",
   "metadata": {
    "scrolled": true
   },
   "outputs": [
    {
     "data": {
      "text/plain": [
       "tensor([0.2579, 0.2398, 0.2709, 0.0819, 0.2579, 0.0870, 0.2709, 0.0819, 0.2579,\n",
       "        0.0852, 0.2579, 0.0844, 0.2709, 0.0819, 0.2288, 0.0819, 0.2398, 0.0870,\n",
       "        0.2288, 0.0819, 0.2398, 0.0852, 0.2398, 0.0844, 0.2288, 0.0819, 0.0819,\n",
       "        0.0859, 0.0819, 0.0819, 0.0819, 0.0843, 0.0819, 0.0842, 0.0819, 0.0819,\n",
       "        0.0859, 0.0819, 0.0870, 0.0852, 0.0870, 0.0844, 0.0859, 0.0819, 0.0819,\n",
       "        0.0843, 0.0819, 0.0842, 0.0819, 0.0819, 0.0852, 0.0844, 0.0843, 0.0819,\n",
       "        0.0842, 0.0819])"
      ]
     },
     "execution_count": 1220,
     "metadata": {},
     "output_type": "execute_result"
    }
   ],
   "source": [
    "explanation['edge_mask']"
   ]
  },
  {
   "cell_type": "code",
   "execution_count": 1221,
   "id": "4030e707-4db2-42e1-bdf2-e59d7bceaad7",
   "metadata": {},
   "outputs": [
    {
     "data": {
      "text/plain": [
       "torch.Size([56])"
      ]
     },
     "execution_count": 1221,
     "metadata": {},
     "output_type": "execute_result"
    }
   ],
   "source": [
    "explanation['edge_mask'].shape"
   ]
  },
  {
   "cell_type": "code",
   "execution_count": 1222,
   "id": "93d65630-2e0d-418a-9160-006fe45b68c1",
   "metadata": {},
   "outputs": [
    {
     "data": {
      "text/plain": [
       "torch.Size([2, 56])"
      ]
     },
     "execution_count": 1222,
     "metadata": {},
     "output_type": "execute_result"
    }
   ],
   "source": [
    "data.edge_index.shape"
   ]
  },
  {
   "cell_type": "code",
   "execution_count": 1223,
   "id": "74f36586-0eba-4c31-b4f9-b1455f4bc387",
   "metadata": {
    "scrolled": true
   },
   "outputs": [],
   "source": [
    "temp_adj = np.zeros((data.num_nodes, data.num_nodes))\n",
    "for i in range(len(data.edge_index[0])):\n",
    "    temp_adj[data.edge_index[0][i]][data.edge_index[1][i]] = explanation['edge_mask'][i].item()"
   ]
  },
  {
   "cell_type": "code",
   "execution_count": 1224,
   "id": "8bc69414-022c-4bc6-a8d9-e95fe6df22cf",
   "metadata": {},
   "outputs": [
    {
     "data": {
      "text/plain": [
       "array([[0.        , 0.25786406, 0.27094451, 0.25786412, 0.27094451,\n",
       "        0.25786409, 0.25786406, 0.27094439],\n",
       "       [0.23977597, 0.        , 0.22883248, 0.23977591, 0.22883256,\n",
       "        0.23977585, 0.2397759 , 0.22883244],\n",
       "       [0.08194313, 0.08194313, 0.        , 0.08194313, 0.08194318,\n",
       "        0.08194309, 0.08194309, 0.08194338],\n",
       "       [0.08696122, 0.08696122, 0.08592244, 0.        , 0.08592248,\n",
       "        0.0869615 , 0.0869615 , 0.08592236],\n",
       "       [0.08194329, 0.08194329, 0.08194315, 0.08194329, 0.        ,\n",
       "        0.08194325, 0.08194325, 0.08194339],\n",
       "       [0.08517987, 0.08517987, 0.08428951, 0.08517987, 0.08428955,\n",
       "        0.        , 0.08517983, 0.08428943],\n",
       "       [0.08438952, 0.08438952, 0.08418164, 0.08438952, 0.08418169,\n",
       "        0.08438948, 0.        , 0.08418157],\n",
       "       [0.08194298, 0.08194298, 0.08194315, 0.08194298, 0.08194288,\n",
       "        0.08194294, 0.08194294, 0.        ]])"
      ]
     },
     "execution_count": 1224,
     "metadata": {},
     "output_type": "execute_result"
    }
   ],
   "source": [
    "temp_adj"
   ]
  },
  {
   "cell_type": "code",
   "execution_count": 1225,
   "id": "52300c96-839f-4a76-b86a-4a64241e7d51",
   "metadata": {},
   "outputs": [],
   "source": [
    "upper_t = np.triu(temp_adj)\n",
    "lower_t = np.tril(temp_adj)"
   ]
  },
  {
   "cell_type": "code",
   "execution_count": 1226,
   "id": "8f046a78-03b8-4ff0-b6d5-6d500d42b322",
   "metadata": {},
   "outputs": [
    {
     "data": {
      "text/plain": [
       "array([[0.        , 0.25786406, 0.27094451, 0.25786412, 0.27094451,\n",
       "        0.25786409, 0.25786406, 0.27094439],\n",
       "       [0.        , 0.        , 0.22883248, 0.23977591, 0.22883256,\n",
       "        0.23977585, 0.2397759 , 0.22883244],\n",
       "       [0.        , 0.        , 0.        , 0.08194313, 0.08194318,\n",
       "        0.08194309, 0.08194309, 0.08194338],\n",
       "       [0.        , 0.        , 0.        , 0.        , 0.08592248,\n",
       "        0.0869615 , 0.0869615 , 0.08592236],\n",
       "       [0.        , 0.        , 0.        , 0.        , 0.        ,\n",
       "        0.08194325, 0.08194325, 0.08194339],\n",
       "       [0.        , 0.        , 0.        , 0.        , 0.        ,\n",
       "        0.        , 0.08517983, 0.08428943],\n",
       "       [0.        , 0.        , 0.        , 0.        , 0.        ,\n",
       "        0.        , 0.        , 0.08418157],\n",
       "       [0.        , 0.        , 0.        , 0.        , 0.        ,\n",
       "        0.        , 0.        , 0.        ]])"
      ]
     },
     "execution_count": 1226,
     "metadata": {},
     "output_type": "execute_result"
    }
   ],
   "source": [
    "upper_t"
   ]
  },
  {
   "cell_type": "code",
   "execution_count": 1253,
   "id": "1203c4f6-5ddb-41ee-804c-454e22dd049a",
   "metadata": {},
   "outputs": [
    {
     "data": {
      "text/plain": [
       "array([[0.        , 0.        , 0.        , 0.        , 0.        ,\n",
       "        0.        , 0.        , 0.        ],\n",
       "       [0.23977597, 0.        , 0.        , 0.        , 0.        ,\n",
       "        0.        , 0.        , 0.        ],\n",
       "       [0.08194313, 0.08194313, 0.        , 0.        , 0.        ,\n",
       "        0.        , 0.        , 0.        ],\n",
       "       [0.08696122, 0.08696122, 0.08592244, 0.        , 0.        ,\n",
       "        0.        , 0.        , 0.        ],\n",
       "       [0.08194329, 0.08194329, 0.08194315, 0.08194329, 0.        ,\n",
       "        0.        , 0.        , 0.        ],\n",
       "       [0.08517987, 0.08517987, 0.08428951, 0.08517987, 0.08428955,\n",
       "        0.        , 0.        , 0.        ],\n",
       "       [0.08438952, 0.08438952, 0.08418164, 0.08438952, 0.08418169,\n",
       "        0.08438948, 0.        , 0.        ],\n",
       "       [0.08194298, 0.08194298, 0.08194315, 0.08194298, 0.08194288,\n",
       "        0.08194294, 0.08194294, 0.        ]])"
      ]
     },
     "execution_count": 1253,
     "metadata": {},
     "output_type": "execute_result"
    }
   ],
   "source": [
    "lower_t"
   ]
  },
  {
   "cell_type": "code",
   "execution_count": 1266,
   "id": "984b28c0-335c-4bbf-91d5-3650a059f100",
   "metadata": {},
   "outputs": [],
   "source": [
    "thresh = np.max(np.abs(adj_1)) - 0.5 * np.std(np.abs(adj_1))\n",
    "adj_1 = lower_t - upper_t.T\n",
    "new_adj = np.zeros((data.num_nodes, data.num_nodes))"
   ]
  },
  {
   "cell_type": "code",
   "execution_count": 1267,
   "id": "6af681d3-38f1-4fe2-8a9e-e50fbe32c04e",
   "metadata": {},
   "outputs": [],
   "source": [
    "for i in range(len(adj_1)):\n",
    "    for j in range(0, i):\n",
    "        if i==j:\n",
    "            continue\n",
    "        if adj_1[i][j] > thresh:\n",
    "            new_adj[j][i] = 1\n",
    "        elif np.abs(adj_1[i][j]) > thresh:\n",
    "            new_adj[i][j] = 1"
   ]
  },
  {
   "cell_type": "code",
   "execution_count": 1268,
   "id": "dc7ba130-1e4e-4348-8faf-a68b522c47f8",
   "metadata": {},
   "outputs": [
    {
     "data": {
      "text/plain": [
       "<matplotlib.image.AxesImage at 0x5b0366bd0>"
      ]
     },
     "execution_count": 1268,
     "metadata": {},
     "output_type": "execute_result"
    },
    {
     "data": {
      "image/png": "[encoded data removed]",
      "text/plain": [
       "<Figure size 640x480 with 1 Axes>"
      ]
     },
     "metadata": {},
     "output_type": "display_data"
    }
   ],
   "source": [
    "plt.imshow(new_adj)"
   ]
  },
  {
   "cell_type": "code",
   "execution_count": 1269,
   "id": "3b463076-b46e-4b18-aea5-6373470dbcc2",
   "metadata": {},
   "outputs": [],
   "source": [
    "g = nx.DiGraph(new_adj, nodes=df_asia.columns)"
   ]
  },
  {
   "cell_type": "code",
   "execution_count": 1270,
   "id": "18eaa4b9-18bd-4355-b292-becba0f80191",
   "metadata": {},
   "outputs": [
    {
     "data": {
      "image/png": "[encoded data removed]",
      "text/plain": [
       "<Figure size 640x480 with 1 Axes>"
      ]
     },
     "metadata": {},
     "output_type": "display_data"
    }
   ],
   "source": [
    "pos = nx.circular_layout(g)\n",
    "nx.draw_networkx(g, pos, labels = {\n",
    "    i:df_asia.columns[i] for i in range(len(g.nodes))\n",
    "})"
   ]
  },
  {
   "cell_type": "code",
   "execution_count": 1271,
   "id": "e2ca04ef-8bc3-4bbe-be99-0dcfa970e620",
   "metadata": {},
   "outputs": [
    {
     "data": {
      "text/plain": [
       "(14.0, 14)"
      ]
     },
     "execution_count": 1271,
     "metadata": {},
     "output_type": "execute_result"
    }
   ],
   "source": [
    "comb_SHD(new_adj, model_asia['adjmat'].astype(int).to_numpy())"
   ]
  },
  {
   "cell_type": "code",
   "execution_count": null,
   "id": "6534f05d-bdfb-47e9-8126-171df3fd67dd",
   "metadata": {},
   "outputs": [],
   "source": []
  },
  {
   "cell_type": "code",
   "execution_count": 1272,
   "id": "683c9e2e-be9c-4de4-ad6f-d6886c85ce01",
   "metadata": {},
   "outputs": [
    {
     "data": {
      "text/plain": [
       "tensor(0.2709)"
      ]
     },
     "execution_count": 1272,
     "metadata": {},
     "output_type": "execute_result"
    }
   ],
   "source": [
    "max(explanation['edge_mask'])"
   ]
  },
  {
   "cell_type": "code",
   "execution_count": 1273,
   "id": "c8f82963-fe6b-4de4-aa7b-69b8d08d6844",
   "metadata": {},
   "outputs": [
    {
     "data": {
      "text/plain": [
       "tensor(0.0728)"
      ]
     },
     "execution_count": 1273,
     "metadata": {},
     "output_type": "execute_result"
    }
   ],
   "source": [
    "torch.std(explanation['edge_mask'])"
   ]
  },
  {
   "cell_type": "code",
   "execution_count": 1274,
   "id": "c6186a34-f7e7-491e-a2a0-188f86d96c95",
   "metadata": {},
   "outputs": [
    {
     "data": {
      "text/plain": [
       "tensor(0.1250)"
      ]
     },
     "execution_count": 1274,
     "metadata": {},
     "output_type": "execute_result"
    }
   ],
   "source": [
    "torch.mean(explanation['edge_mask'])"
   ]
  },
  {
   "cell_type": "code",
   "execution_count": 1275,
   "id": "87cce727-58fc-43b4-ba64-151ac350ffa4",
   "metadata": {},
   "outputs": [],
   "source": [
    "att_thresh = (explanation['edge_mask'] > torch.mean(explanation['edge_mask']) + 1 * torch.std(explanation['edge_mask'])).detach().numpy().astype(int)\n",
    "# att_thresh = explanation['edge_mask'] == max(explanation['edge_mask'])"
   ]
  },
  {
   "cell_type": "code",
   "execution_count": 1276,
   "id": "74fc4d45-b58c-4a93-b347-08176113b862",
   "metadata": {
    "scrolled": true
   },
   "outputs": [
    {
     "name": "stdout",
     "output_type": "stream",
     "text": [
      "[0 1]\n",
      "[1 0]\n",
      "[0 2]\n",
      "[0 3]\n",
      "[0 4]\n",
      "[0 5]\n",
      "[0 6]\n",
      "[0 7]\n",
      "[1 2]\n",
      "[1 3]\n",
      "[1 4]\n",
      "[1 5]\n",
      "[1 6]\n",
      "[1 7]\n"
     ]
    }
   ],
   "source": [
    "temp_adj = np.zeros((adj_mat_size, adj_mat_size), dtype=int)\n",
    "for i in range(len(att_thresh)):\n",
    "    if att_thresh[i] == 1:\n",
    "        print(edge_index[i].detach().numpy())\n",
    "        idx = edge_index[i].detach().numpy()\n",
    "        temp_adj[idx[1]][idx[0]] = 1"
   ]
  },
  {
   "cell_type": "code",
   "execution_count": 1277,
   "id": "39f70faa-ad27-4862-9511-26e37e191175",
   "metadata": {},
   "outputs": [
    {
     "data": {
      "text/plain": [
       "<matplotlib.image.AxesImage at 0x5b05175f0>"
      ]
     },
     "execution_count": 1277,
     "metadata": {},
     "output_type": "execute_result"
    },
    {
     "data": {
      "image/png": "[encoded data removed]",
      "text/plain": [
       "<Figure size 640x480 with 1 Axes>"
      ]
     },
     "metadata": {},
     "output_type": "display_data"
    }
   ],
   "source": [
    "plt.imshow(temp_adj)"
   ]
  },
  {
   "cell_type": "code",
   "execution_count": 1278,
   "id": "cfc1b394-d0c6-473e-988a-19c70b6ba140",
   "metadata": {},
   "outputs": [
    {
     "data": {
      "text/plain": [
       "(20, 17)"
      ]
     },
     "execution_count": 1278,
     "metadata": {},
     "output_type": "execute_result"
    }
   ],
   "source": [
    "comb_SHD(temp_adj, model_asia['adjmat'].astype(int).to_numpy())"
   ]
  },
  {
   "cell_type": "code",
   "execution_count": 1279,
   "id": "6db45dbe-9bf7-4fe1-8818-c45a43bcceab",
   "metadata": {},
   "outputs": [],
   "source": [
    "g = nx.DiGraph(temp_adj, nodes=df_asia.columns)"
   ]
  },
  {
   "cell_type": "code",
   "execution_count": 1280,
   "id": "5d11be52-ade3-4625-9012-0a7fa7a86b6f",
   "metadata": {},
   "outputs": [
    {
     "data": {
      "image/png": "[encoded data removed]",
      "text/plain": [
       "<Figure size 640x480 with 1 Axes>"
      ]
     },
     "metadata": {},
     "output_type": "display_data"
    }
   ],
   "source": [
    "pos = nx.circular_layout(g)\n",
    "nx.draw_networkx(g, pos, labels = {\n",
    "    i:df_asia.columns[i] for i in range(len(g.nodes))\n",
    "})"
   ]
  },
  {
   "cell_type": "code",
   "execution_count": 1281,
   "id": "bd6982b8-8a3d-4ecd-ad30-f92fedabe6c7",
   "metadata": {},
   "outputs": [],
   "source": [
    "explanation.visualize_graph(node_labels=df_asia.columns)"
   ]
  },
  {
   "cell_type": "code",
   "execution_count": 1282,
   "id": "e140609a-ff23-4d97-a858-cb958be56d4e",
   "metadata": {},
   "outputs": [
    {
     "data": {
      "text/plain": [
       "9.26478385925293"
      ]
     },
     "execution_count": 1282,
     "metadata": {},
     "output_type": "execute_result"
    }
   ],
   "source": [
    "max(losses)"
   ]
  },
  {
   "cell_type": "code",
   "execution_count": 1179,
   "id": "494e1355-2d63-4bb7-80f2-79ffc86606c0",
   "metadata": {},
   "outputs": [
    {
     "data": {
      "text/plain": [
       "0.7973874807357788"
      ]
     },
     "execution_count": 1179,
     "metadata": {},
     "output_type": "execute_result"
    }
   ],
   "source": [
    "min(losses)"
   ]
  },
  {
   "cell_type": "code",
   "execution_count": 1180,
   "id": "dda21e2d-3190-44ab-83d2-58f995ef76d3",
   "metadata": {},
   "outputs": [
    {
     "data": {
      "text/plain": [
       "[<matplotlib.lines.Line2D at 0x5af1d21e0>]"
      ]
     },
     "execution_count": 1180,
     "metadata": {},
     "output_type": "execute_result"
    },
    {
     "data": {
      "image/png": "[encoded data removed]",
      "text/plain": [
       "<Figure size 640x480 with 1 Axes>"
      ]
     },
     "metadata": {},
     "output_type": "display_data"
    }
   ],
   "source": [
    "plt.plot(losses)"
   ]
  },
  {
   "cell_type": "code",
   "execution_count": null,
   "id": "dbd3a42d-b98b-4f8c-82d0-23609642f700",
   "metadata": {},
   "outputs": [],
   "source": []
  },
  {
   "cell_type": "code",
   "execution_count": null,
   "id": "89ab7a48-8abf-4a15-9095-40d71e9db8d7",
   "metadata": {},
   "outputs": [],
   "source": []
  }
 ],
 "metadata": {
  "kernelspec": {
   "display_name": "Python 3 (ipykernel)",
   "language": "python",
   "name": "python3"
  },
  "language_info": {
   "codemirror_mode": {
    "name": "ipython",
    "version": 3
   },
   "file_extension": ".py",
   "mimetype": "text/x-python",
   "name": "python",
   "nbconvert_exporter": "python",
   "pygments_lexer": "ipython3",
   "version": "3.12.8"
  }
 },
 "nbformat": 4,
 "nbformat_minor": 5
}
