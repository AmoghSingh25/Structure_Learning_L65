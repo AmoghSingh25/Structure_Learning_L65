{
 "cells": [
  {
   "cell_type": "markdown",
   "id": "83808770-14c7-4613-8f5f-67a1f49efda1",
   "metadata": {},
   "source": [
    "## Methods\n",
    "1 - Feed Random Noise and reconstruct the data\n",
    "\n",
    "2 - Start with clean data, keep adding on noise slowly\n",
    "\n",
    "3 - Reduce dimension - Done\n",
    "\n",
    "\n",
    "Use argmax for classification - dont directly correlate/calculate loss on the logits - Currently directly correlating the logits"
   ]
  },
  {
   "cell_type": "code",
   "execution_count": 1,
   "id": "2350116f-92ab-4fca-baa5-0adf24777abc",
   "metadata": {},
   "outputs": [],
   "source": [
    "import torch.nn.functional as F\n",
    "import torch\n",
    "from torch_geometric.nn import Sequential, GCNConv\n",
    "\n",
    "import numpy as np\n",
    "from pgmpy.metrics import correlation_score\n",
    "from pgmpy.base import DAG\n",
    "from pgmpy.models import BayesianNetwork\n",
    "import networkx as nx\n",
    "from scipy.stats import chi2_contingency\n",
    "import pandas as pd\n",
    "\n",
    "import bnlearn as bn\n",
    "import matplotlib.pyplot as plt\n",
    "from tqdm import tqdm"
   ]
  },
  {
   "cell_type": "code",
   "execution_count": 2,
   "id": "ecbc12dd-291e-4627-83ba-02843c8df48b",
   "metadata": {},
   "outputs": [],
   "source": [
    "# from torch_geometric.nn.models import GAT\n",
    "from torch_geometric.nn import GATConv, GATv2Conv, Linear\n",
    "from torch_geometric.data import Data\n",
    "from torch_geometric.explain import AttentionExplainer, ModelConfig, ExplainerConfig, Explainer, GNNExplainer"
   ]
  },
  {
   "cell_type": "code",
   "execution_count": 3,
   "id": "c6b58416-c727-441a-a1d0-9f1d4a122b12",
   "metadata": {},
   "outputs": [],
   "source": [
    "def undirected_SHD(g1, g2):\n",
    "    g1 = np.tril(((g1 + g1.T) > 0).astype(int))\n",
    "    g2 = np.tril(((g2 + g2.T) > 0).astype(int))\n",
    "    return np.sum(np.abs(g1-g2))"
   ]
  },
  {
   "cell_type": "code",
   "execution_count": 4,
   "id": "d3240329-0ff2-4f5c-938e-b34d7c6601ec",
   "metadata": {},
   "outputs": [],
   "source": [
    "def comb_SHD(g1, g2):\n",
    "    return np.sum(np.abs(g1 - g2)), undirected_SHD(g1,g2)"
   ]
  },
  {
   "cell_type": "code",
   "execution_count": 5,
   "id": "477221dc-1daa-4e33-acac-1d5836e66c7c",
   "metadata": {
    "scrolled": true
   },
   "outputs": [
    {
     "name": "stdout",
     "output_type": "stream",
     "text": [
      "[bnlearn] >Import <BIFs/asia.bif>\n",
      "[bnlearn] >Loading bif file <BIFs/asia.bif>\n",
      "[bnlearn] >Check whether CPDs sum up to one.\n"
     ]
    }
   ],
   "source": [
    "num_samples = 10000\n",
    "file_name = \"asia\"\n",
    "model_asia = bn.import_DAG(\"BIFs/\" + file_name + \".bif\")\n",
    "df_asia = bn.sampling(model_asia, n=num_samples)\n",
    "# df_asia = df_asia.drop(file_name, axis=1)\n",
    "nodes_orig = list(model_asia['adjmat'].columns)\n",
    "asia_dag = DAG(model_asia['adjmat'])"
   ]
  },
  {
   "cell_type": "code",
   "execution_count": 6,
   "id": "327d2f5f-86f8-4fe1-86a2-d14958735ba3",
   "metadata": {},
   "outputs": [
    {
     "data": {
      "text/html": [
       "<div>\n",
       "<style scoped>\n",
       "    .dataframe tbody tr th:only-of-type {\n",
       "        vertical-align: middle;\n",
       "    }\n",
       "\n",
       "    .dataframe tbody tr th {\n",
       "        vertical-align: top;\n",
       "    }\n",
       "\n",
       "    .dataframe thead th {\n",
       "        text-align: right;\n",
       "    }\n",
       "</style>\n",
       "<table border=\"1\" class=\"dataframe\">\n",
       "  <thead>\n",
       "    <tr style=\"text-align: right;\">\n",
       "      <th></th>\n",
       "      <th>asia</th>\n",
       "      <th>tub</th>\n",
       "      <th>smoke</th>\n",
       "      <th>lung</th>\n",
       "      <th>bronc</th>\n",
       "      <th>either</th>\n",
       "      <th>xray</th>\n",
       "      <th>dysp</th>\n",
       "    </tr>\n",
       "  </thead>\n",
       "  <tbody>\n",
       "    <tr>\n",
       "      <th>0</th>\n",
       "      <td>1</td>\n",
       "      <td>1</td>\n",
       "      <td>0</td>\n",
       "      <td>1</td>\n",
       "      <td>0</td>\n",
       "      <td>1</td>\n",
       "      <td>1</td>\n",
       "      <td>0</td>\n",
       "    </tr>\n",
       "    <tr>\n",
       "      <th>1</th>\n",
       "      <td>1</td>\n",
       "      <td>1</td>\n",
       "      <td>1</td>\n",
       "      <td>1</td>\n",
       "      <td>1</td>\n",
       "      <td>1</td>\n",
       "      <td>1</td>\n",
       "      <td>1</td>\n",
       "    </tr>\n",
       "    <tr>\n",
       "      <th>2</th>\n",
       "      <td>1</td>\n",
       "      <td>1</td>\n",
       "      <td>0</td>\n",
       "      <td>1</td>\n",
       "      <td>0</td>\n",
       "      <td>1</td>\n",
       "      <td>1</td>\n",
       "      <td>0</td>\n",
       "    </tr>\n",
       "    <tr>\n",
       "      <th>3</th>\n",
       "      <td>1</td>\n",
       "      <td>1</td>\n",
       "      <td>1</td>\n",
       "      <td>1</td>\n",
       "      <td>1</td>\n",
       "      <td>1</td>\n",
       "      <td>1</td>\n",
       "      <td>1</td>\n",
       "    </tr>\n",
       "    <tr>\n",
       "      <th>4</th>\n",
       "      <td>1</td>\n",
       "      <td>1</td>\n",
       "      <td>1</td>\n",
       "      <td>1</td>\n",
       "      <td>1</td>\n",
       "      <td>1</td>\n",
       "      <td>1</td>\n",
       "      <td>0</td>\n",
       "    </tr>\n",
       "    <tr>\n",
       "      <th>...</th>\n",
       "      <td>...</td>\n",
       "      <td>...</td>\n",
       "      <td>...</td>\n",
       "      <td>...</td>\n",
       "      <td>...</td>\n",
       "      <td>...</td>\n",
       "      <td>...</td>\n",
       "      <td>...</td>\n",
       "    </tr>\n",
       "    <tr>\n",
       "      <th>9995</th>\n",
       "      <td>1</td>\n",
       "      <td>1</td>\n",
       "      <td>0</td>\n",
       "      <td>1</td>\n",
       "      <td>1</td>\n",
       "      <td>1</td>\n",
       "      <td>1</td>\n",
       "      <td>1</td>\n",
       "    </tr>\n",
       "    <tr>\n",
       "      <th>9996</th>\n",
       "      <td>1</td>\n",
       "      <td>1</td>\n",
       "      <td>1</td>\n",
       "      <td>1</td>\n",
       "      <td>1</td>\n",
       "      <td>1</td>\n",
       "      <td>1</td>\n",
       "      <td>1</td>\n",
       "    </tr>\n",
       "    <tr>\n",
       "      <th>9997</th>\n",
       "      <td>1</td>\n",
       "      <td>1</td>\n",
       "      <td>0</td>\n",
       "      <td>1</td>\n",
       "      <td>1</td>\n",
       "      <td>1</td>\n",
       "      <td>1</td>\n",
       "      <td>1</td>\n",
       "    </tr>\n",
       "    <tr>\n",
       "      <th>9998</th>\n",
       "      <td>1</td>\n",
       "      <td>1</td>\n",
       "      <td>1</td>\n",
       "      <td>1</td>\n",
       "      <td>1</td>\n",
       "      <td>1</td>\n",
       "      <td>1</td>\n",
       "      <td>1</td>\n",
       "    </tr>\n",
       "    <tr>\n",
       "      <th>9999</th>\n",
       "      <td>1</td>\n",
       "      <td>1</td>\n",
       "      <td>1</td>\n",
       "      <td>1</td>\n",
       "      <td>1</td>\n",
       "      <td>1</td>\n",
       "      <td>1</td>\n",
       "      <td>1</td>\n",
       "    </tr>\n",
       "  </tbody>\n",
       "</table>\n",
       "<p>10000 rows × 8 columns</p>\n",
       "</div>"
      ],
      "text/plain": [
       "      asia  tub  smoke  lung  bronc  either  xray  dysp\n",
       "0        1    1      0     1      0       1     1     0\n",
       "1        1    1      1     1      1       1     1     1\n",
       "2        1    1      0     1      0       1     1     0\n",
       "3        1    1      1     1      1       1     1     1\n",
       "4        1    1      1     1      1       1     1     0\n",
       "...    ...  ...    ...   ...    ...     ...   ...   ...\n",
       "9995     1    1      0     1      1       1     1     1\n",
       "9996     1    1      1     1      1       1     1     1\n",
       "9997     1    1      0     1      1       1     1     1\n",
       "9998     1    1      1     1      1       1     1     1\n",
       "9999     1    1      1     1      1       1     1     1\n",
       "\n",
       "[10000 rows x 8 columns]"
      ]
     },
     "execution_count": 6,
     "metadata": {},
     "output_type": "execute_result"
    }
   ],
   "source": [
    "df_asia"
   ]
  },
  {
   "cell_type": "code",
   "execution_count": 7,
   "id": "0e743c8e-0943-4b57-899b-aa63e10a7c65",
   "metadata": {},
   "outputs": [
    {
     "data": {
      "text/plain": [
       "(8, 10000)"
      ]
     },
     "execution_count": 7,
     "metadata": {},
     "output_type": "execute_result"
    }
   ],
   "source": [
    "df_asia.T.to_numpy().shape"
   ]
  },
  {
   "cell_type": "code",
   "execution_count": 869,
   "id": "c2a6e914-0a02-40f7-bede-23beacdb1a6f",
   "metadata": {},
   "outputs": [
    {
     "name": "stderr",
     "output_type": "stream",
     "text": [
      "[setgraphviz] >INFO> System found: osx\n",
      "[setgraphviz] >INFO> The OS is not supported to automatically set Graphviz in the system env.\n",
      "[setgraphviz] >INFO> Graphviz path found in environment.\n"
     ]
    },
    {
     "data": {
      "image/svg+xml": [
       "<?xml version=\"1.0\" encoding=\"UTF-8\" standalone=\"no\"?>\n",
       "<!DOCTYPE svg PUBLIC \"-//W3C//DTD SVG 1.1//EN\"\n",
       " \"http://www.w3.org/Graphics/SVG/1.1/DTD/svg11.dtd\">\n",
       "<!-- Generated by graphviz version 12.2.1 (20241206.2353)\n",
       " -->\n",
       "<!-- Pages: 1 -->\n",
       "<svg width=\"194pt\" height=\"329pt\"\n",
       " viewBox=\"0.00 0.00 193.90 329.00\" xmlns=\"http://www.w3.org/2000/svg\" xmlns:xlink=\"http://www.w3.org/1999/xlink\">\n",
       "<g id=\"graph0\" class=\"graph\" transform=\"scale(1 1) rotate(0) translate(4 325)\">\n",
       "<polygon fill=\"white\" stroke=\"none\" points=\"-4,4 -4,-325 189.9,-325 189.9,4 -4,4\"/>\n",
       "<!-- asia -->\n",
       "<g id=\"node1\" class=\"node\">\n",
       "<title>asia</title>\n",
       "<ellipse fill=\"none\" stroke=\"black\" cx=\"27\" cy=\"-303\" rx=\"27\" ry=\"18\"/>\n",
       "<text text-anchor=\"middle\" x=\"27\" y=\"-297.95\" font-family=\"Times,serif\" font-size=\"14.00\">asia</text>\n",
       "</g>\n",
       "<!-- tub -->\n",
       "<g id=\"node2\" class=\"node\">\n",
       "<title>tub</title>\n",
       "<ellipse fill=\"none\" stroke=\"black\" cx=\"27\" cy=\"-214.5\" rx=\"27\" ry=\"18\"/>\n",
       "<text text-anchor=\"middle\" x=\"27\" y=\"-209.45\" font-family=\"Times,serif\" font-size=\"14.00\">tub</text>\n",
       "</g>\n",
       "<!-- asia&#45;&gt;tub -->\n",
       "<g id=\"edge1\" class=\"edge\">\n",
       "<title>asia&#45;&gt;tub</title>\n",
       "<path fill=\"none\" stroke=\"black\" d=\"M27,-284.91C27,-273.26 27,-257.55 27,-244.02\"/>\n",
       "<polygon fill=\"black\" stroke=\"black\" points=\"30.5,-244.36 27,-234.36 23.5,-244.36 30.5,-244.36\"/>\n",
       "<text text-anchor=\"middle\" x=\"39\" y=\"-253.7\" font-family=\"Times,serif\" font-size=\"14.00\">1.00</text>\n",
       "</g>\n",
       "<!-- either -->\n",
       "<g id=\"node6\" class=\"node\">\n",
       "<title>either</title>\n",
       "<ellipse fill=\"none\" stroke=\"black\" cx=\"77\" cy=\"-106.5\" rx=\"31.9\" ry=\"18\"/>\n",
       "<text text-anchor=\"middle\" x=\"77\" y=\"-101.45\" font-family=\"Times,serif\" font-size=\"14.00\">either</text>\n",
       "</g>\n",
       "<!-- tub&#45;&gt;either -->\n",
       "<g id=\"edge4\" class=\"edge\">\n",
       "<title>tub&#45;&gt;either</title>\n",
       "<path fill=\"none\" stroke=\"black\" d=\"M32.33,-196.41C37.17,-181.75 44.94,-160.23 54,-142.5 55.6,-139.36 57.42,-136.16 59.32,-133.03\"/>\n",
       "<polygon fill=\"black\" stroke=\"black\" points=\"62.2,-135.02 64.66,-124.71 56.31,-131.24 62.2,-135.02\"/>\n",
       "<text text-anchor=\"middle\" x=\"66\" y=\"-155.45\" font-family=\"Times,serif\" font-size=\"14.00\">1.00</text>\n",
       "</g>\n",
       "<!-- smoke -->\n",
       "<g id=\"node3\" class=\"node\">\n",
       "<title>smoke</title>\n",
       "<ellipse fill=\"none\" stroke=\"black\" cx=\"130\" cy=\"-303\" rx=\"35.49\" ry=\"18\"/>\n",
       "<text text-anchor=\"middle\" x=\"130\" y=\"-297.95\" font-family=\"Times,serif\" font-size=\"14.00\">smoke</text>\n",
       "</g>\n",
       "<!-- lung -->\n",
       "<g id=\"node4\" class=\"node\">\n",
       "<title>lung</title>\n",
       "<ellipse fill=\"none\" stroke=\"black\" cx=\"99\" cy=\"-214.5\" rx=\"27.3\" ry=\"18\"/>\n",
       "<text text-anchor=\"middle\" x=\"99\" y=\"-209.45\" font-family=\"Times,serif\" font-size=\"14.00\">lung</text>\n",
       "</g>\n",
       "<!-- smoke&#45;&gt;lung -->\n",
       "<g id=\"edge2\" class=\"edge\">\n",
       "<title>smoke&#45;&gt;lung</title>\n",
       "<path fill=\"none\" stroke=\"black\" d=\"M117.86,-285.61C114.18,-279.96 110.47,-273.43 108,-267 105.22,-259.77 103.29,-251.64 101.96,-244.01\"/>\n",
       "<polygon fill=\"black\" stroke=\"black\" points=\"105.43,-243.54 100.53,-234.14 98.5,-244.54 105.43,-243.54\"/>\n",
       "<text text-anchor=\"middle\" x=\"120\" y=\"-253.7\" font-family=\"Times,serif\" font-size=\"14.00\">1.00</text>\n",
       "</g>\n",
       "<!-- bronc -->\n",
       "<g id=\"node5\" class=\"node\">\n",
       "<title>bronc</title>\n",
       "<ellipse fill=\"none\" stroke=\"black\" cx=\"154\" cy=\"-160.5\" rx=\"31.9\" ry=\"18\"/>\n",
       "<text text-anchor=\"middle\" x=\"154\" y=\"-155.45\" font-family=\"Times,serif\" font-size=\"14.00\">bronc</text>\n",
       "</g>\n",
       "<!-- smoke&#45;&gt;bronc -->\n",
       "<g id=\"edge3\" class=\"edge\">\n",
       "<title>smoke&#45;&gt;bronc</title>\n",
       "<path fill=\"none\" stroke=\"black\" d=\"M132.94,-284.77C136.97,-261.18 144.26,-218.5 149.12,-190.08\"/>\n",
       "<polygon fill=\"black\" stroke=\"black\" points=\"152.54,-190.81 150.78,-180.36 145.64,-189.63 152.54,-190.81\"/>\n",
       "<text text-anchor=\"middle\" x=\"150.45\" y=\"-253.7\" font-family=\"Times,serif\" font-size=\"14.00\">1.00</text>\n",
       "</g>\n",
       "<!-- lung&#45;&gt;either -->\n",
       "<g id=\"edge5\" class=\"edge\">\n",
       "<title>lung&#45;&gt;either</title>\n",
       "<path fill=\"none\" stroke=\"black\" d=\"M93.74,-196.51C92.08,-190.82 90.34,-184.42 89,-178.5 85.85,-164.59 83.12,-148.98 81.07,-135.95\"/>\n",
       "<polygon fill=\"black\" stroke=\"black\" points=\"84.57,-135.68 79.61,-126.32 77.65,-136.73 84.57,-135.68\"/>\n",
       "<text text-anchor=\"middle\" x=\"101\" y=\"-155.45\" font-family=\"Times,serif\" font-size=\"14.00\">1.00</text>\n",
       "</g>\n",
       "<!-- dysp -->\n",
       "<g id=\"node8\" class=\"node\">\n",
       "<title>dysp</title>\n",
       "<ellipse fill=\"none\" stroke=\"black\" cx=\"148\" cy=\"-18\" rx=\"28.32\" ry=\"18\"/>\n",
       "<text text-anchor=\"middle\" x=\"148\" y=\"-12.95\" font-family=\"Times,serif\" font-size=\"14.00\">dysp</text>\n",
       "</g>\n",
       "<!-- bronc&#45;&gt;dysp -->\n",
       "<g id=\"edge7\" class=\"edge\">\n",
       "<title>bronc&#45;&gt;dysp</title>\n",
       "<path fill=\"none\" stroke=\"black\" d=\"M153.26,-142.27C152.26,-118.68 150.43,-76 149.22,-47.58\"/>\n",
       "<polygon fill=\"black\" stroke=\"black\" points=\"152.73,-47.72 148.81,-37.88 145.74,-48.02 152.73,-47.72\"/>\n",
       "<text text-anchor=\"middle\" x=\"164.48\" y=\"-101.45\" font-family=\"Times,serif\" font-size=\"14.00\">1.00</text>\n",
       "</g>\n",
       "<!-- xray -->\n",
       "<g id=\"node7\" class=\"node\">\n",
       "<title>xray</title>\n",
       "<ellipse fill=\"none\" stroke=\"black\" cx=\"68\" cy=\"-18\" rx=\"27.3\" ry=\"18\"/>\n",
       "<text text-anchor=\"middle\" x=\"68\" y=\"-12.95\" font-family=\"Times,serif\" font-size=\"14.00\">xray</text>\n",
       "</g>\n",
       "<!-- either&#45;&gt;xray -->\n",
       "<g id=\"edge6\" class=\"edge\">\n",
       "<title>either&#45;&gt;xray</title>\n",
       "<path fill=\"none\" stroke=\"black\" d=\"M72.39,-88.53C71.04,-82.85 69.73,-76.44 69,-70.5 68.1,-63.13 67.67,-55.13 67.51,-47.68\"/>\n",
       "<polygon fill=\"black\" stroke=\"black\" points=\"71.02,-47.72 67.46,-37.74 64.02,-47.76 71.02,-47.72\"/>\n",
       "<text text-anchor=\"middle\" x=\"81\" y=\"-57.2\" font-family=\"Times,serif\" font-size=\"14.00\">1.00</text>\n",
       "</g>\n",
       "<!-- either&#45;&gt;dysp -->\n",
       "<g id=\"edge8\" class=\"edge\">\n",
       "<title>either&#45;&gt;dysp</title>\n",
       "<path fill=\"none\" stroke=\"black\" d=\"M88.58,-89.43C96.15,-79.12 106.38,-65.55 116,-54 119.29,-50.05 122.88,-45.94 126.42,-41.99\"/>\n",
       "<polygon fill=\"black\" stroke=\"black\" points=\"128.8,-44.58 132.97,-34.83 123.64,-39.86 128.8,-44.58\"/>\n",
       "<text text-anchor=\"middle\" x=\"128\" y=\"-57.2\" font-family=\"Times,serif\" font-size=\"14.00\">1.00</text>\n",
       "</g>\n",
       "</g>\n",
       "</svg>\n"
      ],
      "text/plain": [
       "<graphviz.graphs.Digraph at 0x3aa1189e0>"
      ]
     },
     "execution_count": 869,
     "metadata": {},
     "output_type": "execute_result"
    }
   ],
   "source": [
    "bn.plot_graphviz(model_asia)"
   ]
  },
  {
   "cell_type": "code",
   "execution_count": 870,
   "id": "f3e043e3-9442-4961-80f4-4fd796fd8eda",
   "metadata": {
    "scrolled": true
   },
   "outputs": [
    {
     "data": {
      "text/plain": [
       "array([[1, 1, 1, 1, 1, 1, 1, 0],\n",
       "       [1, 1, 0, 1, 1, 1, 1, 1],\n",
       "       [1, 1, 1, 1, 1, 1, 1, 1],\n",
       "       [1, 1, 1, 1, 1, 1, 1, 1],\n",
       "       [1, 1, 0, 0, 0, 0, 0, 1],\n",
       "       [1, 1, 1, 1, 0, 1, 1, 0],\n",
       "       [1, 1, 1, 1, 0, 1, 1, 0],\n",
       "       [1, 1, 0, 1, 0, 1, 1, 0],\n",
       "       [1, 1, 0, 1, 0, 1, 1, 0],\n",
       "       [1, 1, 1, 1, 1, 1, 1, 1],\n",
       "       [1, 1, 1, 1, 1, 1, 1, 1],\n",
       "       [1, 1, 0, 1, 0, 1, 1, 0],\n",
       "       [1, 1, 1, 1, 0, 1, 1, 0],\n",
       "       [1, 0, 0, 0, 1, 0, 0, 0],\n",
       "       [1, 1, 1, 1, 1, 1, 1, 1],\n",
       "       [1, 1, 0, 1, 0, 1, 1, 1],\n",
       "       [1, 1, 1, 1, 0, 1, 1, 0],\n",
       "       [1, 1, 0, 1, 1, 1, 1, 1],\n",
       "       [1, 1, 1, 1, 1, 1, 1, 1],\n",
       "       [1, 1, 1, 1, 1, 1, 1, 1],\n",
       "       [1, 1, 1, 1, 0, 1, 1, 1],\n",
       "       [1, 1, 0, 0, 0, 0, 0, 0],\n",
       "       [1, 1, 1, 1, 1, 1, 1, 1],\n",
       "       [1, 1, 1, 1, 1, 1, 0, 1],\n",
       "       [1, 1, 1, 1, 1, 1, 1, 1],\n",
       "       [1, 1, 0, 1, 1, 1, 1, 1],\n",
       "       [1, 1, 1, 1, 1, 1, 1, 1],\n",
       "       [1, 1, 0, 1, 1, 1, 1, 1],\n",
       "       [1, 1, 1, 1, 1, 1, 1, 1],\n",
       "       [1, 1, 1, 1, 1, 1, 1, 1],\n",
       "       [1, 1, 1, 1, 1, 1, 1, 1],\n",
       "       [1, 1, 0, 1, 0, 1, 1, 0],\n",
       "       [1, 1, 1, 1, 1, 1, 1, 1],\n",
       "       [1, 1, 1, 1, 0, 1, 0, 0],\n",
       "       [1, 1, 1, 1, 0, 1, 1, 0],\n",
       "       [1, 1, 1, 1, 0, 1, 1, 0],\n",
       "       [1, 1, 0, 0, 1, 0, 0, 0],\n",
       "       [1, 1, 1, 1, 0, 1, 1, 1],\n",
       "       [1, 1, 0, 1, 1, 1, 1, 1],\n",
       "       [1, 1, 0, 1, 0, 1, 1, 1],\n",
       "       [1, 1, 0, 1, 0, 1, 1, 0],\n",
       "       [1, 1, 0, 1, 0, 1, 1, 0],\n",
       "       [1, 1, 1, 1, 1, 1, 1, 1],\n",
       "       [1, 1, 1, 1, 1, 1, 1, 1],\n",
       "       [1, 1, 1, 1, 0, 1, 1, 0],\n",
       "       [1, 1, 1, 1, 1, 1, 1, 1],\n",
       "       [1, 1, 0, 1, 0, 1, 1, 0],\n",
       "       [1, 1, 0, 1, 1, 1, 1, 0],\n",
       "       [1, 1, 1, 1, 0, 1, 1, 0],\n",
       "       [1, 1, 0, 1, 1, 1, 1, 1],\n",
       "       [1, 1, 1, 1, 1, 1, 1, 1],\n",
       "       [1, 1, 1, 1, 0, 1, 1, 0],\n",
       "       [1, 1, 0, 1, 0, 1, 1, 0],\n",
       "       [1, 1, 0, 1, 0, 1, 1, 0],\n",
       "       [1, 1, 0, 1, 0, 1, 1, 0],\n",
       "       [1, 1, 1, 1, 1, 1, 1, 1],\n",
       "       [1, 1, 1, 1, 0, 1, 1, 0],\n",
       "       [1, 1, 0, 1, 0, 1, 1, 1],\n",
       "       [1, 1, 0, 1, 0, 1, 1, 0],\n",
       "       [1, 1, 1, 1, 0, 1, 1, 0],\n",
       "       [1, 1, 1, 1, 1, 1, 1, 1],\n",
       "       [1, 1, 0, 1, 1, 1, 1, 1],\n",
       "       [1, 1, 1, 1, 1, 1, 1, 1],\n",
       "       [1, 1, 1, 1, 1, 1, 1, 1],\n",
       "       [1, 1, 0, 1, 0, 1, 1, 0],\n",
       "       [1, 1, 1, 1, 1, 1, 1, 1],\n",
       "       [1, 1, 0, 1, 0, 1, 1, 0],\n",
       "       [1, 1, 0, 1, 1, 1, 0, 1],\n",
       "       [1, 1, 0, 1, 0, 1, 1, 0],\n",
       "       [1, 1, 0, 1, 0, 1, 1, 0],\n",
       "       [1, 1, 0, 1, 0, 1, 1, 0],\n",
       "       [1, 1, 0, 1, 1, 1, 1, 0],\n",
       "       [1, 1, 0, 1, 1, 1, 1, 1],\n",
       "       [1, 1, 1, 1, 1, 1, 1, 1],\n",
       "       [1, 1, 1, 1, 1, 1, 1, 1],\n",
       "       [1, 1, 1, 1, 0, 1, 1, 0],\n",
       "       [1, 1, 1, 1, 1, 1, 1, 1],\n",
       "       [1, 1, 1, 1, 0, 1, 1, 0],\n",
       "       [1, 1, 1, 1, 1, 1, 1, 1],\n",
       "       [1, 1, 1, 1, 0, 1, 1, 0],\n",
       "       [1, 1, 1, 1, 1, 1, 1, 1],\n",
       "       [1, 1, 0, 1, 0, 1, 1, 1],\n",
       "       [1, 1, 0, 1, 0, 1, 1, 1],\n",
       "       [0, 1, 1, 1, 1, 1, 1, 0],\n",
       "       [1, 1, 1, 1, 1, 1, 1, 0],\n",
       "       [1, 1, 1, 1, 1, 1, 1, 1],\n",
       "       [1, 1, 1, 1, 0, 1, 1, 0],\n",
       "       [1, 1, 1, 1, 0, 1, 1, 0],\n",
       "       [1, 1, 1, 1, 1, 1, 1, 1],\n",
       "       [1, 1, 0, 1, 1, 1, 1, 0],\n",
       "       [1, 1, 1, 1, 1, 1, 1, 1],\n",
       "       [1, 1, 1, 1, 0, 1, 1, 0],\n",
       "       [1, 1, 1, 1, 1, 1, 1, 1],\n",
       "       [1, 1, 1, 1, 1, 1, 1, 1],\n",
       "       [1, 1, 0, 1, 0, 1, 1, 0],\n",
       "       [1, 1, 1, 1, 1, 1, 1, 1],\n",
       "       [1, 1, 0, 0, 1, 0, 0, 1],\n",
       "       [1, 1, 1, 1, 0, 1, 1, 0],\n",
       "       [1, 1, 0, 1, 0, 1, 1, 0],\n",
       "       [1, 1, 1, 1, 1, 1, 1, 1]])"
      ]
     },
     "execution_count": 870,
     "metadata": {},
     "output_type": "execute_result"
    }
   ],
   "source": [
    "df_asia.to_numpy()"
   ]
  },
  {
   "cell_type": "code",
   "execution_count": 871,
   "id": "528495be-513e-4d15-ad03-d73c7980c215",
   "metadata": {},
   "outputs": [],
   "source": [
    "edge_index = []\n",
    "for i in range(len(df_asia.columns)):\n",
    "    for j in range(i+1, len(df_asia.columns)):\n",
    "        edge_index.append([i,j])\n",
    "        edge_index.append([j,i])\n",
    "edge_index = torch.tensor(np.array(edge_index))"
   ]
  },
  {
   "cell_type": "code",
   "execution_count": 944,
   "id": "73d5f436-b228-49c3-a03b-b152481c013e",
   "metadata": {},
   "outputs": [],
   "source": [
    "class GAT(torch.nn.Module):\n",
    "    def __init__(self, in_channels, hidden_channels, out_channels, heads):\n",
    "        super().__init__()\n",
    "        self.conv1 = GATv2Conv(in_channels, hidden_channels, heads, add_self_loops=False)\n",
    "        self.lin1 = Linear(hidden_channels * heads, 5000)\n",
    "        self.lin2 = Linear(5000, out_channels)\n",
    "        self.att_wt = None\n",
    "\n",
    "    def forward(self, x, edge_index, return_att = False):\n",
    "        if return_att:\n",
    "            x, att_wt = self.conv1.forward(x, edge_index, return_attention_weights=True)\n",
    "            self.att_wt = att_wt\n",
    "        else:\n",
    "            x= self.conv1(x, edge_index)\n",
    "        x = F.relu(x)\n",
    "        x = self.lin1(x)\n",
    "        x = F.relu(x)\n",
    "        x = self.lin2(x)\n",
    "        x = F.softmax(x, dim=1)\n",
    "        return x\n",
    "        x = F.relu(x)\n",
    "        # print(x.shape)\n",
    "        x = F.dropout(x, p=0.3, training=self.training)\n",
    "        x = self.conv2(x, edge_index)\n",
    "        # print(x.shape)\n",
    "        x = F.dropout(x, p=0.3, training=self.training)\n",
    "        x = self.conv3(x, edge_index)\n",
    "        x = F.softmax(x, dim=1)\n",
    "        # print(x.shape)\n",
    "        return x"
   ]
  },
  {
   "cell_type": "code",
   "execution_count": null,
   "id": "f23bca08-d618-43a6-ab5f-7cccf75443ff",
   "metadata": {},
   "outputs": [],
   "source": []
  },
  {
   "cell_type": "code",
   "execution_count": 945,
   "id": "a7e65d86-331f-473a-a12d-b010ee7c5005",
   "metadata": {},
   "outputs": [],
   "source": [
    "data = Data()"
   ]
  },
  {
   "cell_type": "code",
   "execution_count": 946,
   "id": "412148c4-a919-4d81-8579-321e3e7203ac",
   "metadata": {},
   "outputs": [],
   "source": [
    "data.x = torch.tensor(df_asia.T.to_numpy().astype(\"float32\").reshape(-1, num_samples))\n",
    "# data.x = torch.rand((len(df_asia.columns), 100))\n",
    "data.edge_index = edge_index.t().contiguous()"
   ]
  },
  {
   "cell_type": "code",
   "execution_count": 947,
   "id": "304f6172-4ca9-4eb0-8492-96d5f53009d5",
   "metadata": {
    "scrolled": true
   },
   "outputs": [
    {
     "data": {
      "text/plain": [
       "Data(x=[8, 100], edge_index=[2, 56])"
      ]
     },
     "execution_count": 947,
     "metadata": {},
     "output_type": "execute_result"
    }
   ],
   "source": [
    "data"
   ]
  },
  {
   "cell_type": "code",
   "execution_count": 948,
   "id": "c33baa70-a713-40fd-b7ed-665d672e8873",
   "metadata": {},
   "outputs": [],
   "source": [
    "model = GAT(data.x.shape[1], 100, num_samples, heads=data.num_edges-2)\n",
    "optim = torch.optim.Adam(model.parameters(), lr=0.0001)\n",
    "# scheduler = torch.optim.lr_scheduler.ExponentialLR(optim, gamma=0.99)\n",
    "loss_fn = torch.nn.CrossEntropyLoss()"
   ]
  },
  {
   "cell_type": "code",
   "execution_count": 949,
   "id": "cf128849-d296-4d5b-9d8f-42223b030047",
   "metadata": {},
   "outputs": [
    {
     "data": {
      "text/plain": [
       "torch.Size([8, 100])"
      ]
     },
     "execution_count": 949,
     "metadata": {},
     "output_type": "execute_result"
    }
   ],
   "source": [
    "data.x.shape"
   ]
  },
  {
   "cell_type": "code",
   "execution_count": 951,
   "id": "fbb53cb5-2f12-4340-86b9-0f0603c888bb",
   "metadata": {
    "scrolled": true
   },
   "outputs": [
    {
     "data": {
      "text/plain": [
       "tensor([[0.0100, 0.0100, 0.0098, 0.0098, 0.0100, 0.0104, 0.0103, 0.0101, 0.0096,\n",
       "         0.0102, 0.0103, 0.0098, 0.0099, 0.0097, 0.0105, 0.0096, 0.0098, 0.0096,\n",
       "         0.0099, 0.0103, 0.0101, 0.0099, 0.0099, 0.0095, 0.0092, 0.0104, 0.0101,\n",
       "         0.0102, 0.0099, 0.0100, 0.0099, 0.0101, 0.0098, 0.0097, 0.0093, 0.0103,\n",
       "         0.0097, 0.0097, 0.0106, 0.0099, 0.0099, 0.0104, 0.0106, 0.0100, 0.0103,\n",
       "         0.0098, 0.0103, 0.0103, 0.0097, 0.0101, 0.0107, 0.0099, 0.0096, 0.0107,\n",
       "         0.0104, 0.0102, 0.0102, 0.0100, 0.0099, 0.0097, 0.0095, 0.0096, 0.0100,\n",
       "         0.0103, 0.0101, 0.0102, 0.0103, 0.0101, 0.0099, 0.0101, 0.0102, 0.0104,\n",
       "         0.0100, 0.0097, 0.0105, 0.0100, 0.0102, 0.0103, 0.0096, 0.0098, 0.0099,\n",
       "         0.0100, 0.0101, 0.0098, 0.0096, 0.0099, 0.0101, 0.0097, 0.0103, 0.0095,\n",
       "         0.0104, 0.0097, 0.0097, 0.0102, 0.0096, 0.0103, 0.0103, 0.0098, 0.0099,\n",
       "         0.0102],\n",
       "        [0.0100, 0.0100, 0.0098, 0.0098, 0.0100, 0.0104, 0.0103, 0.0101, 0.0096,\n",
       "         0.0102, 0.0103, 0.0098, 0.0099, 0.0097, 0.0106, 0.0096, 0.0098, 0.0096,\n",
       "         0.0098, 0.0103, 0.0101, 0.0099, 0.0099, 0.0095, 0.0092, 0.0104, 0.0101,\n",
       "         0.0102, 0.0099, 0.0100, 0.0099, 0.0101, 0.0098, 0.0097, 0.0093, 0.0103,\n",
       "         0.0097, 0.0097, 0.0106, 0.0099, 0.0099, 0.0104, 0.0106, 0.0100, 0.0103,\n",
       "         0.0098, 0.0103, 0.0103, 0.0097, 0.0101, 0.0107, 0.0099, 0.0096, 0.0107,\n",
       "         0.0104, 0.0102, 0.0102, 0.0100, 0.0099, 0.0097, 0.0095, 0.0096, 0.0100,\n",
       "         0.0103, 0.0101, 0.0102, 0.0103, 0.0101, 0.0099, 0.0101, 0.0103, 0.0104,\n",
       "         0.0100, 0.0097, 0.0105, 0.0100, 0.0102, 0.0103, 0.0096, 0.0098, 0.0099,\n",
       "         0.0100, 0.0101, 0.0098, 0.0096, 0.0099, 0.0101, 0.0097, 0.0103, 0.0095,\n",
       "         0.0104, 0.0097, 0.0097, 0.0102, 0.0096, 0.0103, 0.0103, 0.0098, 0.0099,\n",
       "         0.0102],\n",
       "        [0.0100, 0.0100, 0.0098, 0.0098, 0.0100, 0.0104, 0.0103, 0.0101, 0.0096,\n",
       "         0.0102, 0.0103, 0.0098, 0.0099, 0.0096, 0.0106, 0.0096, 0.0097, 0.0096,\n",
       "         0.0098, 0.0103, 0.0101, 0.0098, 0.0099, 0.0095, 0.0091, 0.0104, 0.0101,\n",
       "         0.0101, 0.0099, 0.0100, 0.0098, 0.0101, 0.0098, 0.0097, 0.0093, 0.0103,\n",
       "         0.0097, 0.0097, 0.0106, 0.0099, 0.0099, 0.0104, 0.0106, 0.0101, 0.0103,\n",
       "         0.0098, 0.0103, 0.0103, 0.0096, 0.0101, 0.0108, 0.0099, 0.0096, 0.0108,\n",
       "         0.0105, 0.0103, 0.0102, 0.0099, 0.0100, 0.0097, 0.0094, 0.0095, 0.0100,\n",
       "         0.0103, 0.0101, 0.0102, 0.0103, 0.0101, 0.0099, 0.0101, 0.0102, 0.0104,\n",
       "         0.0100, 0.0097, 0.0105, 0.0100, 0.0102, 0.0103, 0.0096, 0.0097, 0.0099,\n",
       "         0.0100, 0.0101, 0.0099, 0.0096, 0.0099, 0.0101, 0.0096, 0.0103, 0.0095,\n",
       "         0.0104, 0.0097, 0.0097, 0.0103, 0.0096, 0.0103, 0.0103, 0.0098, 0.0099,\n",
       "         0.0102],\n",
       "        [0.0100, 0.0100, 0.0098, 0.0098, 0.0100, 0.0104, 0.0103, 0.0101, 0.0096,\n",
       "         0.0102, 0.0103, 0.0098, 0.0099, 0.0097, 0.0105, 0.0096, 0.0098, 0.0096,\n",
       "         0.0099, 0.0103, 0.0101, 0.0099, 0.0099, 0.0095, 0.0092, 0.0104, 0.0101,\n",
       "         0.0102, 0.0099, 0.0100, 0.0099, 0.0101, 0.0098, 0.0097, 0.0093, 0.0103,\n",
       "         0.0097, 0.0097, 0.0106, 0.0099, 0.0099, 0.0104, 0.0106, 0.0100, 0.0103,\n",
       "         0.0098, 0.0103, 0.0103, 0.0097, 0.0101, 0.0107, 0.0100, 0.0096, 0.0107,\n",
       "         0.0104, 0.0102, 0.0102, 0.0100, 0.0100, 0.0097, 0.0095, 0.0095, 0.0100,\n",
       "         0.0103, 0.0101, 0.0102, 0.0103, 0.0101, 0.0099, 0.0101, 0.0103, 0.0104,\n",
       "         0.0100, 0.0097, 0.0105, 0.0100, 0.0103, 0.0103, 0.0096, 0.0098, 0.0099,\n",
       "         0.0100, 0.0101, 0.0099, 0.0096, 0.0099, 0.0101, 0.0097, 0.0103, 0.0095,\n",
       "         0.0104, 0.0097, 0.0097, 0.0102, 0.0096, 0.0103, 0.0103, 0.0098, 0.0099,\n",
       "         0.0102],\n",
       "        [0.0100, 0.0100, 0.0098, 0.0098, 0.0099, 0.0104, 0.0103, 0.0101, 0.0096,\n",
       "         0.0102, 0.0103, 0.0099, 0.0098, 0.0096, 0.0106, 0.0096, 0.0098, 0.0096,\n",
       "         0.0099, 0.0103, 0.0101, 0.0098, 0.0099, 0.0095, 0.0091, 0.0104, 0.0101,\n",
       "         0.0101, 0.0098, 0.0100, 0.0098, 0.0101, 0.0098, 0.0097, 0.0093, 0.0103,\n",
       "         0.0098, 0.0097, 0.0106, 0.0099, 0.0099, 0.0105, 0.0106, 0.0101, 0.0103,\n",
       "         0.0098, 0.0103, 0.0103, 0.0097, 0.0101, 0.0108, 0.0099, 0.0096, 0.0108,\n",
       "         0.0104, 0.0103, 0.0102, 0.0100, 0.0100, 0.0097, 0.0095, 0.0095, 0.0100,\n",
       "         0.0103, 0.0101, 0.0102, 0.0103, 0.0101, 0.0099, 0.0101, 0.0103, 0.0105,\n",
       "         0.0100, 0.0097, 0.0105, 0.0100, 0.0102, 0.0103, 0.0095, 0.0098, 0.0099,\n",
       "         0.0100, 0.0101, 0.0098, 0.0097, 0.0099, 0.0101, 0.0096, 0.0103, 0.0094,\n",
       "         0.0104, 0.0097, 0.0097, 0.0102, 0.0095, 0.0104, 0.0103, 0.0098, 0.0099,\n",
       "         0.0102],\n",
       "        [0.0100, 0.0100, 0.0098, 0.0098, 0.0100, 0.0104, 0.0103, 0.0101, 0.0096,\n",
       "         0.0102, 0.0103, 0.0098, 0.0099, 0.0097, 0.0105, 0.0096, 0.0098, 0.0096,\n",
       "         0.0099, 0.0103, 0.0101, 0.0099, 0.0099, 0.0095, 0.0092, 0.0104, 0.0101,\n",
       "         0.0102, 0.0099, 0.0100, 0.0099, 0.0101, 0.0098, 0.0097, 0.0093, 0.0103,\n",
       "         0.0097, 0.0097, 0.0106, 0.0099, 0.0099, 0.0104, 0.0106, 0.0100, 0.0103,\n",
       "         0.0098, 0.0103, 0.0103, 0.0097, 0.0101, 0.0107, 0.0100, 0.0096, 0.0107,\n",
       "         0.0104, 0.0102, 0.0102, 0.0100, 0.0100, 0.0097, 0.0095, 0.0095, 0.0100,\n",
       "         0.0103, 0.0101, 0.0102, 0.0103, 0.0101, 0.0099, 0.0101, 0.0103, 0.0104,\n",
       "         0.0100, 0.0097, 0.0105, 0.0100, 0.0103, 0.0103, 0.0096, 0.0098, 0.0099,\n",
       "         0.0100, 0.0101, 0.0099, 0.0096, 0.0099, 0.0101, 0.0097, 0.0103, 0.0095,\n",
       "         0.0104, 0.0097, 0.0097, 0.0102, 0.0096, 0.0103, 0.0103, 0.0098, 0.0099,\n",
       "         0.0102],\n",
       "        [0.0100, 0.0100, 0.0098, 0.0097, 0.0100, 0.0104, 0.0103, 0.0101, 0.0096,\n",
       "         0.0102, 0.0103, 0.0099, 0.0099, 0.0097, 0.0106, 0.0096, 0.0098, 0.0096,\n",
       "         0.0099, 0.0103, 0.0101, 0.0099, 0.0099, 0.0095, 0.0092, 0.0104, 0.0101,\n",
       "         0.0102, 0.0099, 0.0100, 0.0099, 0.0101, 0.0098, 0.0097, 0.0093, 0.0103,\n",
       "         0.0098, 0.0097, 0.0106, 0.0099, 0.0099, 0.0104, 0.0106, 0.0100, 0.0103,\n",
       "         0.0098, 0.0103, 0.0103, 0.0097, 0.0101, 0.0107, 0.0099, 0.0096, 0.0107,\n",
       "         0.0104, 0.0102, 0.0102, 0.0099, 0.0100, 0.0097, 0.0095, 0.0095, 0.0100,\n",
       "         0.0103, 0.0101, 0.0102, 0.0103, 0.0101, 0.0099, 0.0101, 0.0103, 0.0104,\n",
       "         0.0100, 0.0097, 0.0105, 0.0100, 0.0102, 0.0103, 0.0096, 0.0098, 0.0099,\n",
       "         0.0100, 0.0101, 0.0098, 0.0097, 0.0099, 0.0101, 0.0097, 0.0103, 0.0095,\n",
       "         0.0104, 0.0097, 0.0097, 0.0102, 0.0096, 0.0103, 0.0103, 0.0098, 0.0098,\n",
       "         0.0102],\n",
       "        [0.0100, 0.0100, 0.0098, 0.0097, 0.0099, 0.0104, 0.0103, 0.0101, 0.0096,\n",
       "         0.0102, 0.0103, 0.0099, 0.0098, 0.0096, 0.0106, 0.0096, 0.0098, 0.0096,\n",
       "         0.0099, 0.0103, 0.0102, 0.0098, 0.0099, 0.0095, 0.0091, 0.0104, 0.0101,\n",
       "         0.0102, 0.0099, 0.0100, 0.0098, 0.0101, 0.0098, 0.0097, 0.0093, 0.0103,\n",
       "         0.0097, 0.0097, 0.0106, 0.0099, 0.0098, 0.0104, 0.0106, 0.0101, 0.0103,\n",
       "         0.0098, 0.0103, 0.0103, 0.0097, 0.0101, 0.0108, 0.0099, 0.0096, 0.0108,\n",
       "         0.0104, 0.0103, 0.0102, 0.0100, 0.0100, 0.0097, 0.0095, 0.0095, 0.0100,\n",
       "         0.0103, 0.0101, 0.0101, 0.0103, 0.0101, 0.0099, 0.0101, 0.0103, 0.0105,\n",
       "         0.0100, 0.0097, 0.0105, 0.0101, 0.0103, 0.0103, 0.0096, 0.0098, 0.0099,\n",
       "         0.0100, 0.0101, 0.0098, 0.0096, 0.0099, 0.0101, 0.0096, 0.0103, 0.0095,\n",
       "         0.0104, 0.0097, 0.0097, 0.0102, 0.0096, 0.0104, 0.0103, 0.0098, 0.0098,\n",
       "         0.0102]], grad_fn=<SoftmaxBackward0>)"
      ]
     },
     "execution_count": 951,
     "metadata": {},
     "output_type": "execute_result"
    }
   ],
   "source": [
    "model(data.x, data.edge_index)"
   ]
  },
  {
   "cell_type": "code",
   "execution_count": 952,
   "id": "6d95c0cc-8203-49a9-8a4f-52c1c51f76fa",
   "metadata": {},
   "outputs": [],
   "source": [
    "true_vals = torch.tensor(df_asia.T.to_numpy().astype(\"float32\").reshape(-1, num_samples))"
   ]
  },
  {
   "cell_type": "code",
   "execution_count": 953,
   "id": "f1bdec2e-d4aa-4603-ac54-d5705bfbb1b3",
   "metadata": {},
   "outputs": [
    {
     "data": {
      "text/plain": [
       "GAT(\n",
       "  (conv1): GATv2Conv(100, 100, heads=54)\n",
       "  (lin1): Linear(5400, 5000, bias=True)\n",
       "  (lin2): Linear(5000, 100, bias=True)\n",
       ")"
      ]
     },
     "execution_count": 953,
     "metadata": {},
     "output_type": "execute_result"
    }
   ],
   "source": [
    "model"
   ]
  },
  {
   "cell_type": "code",
   "execution_count": 954,
   "id": "22ca9b4c-8a81-4db5-acec-4b0bfd8793f1",
   "metadata": {},
   "outputs": [
    {
     "data": {
      "text/plain": [
       "torch.Size([8, 100])"
      ]
     },
     "execution_count": 954,
     "metadata": {},
     "output_type": "execute_result"
    }
   ],
   "source": [
    "true_vals.shape"
   ]
  },
  {
   "cell_type": "code",
   "execution_count": 955,
   "id": "01266fcb-2bd2-4bd4-be01-7e72815b709b",
   "metadata": {},
   "outputs": [
    {
     "data": {
      "text/plain": [
       "torch.Size([8, 8])"
      ]
     },
     "execution_count": 955,
     "metadata": {},
     "output_type": "execute_result"
    }
   ],
   "source": [
    "target.shape"
   ]
  },
  {
   "cell_type": "code",
   "execution_count": 956,
   "id": "8cb24778-f23e-4a16-b486-85ced25fb087",
   "metadata": {
    "scrolled": true
   },
   "outputs": [
    {
     "name": "stderr",
     "output_type": "stream",
     "text": [
      "\n",
      "00%|█████████████████████████████████████████| 400/400 [00:34<00:00, 11.51it/s]"
     ]
    }
   ],
   "source": [
    "model.train()\n",
    "losses = []\n",
    "for i in tqdm(range(400)):\n",
    "    # if i % 10 == 0 and i>0:\n",
    "    #     noise_val = torch.randn((data.num_nodes, num_samples)) * float(i)\n",
    "    #     data.x = torch.tensor(df_asia.T.to_numpy().astype(\"float32\").reshape(-1, num_samples)) + noise_val\n",
    "    \n",
    "    optim.zero_grad()\n",
    "    out = model(data.x, data.edge_index)\n",
    "    \n",
    "    loss1 = loss_fn(true_vals, out)\n",
    "    loss1.backward()\n",
    "    \n",
    "    optim.step()\n",
    "    # scheduler.step()\n",
    "    losses.append(loss1.item())"
   ]
  },
  {
   "cell_type": "code",
   "execution_count": 957,
   "id": "92993b9a-e931-4000-9c95-514b012829ad",
   "metadata": {
    "scrolled": true
   },
   "outputs": [
    {
     "data": {
      "text/plain": [
       "tensor([[2.9936e-08, 2.4371e-08, 1.6328e-02, 3.1635e-03, 8.2068e-11, 7.0472e-10,\n",
       "         1.2388e-09, 4.0271e-10, 2.7570e-10, 5.5353e-03, 3.3636e-02, 1.6116e-10,\n",
       "         1.4549e-09, 2.0252e-11, 4.8351e-02, 3.9711e-10, 6.5482e-10, 2.2203e-08,\n",
       "         7.1625e-03, 3.0832e-02, 4.6871e-08, 2.4552e-11, 1.8984e-02, 2.6771e-08,\n",
       "         1.5145e-03, 8.2829e-08, 1.3753e-02, 3.7277e-08, 9.9645e-03, 4.2646e-03,\n",
       "         7.0268e-03, 2.1045e-10, 2.5665e-02, 2.2192e-10, 1.3567e-10, 9.9980e-10,\n",
       "         4.5763e-11, 2.7225e-08, 4.2433e-08, 4.6945e-10, 2.1808e-10, 4.8243e-10,\n",
       "         3.2705e-02, 7.6800e-03, 8.6205e-10, 2.8857e-02, 3.4910e-10, 5.8158e-10,\n",
       "         3.9836e-10, 4.4203e-08, 1.1668e-01, 6.1056e-10, 1.8788e-10, 5.3088e-10,\n",
       "         2.4666e-10, 6.6084e-02, 7.7166e-10, 1.0183e-09, 5.6532e-10, 5.6449e-10,\n",
       "         3.5058e-03, 2.4634e-08, 1.0916e-02, 1.2431e-01, 4.3620e-10, 8.8984e-03,\n",
       "         4.2922e-10, 4.8659e-10, 2.0970e-10, 1.1723e-10, 5.1415e-10, 6.8436e-10,\n",
       "         4.4391e-08, 3.7159e-03, 5.7285e-02, 4.8632e-10, 1.3984e-02, 5.5209e-10,\n",
       "         3.8256e-03, 8.1730e-10, 1.0307e-02, 3.2214e-10, 1.1232e-09, 6.4324e-10,\n",
       "         2.7738e-08, 4.5000e-03, 4.9426e-10, 2.6215e-10, 8.5528e-03, 2.8056e-10,\n",
       "         5.7425e-02, 2.4651e-10, 1.1465e-02, 1.0726e-02, 2.2984e-10, 1.8117e-01,\n",
       "         1.1134e-10, 3.0135e-10, 2.2384e-10, 1.1228e-02],\n",
       "        [3.0167e-08, 2.4563e-08, 1.6337e-02, 3.1677e-03, 8.2953e-11, 7.1112e-10,\n",
       "         1.2524e-09, 4.0720e-10, 2.7854e-10, 5.5509e-03, 3.3633e-02, 1.6273e-10,\n",
       "         1.4692e-09, 2.0485e-11, 4.8356e-02, 4.0094e-10, 6.6162e-10, 2.2343e-08,\n",
       "         7.1730e-03, 3.0830e-02, 4.7259e-08, 2.4807e-11, 1.8982e-02, 2.6965e-08,\n",
       "         1.5171e-03, 8.3521e-08, 1.3762e-02, 3.7528e-08, 9.9618e-03, 4.2702e-03,\n",
       "         7.0391e-03, 2.1259e-10, 2.5660e-02, 2.2434e-10, 1.3711e-10, 1.0104e-09,\n",
       "         4.6259e-11, 2.7438e-08, 4.2758e-08, 4.7467e-10, 2.2051e-10, 4.8749e-10,\n",
       "         3.2697e-02, 7.6950e-03, 8.7060e-10, 2.8864e-02, 3.5230e-10, 5.8754e-10,\n",
       "         4.0279e-10, 4.4496e-08, 1.1677e-01, 6.1684e-10, 1.8984e-10, 5.3693e-10,\n",
       "         2.4945e-10, 6.6065e-02, 7.7985e-10, 1.0265e-09, 5.7160e-10, 5.7059e-10,\n",
       "         3.5078e-03, 2.4810e-08, 1.0932e-02, 1.2421e-01, 4.4052e-10, 8.9103e-03,\n",
       "         4.3343e-10, 4.9123e-10, 2.1189e-10, 1.1845e-10, 5.2010e-10, 6.9179e-10,\n",
       "         4.4705e-08, 3.7211e-03, 5.7265e-02, 4.9133e-10, 1.4001e-02, 5.5768e-10,\n",
       "         3.8296e-03, 8.2420e-10, 1.0315e-02, 3.2547e-10, 1.1343e-09, 6.4974e-10,\n",
       "         2.7956e-08, 4.5032e-03, 4.9915e-10, 2.6465e-10, 8.5587e-03, 2.8315e-10,\n",
       "         5.7426e-02, 2.4942e-10, 1.1480e-02, 1.0739e-02, 2.3213e-10, 1.8102e-01,\n",
       "         1.1242e-10, 3.0436e-10, 2.2618e-10, 1.1249e-02],\n",
       "        [1.4157e-08, 1.1339e-08, 1.5282e-02, 2.7251e-03, 2.8674e-11, 2.7458e-10,\n",
       "         4.9481e-10, 1.5169e-10, 1.0193e-10, 4.9101e-03, 3.2710e-02, 5.8041e-11,\n",
       "         5.8836e-10, 6.5976e-12, 4.7813e-02, 1.4919e-10, 2.5484e-10, 1.0251e-08,\n",
       "         6.4354e-03, 2.9876e-02, 2.2657e-08, 8.0338e-12, 1.7935e-02, 1.2638e-08,\n",
       "         1.2532e-03, 4.0690e-08, 1.2739e-02, 1.7590e-08, 9.0761e-03, 3.7365e-03,\n",
       "         6.3126e-03, 7.6560e-11, 2.4609e-02, 8.1347e-11, 4.8567e-11, 3.9472e-10,\n",
       "         1.5545e-11, 1.2817e-08, 2.0208e-08, 1.7903e-10, 7.9843e-11, 1.8347e-10,\n",
       "         3.1715e-02, 6.9515e-03, 3.3780e-10, 2.7897e-02, 1.3064e-10, 2.2381e-10,\n",
       "         1.5135e-10, 2.1014e-08, 1.2152e-01, 2.3676e-10, 6.7955e-11, 2.0340e-10,\n",
       "         9.0844e-11, 6.6866e-02, 3.0201e-10, 4.0260e-10, 2.1746e-10, 2.1743e-10,\n",
       "         3.0377e-03, 1.1414e-08, 1.0018e-02, 1.2977e-01, 1.6548e-10, 8.0616e-03,\n",
       "         1.6186e-10, 1.8571e-10, 7.6507e-11, 4.1482e-11, 1.9631e-10, 2.6520e-10,\n",
       "         2.1237e-08, 3.2258e-03, 5.7122e-02, 1.8547e-10, 1.2985e-02, 2.1115e-10,\n",
       "         3.3154e-03, 3.1996e-10, 9.4254e-03, 1.2043e-10, 4.4519e-10, 2.5111e-10,\n",
       "         1.3067e-08, 3.9522e-03, 1.8862e-10, 9.6574e-11, 7.7527e-03, 1.0378e-10,\n",
       "         5.7653e-02, 9.0836e-11, 1.0537e-02, 9.8339e-03, 8.4066e-11, 1.9259e-01,\n",
       "         3.9453e-11, 1.1213e-10, 8.2097e-11, 1.0359e-02],\n",
       "        [2.7782e-08, 2.2584e-08, 1.6254e-02, 3.1168e-03, 7.3813e-11, 6.4181e-10,\n",
       "         1.1323e-09, 3.6549e-10, 2.5000e-10, 5.4684e-03, 3.3485e-02, 1.4566e-10,\n",
       "         1.3297e-09, 1.8094e-11, 4.8247e-02, 3.6008e-10, 5.9653e-10, 2.0531e-08,\n",
       "         7.0980e-03, 3.0719e-02, 4.3654e-08, 2.1934e-11, 1.8856e-02, 2.4822e-08,\n",
       "         1.4855e-03, 7.7206e-08, 1.3652e-02, 3.4561e-08, 9.8604e-03, 4.2076e-03,\n",
       "         6.9581e-03, 1.9009e-10, 2.5615e-02, 2.0116e-10, 1.2260e-10, 9.1263e-10,\n",
       "         4.1076e-11, 2.5298e-08, 3.9380e-08, 4.2704e-10, 1.9745e-10, 4.3923e-10,\n",
       "         3.2649e-02, 7.6182e-03, 7.8565e-10, 2.8751e-02, 3.1651e-10, 5.2892e-10,\n",
       "         3.6242e-10, 4.1068e-08, 1.1725e-01, 5.5683e-10, 1.6984e-10, 4.8373e-10,\n",
       "         2.2372e-10, 6.6127e-02, 7.0330e-10, 9.2666e-10, 5.1530e-10, 5.1396e-10,\n",
       "         3.4580e-03, 2.2790e-08, 1.0832e-02, 1.2485e-01, 3.9595e-10, 8.8118e-03,\n",
       "         3.8964e-10, 4.4192e-10, 1.8973e-10, 1.0575e-10, 4.6829e-10, 6.2296e-10,\n",
       "         4.1202e-08, 3.6678e-03, 5.7233e-02, 4.4204e-10, 1.3907e-02, 5.0302e-10,\n",
       "         3.7690e-03, 7.4310e-10, 1.0224e-02, 2.9224e-10, 1.0239e-09, 5.8674e-10,\n",
       "         2.5754e-08, 4.4424e-03, 4.4920e-10, 2.3741e-10, 8.4726e-03, 2.5400e-10,\n",
       "         5.7501e-02, 2.2357e-10, 1.1388e-02, 1.0649e-02, 2.0797e-10, 1.8223e-01,\n",
       "         1.0034e-10, 2.7316e-10, 2.0233e-10, 1.1151e-02],\n",
       "        [1.3164e-08, 1.0621e-08, 1.5202e-02, 2.6866e-03, 2.6113e-11, 2.5020e-10,\n",
       "         4.5286e-10, 1.3905e-10, 9.3193e-11, 4.8701e-03, 3.2664e-02, 5.2969e-11,\n",
       "         5.3638e-10, 5.9764e-12, 4.7956e-02, 1.3688e-10, 2.3253e-10, 9.6491e-09,\n",
       "         6.4018e-03, 2.9796e-02, 2.1081e-08, 7.2754e-12, 1.7829e-02, 1.1825e-08,\n",
       "         1.2311e-03, 3.8518e-08, 1.2671e-02, 1.6659e-08, 9.0129e-03, 3.6874e-03,\n",
       "         6.2230e-03, 6.9952e-11, 2.4600e-02, 7.4144e-11, 4.3945e-11, 3.6215e-10,\n",
       "         1.4172e-11, 1.1950e-08, 1.9077e-08, 1.6388e-10, 7.2810e-11, 1.6837e-10,\n",
       "         3.1635e-02, 6.8859e-03, 3.1032e-10, 2.7772e-02, 1.1948e-10, 2.0598e-10,\n",
       "         1.3791e-10, 1.9860e-08, 1.2175e-01, 2.1603e-10, 6.2099e-11, 1.8638e-10,\n",
       "         8.2892e-11, 6.6637e-02, 2.7627e-10, 3.7225e-10, 1.9957e-10, 1.9849e-10,\n",
       "         3.0038e-03, 1.0721e-08, 9.9431e-03, 1.2972e-01, 1.5133e-10, 8.0372e-03,\n",
       "         1.4845e-10, 1.7062e-10, 6.9832e-11, 3.7722e-11, 1.8015e-10, 2.4361e-10,\n",
       "         1.9990e-08, 3.1910e-03, 5.7173e-02, 1.6981e-10, 1.2937e-02, 1.9287e-10,\n",
       "         3.2821e-03, 2.9341e-10, 9.3544e-03, 1.1030e-10, 4.1055e-10, 2.2937e-10,\n",
       "         1.2190e-08, 3.8979e-03, 1.7248e-10, 8.8032e-11, 7.6921e-03, 9.4883e-11,\n",
       "         5.7613e-02, 8.2687e-11, 1.0479e-02, 9.7622e-03, 7.6665e-11, 1.9415e-01,\n",
       "         3.6083e-11, 1.0237e-10, 7.4814e-11, 1.0257e-02],\n",
       "        [2.7782e-08, 2.2584e-08, 1.6254e-02, 3.1168e-03, 7.3813e-11, 6.4181e-10,\n",
       "         1.1323e-09, 3.6549e-10, 2.5000e-10, 5.4684e-03, 3.3485e-02, 1.4566e-10,\n",
       "         1.3297e-09, 1.8094e-11, 4.8247e-02, 3.6008e-10, 5.9653e-10, 2.0531e-08,\n",
       "         7.0980e-03, 3.0719e-02, 4.3654e-08, 2.1934e-11, 1.8856e-02, 2.4822e-08,\n",
       "         1.4855e-03, 7.7206e-08, 1.3652e-02, 3.4561e-08, 9.8604e-03, 4.2076e-03,\n",
       "         6.9581e-03, 1.9009e-10, 2.5615e-02, 2.0116e-10, 1.2260e-10, 9.1263e-10,\n",
       "         4.1076e-11, 2.5298e-08, 3.9380e-08, 4.2704e-10, 1.9745e-10, 4.3923e-10,\n",
       "         3.2649e-02, 7.6182e-03, 7.8565e-10, 2.8751e-02, 3.1651e-10, 5.2892e-10,\n",
       "         3.6242e-10, 4.1068e-08, 1.1725e-01, 5.5683e-10, 1.6984e-10, 4.8373e-10,\n",
       "         2.2372e-10, 6.6127e-02, 7.0330e-10, 9.2666e-10, 5.1530e-10, 5.1396e-10,\n",
       "         3.4580e-03, 2.2790e-08, 1.0832e-02, 1.2485e-01, 3.9595e-10, 8.8118e-03,\n",
       "         3.8964e-10, 4.4192e-10, 1.8973e-10, 1.0575e-10, 4.6829e-10, 6.2296e-10,\n",
       "         4.1202e-08, 3.6678e-03, 5.7233e-02, 4.4204e-10, 1.3907e-02, 5.0302e-10,\n",
       "         3.7690e-03, 7.4310e-10, 1.0224e-02, 2.9224e-10, 1.0239e-09, 5.8674e-10,\n",
       "         2.5754e-08, 4.4424e-03, 4.4920e-10, 2.3741e-10, 8.4726e-03, 2.5400e-10,\n",
       "         5.7501e-02, 2.2357e-10, 1.1388e-02, 1.0649e-02, 2.0797e-10, 1.8223e-01,\n",
       "         1.0034e-10, 2.7316e-10, 2.0233e-10, 1.1151e-02],\n",
       "        [2.5658e-08, 2.0837e-08, 1.6124e-02, 3.0679e-03, 6.5953e-11, 5.8040e-10,\n",
       "         1.0280e-09, 3.2960e-10, 2.2485e-10, 5.3987e-03, 3.3393e-02, 1.3070e-10,\n",
       "         1.2080e-09, 1.6035e-11, 4.8267e-02, 3.2451e-10, 5.4036e-10, 1.8937e-08,\n",
       "         7.0195e-03, 3.0592e-02, 4.0477e-08, 1.9476e-11, 1.8743e-02, 2.2897e-08,\n",
       "         1.4547e-03, 7.1677e-08, 1.3547e-02, 3.1952e-08, 9.7621e-03, 4.1496e-03,\n",
       "         6.8838e-03, 1.7076e-10, 2.5509e-02, 1.8077e-10, 1.0983e-10, 8.2752e-10,\n",
       "         3.6601e-11, 2.3352e-08, 3.6417e-08, 3.8577e-10, 1.7732e-10, 3.9616e-10,\n",
       "         3.2547e-02, 7.5335e-03, 7.1202e-10, 2.8622e-02, 2.8525e-10, 4.7811e-10,\n",
       "         3.2708e-10, 3.7896e-08, 1.1775e-01, 5.0328e-10, 1.5242e-10, 4.3668e-10,\n",
       "         2.0157e-10, 6.6159e-02, 6.3706e-10, 8.3946e-10, 4.6531e-10, 4.6402e-10,\n",
       "         3.4102e-03, 2.1014e-08, 1.0719e-02, 1.2545e-01, 3.5729e-10, 8.7298e-03,\n",
       "         3.5083e-10, 3.9864e-10, 1.7039e-10, 9.4722e-11, 4.2222e-10, 5.6322e-10,\n",
       "         3.8043e-08, 3.6175e-03, 5.7259e-02, 3.9865e-10, 1.3795e-02, 4.5455e-10,\n",
       "         3.7128e-03, 6.7371e-10, 1.0134e-02, 2.6312e-10, 9.2727e-10, 5.3016e-10,\n",
       "         2.3777e-08, 4.3837e-03, 4.0549e-10, 2.1351e-10, 8.3933e-03, 2.2837e-10,\n",
       "         5.7482e-02, 2.0123e-10, 1.1288e-02, 1.0549e-02, 1.8670e-10, 1.8349e-01,\n",
       "         8.9722e-11, 2.4622e-10, 1.8199e-10, 1.1064e-02],\n",
       "        [1.2976e-08, 1.0497e-08, 1.5193e-02, 2.6804e-03, 2.5686e-11, 2.4647e-10,\n",
       "         4.4648e-10, 1.3709e-10, 9.1528e-11, 4.8630e-03, 3.2529e-02, 5.2042e-11,\n",
       "         5.2907e-10, 5.8555e-12, 4.7978e-02, 1.3493e-10, 2.2881e-10, 9.5203e-09,\n",
       "         6.3915e-03, 2.9790e-02, 2.0938e-08, 7.1384e-12, 1.7830e-02, 1.1689e-08,\n",
       "         1.2295e-03, 3.8154e-08, 1.2654e-02, 1.6472e-08, 9.0169e-03, 3.6765e-03,\n",
       "         6.2091e-03, 6.8768e-11, 2.4548e-02, 7.2915e-11, 4.3257e-11, 3.5609e-10,\n",
       "         1.3858e-11, 1.1817e-08, 1.8871e-08, 1.6160e-10, 7.1490e-11, 1.6538e-10,\n",
       "         3.1652e-02, 6.8821e-03, 3.0472e-10, 2.7819e-02, 1.1758e-10, 2.0241e-10,\n",
       "         1.3563e-10, 1.9661e-08, 1.2182e-01, 2.1251e-10, 6.1031e-11, 1.8336e-10,\n",
       "         8.1724e-11, 6.6679e-02, 2.7169e-10, 3.6735e-10, 1.9620e-10, 1.9540e-10,\n",
       "         2.9983e-03, 1.0612e-08, 9.9580e-03, 1.2994e-01, 1.4877e-10, 8.0149e-03,\n",
       "         1.4597e-10, 1.6793e-10, 6.8716e-11, 3.7140e-11, 1.7766e-10, 2.3950e-10,\n",
       "         1.9767e-08, 3.1796e-03, 5.7211e-02, 1.6746e-10, 1.2945e-02, 1.9026e-10,\n",
       "         3.2810e-03, 2.8865e-10, 9.3425e-03, 1.0856e-10, 4.0564e-10, 2.2508e-10,\n",
       "         1.1986e-08, 3.8792e-03, 1.6956e-10, 8.6578e-11, 7.6761e-03, 9.3383e-11,\n",
       "         5.7553e-02, 8.1275e-11, 1.0477e-02, 9.7480e-03, 7.5392e-11, 1.9412e-01,\n",
       "         3.5494e-11, 1.0079e-10, 7.3441e-11, 1.0241e-02]],\n",
       "       grad_fn=<SoftmaxBackward0>)"
      ]
     },
     "execution_count": 957,
     "metadata": {},
     "output_type": "execute_result"
    }
   ],
   "source": [
    "model(data.x, data.edge_index)"
   ]
  },
  {
   "cell_type": "code",
   "execution_count": null,
   "id": "7b2d840f-e7fa-4d63-aef8-5636fc099e9e",
   "metadata": {},
   "outputs": [],
   "source": []
  },
  {
   "cell_type": "code",
   "execution_count": 911,
   "id": "99dba147-12cb-4c41-a5e7-86e6eb291b15",
   "metadata": {},
   "outputs": [
    {
     "data": {
      "text/plain": [
       "[<matplotlib.lines.Line2D at 0x3aa9c5700>]"
      ]
     },
     "execution_count": 911,
     "metadata": {},
     "output_type": "execute_result"
    },
    {
     "data": {
      "image/png": "[encoded data removed]",
      "text/plain": [
       "<Figure size 640x480 with 1 Axes>"
      ]
     },
     "metadata": {},
     "output_type": "display_data"
    }
   ],
   "source": [
    "plt.plot(losses)"
   ]
  },
  {
   "cell_type": "code",
   "execution_count": 912,
   "id": "38aeebb4-9456-4771-ae77-bc4ca50e1e2c",
   "metadata": {},
   "outputs": [
    {
     "data": {
      "text/plain": [
       "4.466736793518066"
      ]
     },
     "execution_count": 912,
     "metadata": {},
     "output_type": "execute_result"
    }
   ],
   "source": [
    "min(losses)"
   ]
  },
  {
   "cell_type": "code",
   "execution_count": null,
   "id": "cd0a832e-9c56-4b62-8df6-7f5d740fa065",
   "metadata": {},
   "outputs": [],
   "source": []
  },
  {
   "cell_type": "code",
   "execution_count": 913,
   "id": "ca74c128-f172-47b3-9c8a-21c175b871ed",
   "metadata": {
    "scrolled": true
   },
   "outputs": [
    {
     "data": {
      "text/plain": [
       "torch.Size([54, 100])"
      ]
     },
     "execution_count": 913,
     "metadata": {},
     "output_type": "execute_result"
    }
   ],
   "source": [
    "model.conv1.att[0].shape"
   ]
  },
  {
   "cell_type": "code",
   "execution_count": null,
   "id": "9345a6f9-b9df-4bff-9700-fa104ca1105a",
   "metadata": {},
   "outputs": [],
   "source": []
  },
  {
   "cell_type": "code",
   "execution_count": 914,
   "id": "c81a6b25-601c-42f4-b891-caa15d5cce4c",
   "metadata": {},
   "outputs": [],
   "source": [
    "explainer = Explainer(\n",
    "    model = model, \n",
    "    explanation_type=\"model\",\n",
    "    algorithm=AttentionExplainer(reduce=\"mean\"),\n",
    "    node_mask_type=None,\n",
    "    edge_mask_type='object',\n",
    "    model_config = ModelConfig(\n",
    "        mode='binary_classification',\n",
    "        task_level='edge',\n",
    "        return_type='raw'\n",
    "    )\n",
    ")"
   ]
  },
  {
   "cell_type": "code",
   "execution_count": 915,
   "id": "6aebb4b7-5df7-49d6-b95e-83f9442be311",
   "metadata": {},
   "outputs": [],
   "source": [
    "explanation = explainer(\n",
    "    data.x, data.edge_index\n",
    ")"
   ]
  },
  {
   "cell_type": "code",
   "execution_count": 916,
   "id": "d0add82e-2097-4dc0-b13d-546cb897d014",
   "metadata": {},
   "outputs": [
    {
     "data": {
      "text/plain": [
       "['edge_mask']"
      ]
     },
     "execution_count": 916,
     "metadata": {},
     "output_type": "execute_result"
    }
   ],
   "source": [
    "explanation.available_explanations"
   ]
  },
  {
   "cell_type": "code",
   "execution_count": 917,
   "id": "4ad50c49-f5f4-40e5-aa1c-7277b1a79c29",
   "metadata": {
    "scrolled": true
   },
   "outputs": [
    {
     "data": {
      "text/plain": [
       "torch.Size([56])"
      ]
     },
     "execution_count": 917,
     "metadata": {},
     "output_type": "execute_result"
    }
   ],
   "source": [
    "explanation['edge_mask'].shape"
   ]
  },
  {
   "cell_type": "code",
   "execution_count": 918,
   "id": "4030e707-4db2-42e1-bdf2-e59d7bceaad7",
   "metadata": {},
   "outputs": [
    {
     "data": {
      "text/plain": [
       "torch.Size([56])"
      ]
     },
     "execution_count": 918,
     "metadata": {},
     "output_type": "execute_result"
    }
   ],
   "source": [
    "explanation['edge_mask'].shape"
   ]
  },
  {
   "cell_type": "code",
   "execution_count": 919,
   "id": "93d65630-2e0d-418a-9160-006fe45b68c1",
   "metadata": {},
   "outputs": [
    {
     "data": {
      "text/plain": [
       "torch.Size([2, 56])"
      ]
     },
     "execution_count": 919,
     "metadata": {},
     "output_type": "execute_result"
    }
   ],
   "source": [
    "data.edge_index.shape"
   ]
  },
  {
   "cell_type": "code",
   "execution_count": 920,
   "id": "74f36586-0eba-4c31-b4f9-b1455f4bc387",
   "metadata": {
    "scrolled": true
   },
   "outputs": [],
   "source": [
    "temp_adj = np.zeros((data.num_nodes, data.num_nodes))\n",
    "for i in range(len(data.edge_index[0])):\n",
    "    temp_adj[data.edge_index[0][i]][data.edge_index[1][i]] = explanation['edge_mask'][i].item()"
   ]
  },
  {
   "cell_type": "code",
   "execution_count": 921,
   "id": "8bc69414-022c-4bc6-a8d9-e95fe6df22cf",
   "metadata": {
    "scrolled": true
   },
   "outputs": [
    {
     "data": {
      "text/plain": [
       "array([[0.        , 0.16210164, 0.15431093, 0.16194096, 0.15237582,\n",
       "        0.16194096, 0.16171554, 0.15249775],\n",
       "       [0.16303505, 0.        , 0.15546629, 0.16324057, 0.15338284,\n",
       "        0.16324057, 0.16298831, 0.15357712],\n",
       "       [0.12456407, 0.12450361, 0.        , 0.1245193 , 0.1216246 ,\n",
       "        0.1245193 , 0.12479065, 0.12208308],\n",
       "       [0.16290747, 0.1632719 , 0.15582515, 0.        , 0.15349478,\n",
       "        0.16318467, 0.16299412, 0.15373643],\n",
       "       [0.110513  , 0.11047507, 0.10984134, 0.11063894, 0.        ,\n",
       "        0.11063894, 0.11097825, 0.11043555],\n",
       "       [0.16290747, 0.1632719 , 0.15582515, 0.16318467, 0.15349478,\n",
       "        0.        , 0.16299412, 0.15373643],\n",
       "       [0.16282994, 0.16320239, 0.15617526, 0.16319883, 0.15362139,\n",
       "        0.16319883, 0.        , 0.15393366],\n",
       "       [0.113243  , 0.11317348, 0.11255587, 0.11327676, 0.11200584,\n",
       "        0.11327676, 0.11353899, 0.        ]])"
      ]
     },
     "execution_count": 921,
     "metadata": {},
     "output_type": "execute_result"
    }
   ],
   "source": [
    "temp_adj"
   ]
  },
  {
   "cell_type": "code",
   "execution_count": 922,
   "id": "52300c96-839f-4a76-b86a-4a64241e7d51",
   "metadata": {},
   "outputs": [],
   "source": [
    "upper_t = np.triu(temp_adj)\n",
    "lower_t = np.tril(temp_adj)"
   ]
  },
  {
   "cell_type": "code",
   "execution_count": 923,
   "id": "8f046a78-03b8-4ff0-b6d5-6d500d42b322",
   "metadata": {
    "scrolled": true
   },
   "outputs": [
    {
     "data": {
      "text/plain": [
       "array([[0.        , 0.16210164, 0.15431093, 0.16194096, 0.15237582,\n",
       "        0.16194096, 0.16171554, 0.15249775],\n",
       "       [0.        , 0.        , 0.15546629, 0.16324057, 0.15338284,\n",
       "        0.16324057, 0.16298831, 0.15357712],\n",
       "       [0.        , 0.        , 0.        , 0.1245193 , 0.1216246 ,\n",
       "        0.1245193 , 0.12479065, 0.12208308],\n",
       "       [0.        , 0.        , 0.        , 0.        , 0.15349478,\n",
       "        0.16318467, 0.16299412, 0.15373643],\n",
       "       [0.        , 0.        , 0.        , 0.        , 0.        ,\n",
       "        0.11063894, 0.11097825, 0.11043555],\n",
       "       [0.        , 0.        , 0.        , 0.        , 0.        ,\n",
       "        0.        , 0.16299412, 0.15373643],\n",
       "       [0.        , 0.        , 0.        , 0.        , 0.        ,\n",
       "        0.        , 0.        , 0.15393366],\n",
       "       [0.        , 0.        , 0.        , 0.        , 0.        ,\n",
       "        0.        , 0.        , 0.        ]])"
      ]
     },
     "execution_count": 923,
     "metadata": {},
     "output_type": "execute_result"
    }
   ],
   "source": [
    "upper_t"
   ]
  },
  {
   "cell_type": "code",
   "execution_count": 924,
   "id": "1203c4f6-5ddb-41ee-804c-454e22dd049a",
   "metadata": {
    "scrolled": true
   },
   "outputs": [
    {
     "data": {
      "text/plain": [
       "array([[0.        , 0.        , 0.        , 0.        , 0.        ,\n",
       "        0.        , 0.        , 0.        ],\n",
       "       [0.16303505, 0.        , 0.        , 0.        , 0.        ,\n",
       "        0.        , 0.        , 0.        ],\n",
       "       [0.12456407, 0.12450361, 0.        , 0.        , 0.        ,\n",
       "        0.        , 0.        , 0.        ],\n",
       "       [0.16290747, 0.1632719 , 0.15582515, 0.        , 0.        ,\n",
       "        0.        , 0.        , 0.        ],\n",
       "       [0.110513  , 0.11047507, 0.10984134, 0.11063894, 0.        ,\n",
       "        0.        , 0.        , 0.        ],\n",
       "       [0.16290747, 0.1632719 , 0.15582515, 0.16318467, 0.15349478,\n",
       "        0.        , 0.        , 0.        ],\n",
       "       [0.16282994, 0.16320239, 0.15617526, 0.16319883, 0.15362139,\n",
       "        0.16319883, 0.        , 0.        ],\n",
       "       [0.113243  , 0.11317348, 0.11255587, 0.11327676, 0.11200584,\n",
       "        0.11327676, 0.11353899, 0.        ]])"
      ]
     },
     "execution_count": 924,
     "metadata": {},
     "output_type": "execute_result"
    }
   ],
   "source": [
    "lower_t"
   ]
  },
  {
   "cell_type": "code",
   "execution_count": 925,
   "id": "984b28c0-335c-4bbf-91d5-3650a059f100",
   "metadata": {},
   "outputs": [],
   "source": [
    "adj_1 = lower_t - upper_t.T\n",
    "thresh = np.max(np.abs(adj_1)) - 0.5 * np.std(np.abs(adj_1))\n",
    "new_adj = np.zeros((data.num_nodes, data.num_nodes))"
   ]
  },
  {
   "cell_type": "code",
   "execution_count": null,
   "id": "c8120057-7d82-4233-a9d5-621f701a446e",
   "metadata": {},
   "outputs": [],
   "source": []
  },
  {
   "cell_type": "code",
   "execution_count": 926,
   "id": "6af681d3-38f1-4fe2-8a9e-e50fbe32c04e",
   "metadata": {},
   "outputs": [],
   "source": [
    "for i in range(len(adj_1)):\n",
    "    for j in range(0, i):\n",
    "        if i==j:\n",
    "            continue\n",
    "        if adj_1[i][j] > thresh:\n",
    "            new_adj[j][i] = 1\n",
    "        elif np.abs(adj_1[i][j]) > thresh:\n",
    "            new_adj[i][j] = 1"
   ]
  },
  {
   "cell_type": "code",
   "execution_count": 927,
   "id": "dc7ba130-1e4e-4348-8faf-a68b522c47f8",
   "metadata": {},
   "outputs": [
    {
     "data": {
      "text/plain": [
       "<matplotlib.image.AxesImage at 0x3aa9e0380>"
      ]
     },
     "execution_count": 927,
     "metadata": {},
     "output_type": "execute_result"
    },
    {
     "data": {
      "image/png": "[encoded data removed]",
      "text/plain": [
       "<Figure size 640x480 with 1 Axes>"
      ]
     },
     "metadata": {},
     "output_type": "display_data"
    }
   ],
   "source": [
    "plt.imshow(new_adj)"
   ]
  },
  {
   "cell_type": "code",
   "execution_count": 928,
   "id": "3b463076-b46e-4b18-aea5-6373470dbcc2",
   "metadata": {},
   "outputs": [],
   "source": [
    "g = nx.DiGraph(new_adj, nodes=df_asia.columns)"
   ]
  },
  {
   "cell_type": "code",
   "execution_count": 929,
   "id": "18eaa4b9-18bd-4355-b292-becba0f80191",
   "metadata": {},
   "outputs": [
    {
     "data": {
      "image/png": "[encoded data removed]",
      "text/plain": [
       "<Figure size 640x480 with 1 Axes>"
      ]
     },
     "metadata": {},
     "output_type": "display_data"
    }
   ],
   "source": [
    "pos = nx.circular_layout(g)\n",
    "nx.draw_networkx(g, pos, labels = {\n",
    "    i:df_asia.columns[i] for i in range(len(g.nodes))\n",
    "})"
   ]
  },
  {
   "cell_type": "code",
   "execution_count": 930,
   "id": "e2ca04ef-8bc3-4bbe-be99-0dcfa970e620",
   "metadata": {},
   "outputs": [
    {
     "data": {
      "text/plain": [
       "(18.0, 16)"
      ]
     },
     "execution_count": 930,
     "metadata": {},
     "output_type": "execute_result"
    }
   ],
   "source": [
    "comb_SHD(new_adj, model_asia['adjmat'].astype(int).to_numpy())"
   ]
  },
  {
   "cell_type": "code",
   "execution_count": 931,
   "id": "80fca344-b462-48a0-9358-e2e69c68d43b",
   "metadata": {},
   "outputs": [
    {
     "data": {
      "text/plain": [
       "torch.Size([2, 56])"
      ]
     },
     "execution_count": 931,
     "metadata": {},
     "output_type": "execute_result"
    }
   ],
   "source": [
    "data.edge_index.shape"
   ]
  },
  {
   "cell_type": "code",
   "execution_count": 932,
   "id": "9e381e40-d452-40be-a2f2-5b0ece220f52",
   "metadata": {},
   "outputs": [
    {
     "data": {
      "text/plain": [
       "torch.Size([56])"
      ]
     },
     "execution_count": 932,
     "metadata": {},
     "output_type": "execute_result"
    }
   ],
   "source": [
    "explanation['edge_mask'].shape"
   ]
  },
  {
   "cell_type": "code",
   "execution_count": 933,
   "id": "6534f05d-bdfb-47e9-8126-171df3fd67dd",
   "metadata": {},
   "outputs": [
    {
     "ename": "TypeError",
     "evalue": "Invalid shape (56,) for image data",
     "output_type": "error",
     "traceback": [
      "\u001b[0;31m---------------------------------------------------------------------------\u001b[0m",
      "\u001b[0;31mTypeError\u001b[0m                                 Traceback (most recent call last)",
      "Cell \u001b[0;32mIn[933], line 1\u001b[0m\n\u001b[0;32m----> 1\u001b[0m \u001b[43mplt\u001b[49m\u001b[38;5;241;43m.\u001b[39;49m\u001b[43mimshow\u001b[49m\u001b[43m(\u001b[49m\u001b[43mexplanation\u001b[49m\u001b[43m[\u001b[49m\u001b[38;5;124;43m'\u001b[39;49m\u001b[38;5;124;43medge_mask\u001b[39;49m\u001b[38;5;124;43m'\u001b[39;49m\u001b[43m]\u001b[49m\u001b[43m)\u001b[49m\n",
      "File \u001b[0;32m~/miniforge3/envs/py312/lib/python3.12/site-packages/matplotlib/pyplot.py:3590\u001b[0m, in \u001b[0;36mimshow\u001b[0;34m(X, cmap, norm, aspect, interpolation, alpha, vmin, vmax, colorizer, origin, extent, interpolation_stage, filternorm, filterrad, resample, url, data, **kwargs)\u001b[0m\n\u001b[1;32m   3568\u001b[0m \u001b[38;5;129m@_copy_docstring_and_deprecators\u001b[39m(Axes\u001b[38;5;241m.\u001b[39mimshow)\n\u001b[1;32m   3569\u001b[0m \u001b[38;5;28;01mdef\u001b[39;00m \u001b[38;5;21mimshow\u001b[39m(\n\u001b[1;32m   3570\u001b[0m     X: ArrayLike \u001b[38;5;241m|\u001b[39m PIL\u001b[38;5;241m.\u001b[39mImage\u001b[38;5;241m.\u001b[39mImage,\n\u001b[0;32m   (...)\u001b[0m\n\u001b[1;32m   3588\u001b[0m     \u001b[38;5;241m*\u001b[39m\u001b[38;5;241m*\u001b[39mkwargs,\n\u001b[1;32m   3589\u001b[0m ) \u001b[38;5;241m-\u001b[39m\u001b[38;5;241m>\u001b[39m AxesImage:\n\u001b[0;32m-> 3590\u001b[0m     __ret \u001b[38;5;241m=\u001b[39m \u001b[43mgca\u001b[49m\u001b[43m(\u001b[49m\u001b[43m)\u001b[49m\u001b[38;5;241;43m.\u001b[39;49m\u001b[43mimshow\u001b[49m\u001b[43m(\u001b[49m\n\u001b[1;32m   3591\u001b[0m \u001b[43m        \u001b[49m\u001b[43mX\u001b[49m\u001b[43m,\u001b[49m\n\u001b[1;32m   3592\u001b[0m \u001b[43m        \u001b[49m\u001b[43mcmap\u001b[49m\u001b[38;5;241;43m=\u001b[39;49m\u001b[43mcmap\u001b[49m\u001b[43m,\u001b[49m\n\u001b[1;32m   3593\u001b[0m \u001b[43m        \u001b[49m\u001b[43mnorm\u001b[49m\u001b[38;5;241;43m=\u001b[39;49m\u001b[43mnorm\u001b[49m\u001b[43m,\u001b[49m\n\u001b[1;32m   3594\u001b[0m \u001b[43m        \u001b[49m\u001b[43maspect\u001b[49m\u001b[38;5;241;43m=\u001b[39;49m\u001b[43maspect\u001b[49m\u001b[43m,\u001b[49m\n\u001b[1;32m   3595\u001b[0m \u001b[43m        \u001b[49m\u001b[43minterpolation\u001b[49m\u001b[38;5;241;43m=\u001b[39;49m\u001b[43minterpolation\u001b[49m\u001b[43m,\u001b[49m\n\u001b[1;32m   3596\u001b[0m \u001b[43m        \u001b[49m\u001b[43malpha\u001b[49m\u001b[38;5;241;43m=\u001b[39;49m\u001b[43malpha\u001b[49m\u001b[43m,\u001b[49m\n\u001b[1;32m   3597\u001b[0m \u001b[43m        \u001b[49m\u001b[43mvmin\u001b[49m\u001b[38;5;241;43m=\u001b[39;49m\u001b[43mvmin\u001b[49m\u001b[43m,\u001b[49m\n\u001b[1;32m   3598\u001b[0m \u001b[43m        \u001b[49m\u001b[43mvmax\u001b[49m\u001b[38;5;241;43m=\u001b[39;49m\u001b[43mvmax\u001b[49m\u001b[43m,\u001b[49m\n\u001b[1;32m   3599\u001b[0m \u001b[43m        \u001b[49m\u001b[43mcolorizer\u001b[49m\u001b[38;5;241;43m=\u001b[39;49m\u001b[43mcolorizer\u001b[49m\u001b[43m,\u001b[49m\n\u001b[1;32m   3600\u001b[0m \u001b[43m        \u001b[49m\u001b[43morigin\u001b[49m\u001b[38;5;241;43m=\u001b[39;49m\u001b[43morigin\u001b[49m\u001b[43m,\u001b[49m\n\u001b[1;32m   3601\u001b[0m \u001b[43m        \u001b[49m\u001b[43mextent\u001b[49m\u001b[38;5;241;43m=\u001b[39;49m\u001b[43mextent\u001b[49m\u001b[43m,\u001b[49m\n\u001b[1;32m   3602\u001b[0m \u001b[43m        \u001b[49m\u001b[43minterpolation_stage\u001b[49m\u001b[38;5;241;43m=\u001b[39;49m\u001b[43minterpolation_stage\u001b[49m\u001b[43m,\u001b[49m\n\u001b[1;32m   3603\u001b[0m \u001b[43m        \u001b[49m\u001b[43mfilternorm\u001b[49m\u001b[38;5;241;43m=\u001b[39;49m\u001b[43mfilternorm\u001b[49m\u001b[43m,\u001b[49m\n\u001b[1;32m   3604\u001b[0m \u001b[43m        \u001b[49m\u001b[43mfilterrad\u001b[49m\u001b[38;5;241;43m=\u001b[39;49m\u001b[43mfilterrad\u001b[49m\u001b[43m,\u001b[49m\n\u001b[1;32m   3605\u001b[0m \u001b[43m        \u001b[49m\u001b[43mresample\u001b[49m\u001b[38;5;241;43m=\u001b[39;49m\u001b[43mresample\u001b[49m\u001b[43m,\u001b[49m\n\u001b[1;32m   3606\u001b[0m \u001b[43m        \u001b[49m\u001b[43murl\u001b[49m\u001b[38;5;241;43m=\u001b[39;49m\u001b[43murl\u001b[49m\u001b[43m,\u001b[49m\n\u001b[1;32m   3607\u001b[0m \u001b[43m        \u001b[49m\u001b[38;5;241;43m*\u001b[39;49m\u001b[38;5;241;43m*\u001b[39;49m\u001b[43m(\u001b[49m\u001b[43m{\u001b[49m\u001b[38;5;124;43m\"\u001b[39;49m\u001b[38;5;124;43mdata\u001b[39;49m\u001b[38;5;124;43m\"\u001b[39;49m\u001b[43m:\u001b[49m\u001b[43m \u001b[49m\u001b[43mdata\u001b[49m\u001b[43m}\u001b[49m\u001b[43m \u001b[49m\u001b[38;5;28;43;01mif\u001b[39;49;00m\u001b[43m \u001b[49m\u001b[43mdata\u001b[49m\u001b[43m \u001b[49m\u001b[38;5;129;43;01mis\u001b[39;49;00m\u001b[43m \u001b[49m\u001b[38;5;129;43;01mnot\u001b[39;49;00m\u001b[43m \u001b[49m\u001b[38;5;28;43;01mNone\u001b[39;49;00m\u001b[43m \u001b[49m\u001b[38;5;28;43;01melse\u001b[39;49;00m\u001b[43m \u001b[49m\u001b[43m{\u001b[49m\u001b[43m}\u001b[49m\u001b[43m)\u001b[49m\u001b[43m,\u001b[49m\n\u001b[1;32m   3608\u001b[0m \u001b[43m        \u001b[49m\u001b[38;5;241;43m*\u001b[39;49m\u001b[38;5;241;43m*\u001b[39;49m\u001b[43mkwargs\u001b[49m\u001b[43m,\u001b[49m\n\u001b[1;32m   3609\u001b[0m \u001b[43m    \u001b[49m\u001b[43m)\u001b[49m\n\u001b[1;32m   3610\u001b[0m     sci(__ret)\n\u001b[1;32m   3611\u001b[0m     \u001b[38;5;28;01mreturn\u001b[39;00m __ret\n",
      "File \u001b[0;32m~/miniforge3/envs/py312/lib/python3.12/site-packages/matplotlib/__init__.py:1521\u001b[0m, in \u001b[0;36m_preprocess_data.<locals>.inner\u001b[0;34m(ax, data, *args, **kwargs)\u001b[0m\n\u001b[1;32m   1518\u001b[0m \u001b[38;5;129m@functools\u001b[39m\u001b[38;5;241m.\u001b[39mwraps(func)\n\u001b[1;32m   1519\u001b[0m \u001b[38;5;28;01mdef\u001b[39;00m \u001b[38;5;21minner\u001b[39m(ax, \u001b[38;5;241m*\u001b[39margs, data\u001b[38;5;241m=\u001b[39m\u001b[38;5;28;01mNone\u001b[39;00m, \u001b[38;5;241m*\u001b[39m\u001b[38;5;241m*\u001b[39mkwargs):\n\u001b[1;32m   1520\u001b[0m     \u001b[38;5;28;01mif\u001b[39;00m data \u001b[38;5;129;01mis\u001b[39;00m \u001b[38;5;28;01mNone\u001b[39;00m:\n\u001b[0;32m-> 1521\u001b[0m         \u001b[38;5;28;01mreturn\u001b[39;00m \u001b[43mfunc\u001b[49m\u001b[43m(\u001b[49m\n\u001b[1;32m   1522\u001b[0m \u001b[43m            \u001b[49m\u001b[43max\u001b[49m\u001b[43m,\u001b[49m\n\u001b[1;32m   1523\u001b[0m \u001b[43m            \u001b[49m\u001b[38;5;241;43m*\u001b[39;49m\u001b[38;5;28;43mmap\u001b[39;49m\u001b[43m(\u001b[49m\u001b[43mcbook\u001b[49m\u001b[38;5;241;43m.\u001b[39;49m\u001b[43msanitize_sequence\u001b[49m\u001b[43m,\u001b[49m\u001b[43m \u001b[49m\u001b[43margs\u001b[49m\u001b[43m)\u001b[49m\u001b[43m,\u001b[49m\n\u001b[1;32m   1524\u001b[0m \u001b[43m            \u001b[49m\u001b[38;5;241;43m*\u001b[39;49m\u001b[38;5;241;43m*\u001b[39;49m\u001b[43m{\u001b[49m\u001b[43mk\u001b[49m\u001b[43m:\u001b[49m\u001b[43m \u001b[49m\u001b[43mcbook\u001b[49m\u001b[38;5;241;43m.\u001b[39;49m\u001b[43msanitize_sequence\u001b[49m\u001b[43m(\u001b[49m\u001b[43mv\u001b[49m\u001b[43m)\u001b[49m\u001b[43m \u001b[49m\u001b[38;5;28;43;01mfor\u001b[39;49;00m\u001b[43m \u001b[49m\u001b[43mk\u001b[49m\u001b[43m,\u001b[49m\u001b[43m \u001b[49m\u001b[43mv\u001b[49m\u001b[43m \u001b[49m\u001b[38;5;129;43;01min\u001b[39;49;00m\u001b[43m \u001b[49m\u001b[43mkwargs\u001b[49m\u001b[38;5;241;43m.\u001b[39;49m\u001b[43mitems\u001b[49m\u001b[43m(\u001b[49m\u001b[43m)\u001b[49m\u001b[43m}\u001b[49m\u001b[43m)\u001b[49m\n\u001b[1;32m   1526\u001b[0m     bound \u001b[38;5;241m=\u001b[39m new_sig\u001b[38;5;241m.\u001b[39mbind(ax, \u001b[38;5;241m*\u001b[39margs, \u001b[38;5;241m*\u001b[39m\u001b[38;5;241m*\u001b[39mkwargs)\n\u001b[1;32m   1527\u001b[0m     auto_label \u001b[38;5;241m=\u001b[39m (bound\u001b[38;5;241m.\u001b[39marguments\u001b[38;5;241m.\u001b[39mget(label_namer)\n\u001b[1;32m   1528\u001b[0m                   \u001b[38;5;129;01mor\u001b[39;00m bound\u001b[38;5;241m.\u001b[39mkwargs\u001b[38;5;241m.\u001b[39mget(label_namer))\n",
      "File \u001b[0;32m~/miniforge3/envs/py312/lib/python3.12/site-packages/matplotlib/axes/_axes.py:5976\u001b[0m, in \u001b[0;36mAxes.imshow\u001b[0;34m(self, X, cmap, norm, aspect, interpolation, alpha, vmin, vmax, colorizer, origin, extent, interpolation_stage, filternorm, filterrad, resample, url, **kwargs)\u001b[0m\n\u001b[1;32m   5973\u001b[0m \u001b[38;5;28;01mif\u001b[39;00m aspect \u001b[38;5;129;01mis\u001b[39;00m \u001b[38;5;129;01mnot\u001b[39;00m \u001b[38;5;28;01mNone\u001b[39;00m:\n\u001b[1;32m   5974\u001b[0m     \u001b[38;5;28mself\u001b[39m\u001b[38;5;241m.\u001b[39mset_aspect(aspect)\n\u001b[0;32m-> 5976\u001b[0m \u001b[43mim\u001b[49m\u001b[38;5;241;43m.\u001b[39;49m\u001b[43mset_data\u001b[49m\u001b[43m(\u001b[49m\u001b[43mX\u001b[49m\u001b[43m)\u001b[49m\n\u001b[1;32m   5977\u001b[0m im\u001b[38;5;241m.\u001b[39mset_alpha(alpha)\n\u001b[1;32m   5978\u001b[0m \u001b[38;5;28;01mif\u001b[39;00m im\u001b[38;5;241m.\u001b[39mget_clip_path() \u001b[38;5;129;01mis\u001b[39;00m \u001b[38;5;28;01mNone\u001b[39;00m:\n\u001b[1;32m   5979\u001b[0m     \u001b[38;5;66;03m# image does not already have clipping set, clip to Axes patch\u001b[39;00m\n",
      "File \u001b[0;32m~/miniforge3/envs/py312/lib/python3.12/site-packages/matplotlib/image.py:685\u001b[0m, in \u001b[0;36m_ImageBase.set_data\u001b[0;34m(self, A)\u001b[0m\n\u001b[1;32m    683\u001b[0m \u001b[38;5;28;01mif\u001b[39;00m \u001b[38;5;28misinstance\u001b[39m(A, PIL\u001b[38;5;241m.\u001b[39mImage\u001b[38;5;241m.\u001b[39mImage):\n\u001b[1;32m    684\u001b[0m     A \u001b[38;5;241m=\u001b[39m pil_to_array(A)  \u001b[38;5;66;03m# Needed e.g. to apply png palette.\u001b[39;00m\n\u001b[0;32m--> 685\u001b[0m \u001b[38;5;28mself\u001b[39m\u001b[38;5;241m.\u001b[39m_A \u001b[38;5;241m=\u001b[39m \u001b[38;5;28;43mself\u001b[39;49m\u001b[38;5;241;43m.\u001b[39;49m\u001b[43m_normalize_image_array\u001b[49m\u001b[43m(\u001b[49m\u001b[43mA\u001b[49m\u001b[43m)\u001b[49m\n\u001b[1;32m    686\u001b[0m \u001b[38;5;28mself\u001b[39m\u001b[38;5;241m.\u001b[39m_imcache \u001b[38;5;241m=\u001b[39m \u001b[38;5;28;01mNone\u001b[39;00m\n\u001b[1;32m    687\u001b[0m \u001b[38;5;28mself\u001b[39m\u001b[38;5;241m.\u001b[39mstale \u001b[38;5;241m=\u001b[39m \u001b[38;5;28;01mTrue\u001b[39;00m\n",
      "File \u001b[0;32m~/miniforge3/envs/py312/lib/python3.12/site-packages/matplotlib/image.py:653\u001b[0m, in \u001b[0;36m_ImageBase._normalize_image_array\u001b[0;34m(A)\u001b[0m\n\u001b[1;32m    651\u001b[0m     A \u001b[38;5;241m=\u001b[39m A\u001b[38;5;241m.\u001b[39msqueeze(\u001b[38;5;241m-\u001b[39m\u001b[38;5;241m1\u001b[39m)  \u001b[38;5;66;03m# If just (M, N, 1), assume scalar and apply colormap.\u001b[39;00m\n\u001b[1;32m    652\u001b[0m \u001b[38;5;28;01mif\u001b[39;00m \u001b[38;5;129;01mnot\u001b[39;00m (A\u001b[38;5;241m.\u001b[39mndim \u001b[38;5;241m==\u001b[39m \u001b[38;5;241m2\u001b[39m \u001b[38;5;129;01mor\u001b[39;00m A\u001b[38;5;241m.\u001b[39mndim \u001b[38;5;241m==\u001b[39m \u001b[38;5;241m3\u001b[39m \u001b[38;5;129;01mand\u001b[39;00m A\u001b[38;5;241m.\u001b[39mshape[\u001b[38;5;241m-\u001b[39m\u001b[38;5;241m1\u001b[39m] \u001b[38;5;129;01min\u001b[39;00m [\u001b[38;5;241m3\u001b[39m, \u001b[38;5;241m4\u001b[39m]):\n\u001b[0;32m--> 653\u001b[0m     \u001b[38;5;28;01mraise\u001b[39;00m \u001b[38;5;167;01mTypeError\u001b[39;00m(\u001b[38;5;124mf\u001b[39m\u001b[38;5;124m\"\u001b[39m\u001b[38;5;124mInvalid shape \u001b[39m\u001b[38;5;132;01m{\u001b[39;00mA\u001b[38;5;241m.\u001b[39mshape\u001b[38;5;132;01m}\u001b[39;00m\u001b[38;5;124m for image data\u001b[39m\u001b[38;5;124m\"\u001b[39m)\n\u001b[1;32m    654\u001b[0m \u001b[38;5;28;01mif\u001b[39;00m A\u001b[38;5;241m.\u001b[39mndim \u001b[38;5;241m==\u001b[39m \u001b[38;5;241m3\u001b[39m:\n\u001b[1;32m    655\u001b[0m     \u001b[38;5;66;03m# If the input data has values outside the valid range (after\u001b[39;00m\n\u001b[1;32m    656\u001b[0m     \u001b[38;5;66;03m# normalisation), we issue a warning and then clip X to the bounds\u001b[39;00m\n\u001b[1;32m    657\u001b[0m     \u001b[38;5;66;03m# - otherwise casting wraps extreme values, hiding outliers and\u001b[39;00m\n\u001b[1;32m    658\u001b[0m     \u001b[38;5;66;03m# making reliable interpretation impossible.\u001b[39;00m\n\u001b[1;32m    659\u001b[0m     high \u001b[38;5;241m=\u001b[39m \u001b[38;5;241m255\u001b[39m \u001b[38;5;28;01mif\u001b[39;00m np\u001b[38;5;241m.\u001b[39missubdtype(A\u001b[38;5;241m.\u001b[39mdtype, np\u001b[38;5;241m.\u001b[39minteger) \u001b[38;5;28;01melse\u001b[39;00m \u001b[38;5;241m1\u001b[39m\n",
      "\u001b[0;31mTypeError\u001b[0m: Invalid shape (56,) for image data"
     ]
    },
    {
     "data": {
      "image/png": "[encoded data removed]",
      "text/plain": [
       "<Figure size 640x480 with 1 Axes>"
      ]
     },
     "metadata": {},
     "output_type": "display_data"
    }
   ],
   "source": [
    "plt.imshow(explanation['edge_mask'])"
   ]
  },
  {
   "cell_type": "code",
   "execution_count": 934,
   "id": "683c9e2e-be9c-4de4-ad6f-d6886c85ce01",
   "metadata": {},
   "outputs": [
    {
     "data": {
      "text/plain": [
       "tensor(0.1633)"
      ]
     },
     "execution_count": 934,
     "metadata": {},
     "output_type": "execute_result"
    }
   ],
   "source": [
    "max(explanation['edge_mask'])"
   ]
  },
  {
   "cell_type": "code",
   "execution_count": 935,
   "id": "c8f82963-fe6b-4de4-aa7b-69b8d08d6844",
   "metadata": {},
   "outputs": [
    {
     "data": {
      "text/plain": [
       "tensor(0.0218)"
      ]
     },
     "execution_count": 935,
     "metadata": {},
     "output_type": "execute_result"
    }
   ],
   "source": [
    "torch.std(explanation['edge_mask'])"
   ]
  },
  {
   "cell_type": "code",
   "execution_count": 936,
   "id": "c6186a34-f7e7-491e-a2a0-188f86d96c95",
   "metadata": {},
   "outputs": [
    {
     "data": {
      "text/plain": [
       "tensor(0.1429)"
      ]
     },
     "execution_count": 936,
     "metadata": {},
     "output_type": "execute_result"
    }
   ],
   "source": [
    "torch.mean(explanation['edge_mask'])"
   ]
  },
  {
   "cell_type": "code",
   "execution_count": 937,
   "id": "87cce727-58fc-43b4-ba64-151ac350ffa4",
   "metadata": {},
   "outputs": [],
   "source": [
    "att_thresh = (explanation['edge_mask'] > torch.mean(explanation['edge_mask']) + 0.9 * torch.std(explanation['edge_mask'])).detach().numpy().astype(int)\n",
    "# att_thresh = explanation['edge_mask'] == max(explanation['edge_mask'])"
   ]
  },
  {
   "cell_type": "code",
   "execution_count": 938,
   "id": "74fc4d45-b58c-4a93-b347-08176113b862",
   "metadata": {
    "scrolled": true
   },
   "outputs": [
    {
     "name": "stdout",
     "output_type": "stream",
     "text": [
      "[1 0]\n",
      "[3 0]\n",
      "[5 0]\n",
      "[6 0]\n",
      "[1 3]\n",
      "[3 1]\n",
      "[1 5]\n",
      "[5 1]\n",
      "[1 6]\n",
      "[6 1]\n",
      "[3 5]\n",
      "[5 3]\n",
      "[3 6]\n",
      "[6 3]\n",
      "[5 6]\n",
      "[6 5]\n"
     ]
    }
   ],
   "source": [
    "temp_adj = np.zeros((data.num_nodes, data.num_nodes), dtype=int)\n",
    "for i in range(len(att_thresh)):\n",
    "    if att_thresh[i] == 1:\n",
    "        print(edge_index[i].detach().numpy())\n",
    "        idx = edge_index[i].detach().numpy()\n",
    "        temp_adj[idx[1]][idx[0]] = 1"
   ]
  },
  {
   "cell_type": "code",
   "execution_count": 939,
   "id": "39f70faa-ad27-4862-9511-26e37e191175",
   "metadata": {},
   "outputs": [
    {
     "data": {
      "text/plain": [
       "<matplotlib.image.AxesImage at 0x3ab79ba70>"
      ]
     },
     "execution_count": 939,
     "metadata": {},
     "output_type": "execute_result"
    },
    {
     "data": {
      "image/png": "[encoded data removed]",
      "text/plain": [
       "<Figure size 640x480 with 1 Axes>"
      ]
     },
     "metadata": {},
     "output_type": "display_data"
    }
   ],
   "source": [
    "plt.imshow(temp_adj)"
   ]
  },
  {
   "cell_type": "code",
   "execution_count": 940,
   "id": "cfc1b394-d0c6-473e-988a-19c70b6ba140",
   "metadata": {},
   "outputs": [
    {
     "data": {
      "text/plain": [
       "(16, 10)"
      ]
     },
     "execution_count": 940,
     "metadata": {},
     "output_type": "execute_result"
    }
   ],
   "source": [
    "comb_SHD(temp_adj, model_asia['adjmat'].astype(int).to_numpy())"
   ]
  },
  {
   "cell_type": "code",
   "execution_count": 941,
   "id": "6db45dbe-9bf7-4fe1-8818-c45a43bcceab",
   "metadata": {},
   "outputs": [],
   "source": [
    "g = nx.DiGraph(temp_adj, nodes=df_asia.columns)"
   ]
  },
  {
   "cell_type": "code",
   "execution_count": 942,
   "id": "5d11be52-ade3-4625-9012-0a7fa7a86b6f",
   "metadata": {},
   "outputs": [
    {
     "data": {
      "image/png": "[encoded data removed]",
      "text/plain": [
       "<Figure size 640x480 with 1 Axes>"
      ]
     },
     "metadata": {},
     "output_type": "display_data"
    }
   ],
   "source": [
    "pos = nx.circular_layout(g)\n",
    "nx.draw_networkx(g, pos, labels = {\n",
    "    i:df_asia.columns[i] for i in range(len(g.nodes))\n",
    "})"
   ]
  },
  {
   "cell_type": "code",
   "execution_count": 943,
   "id": "bd6982b8-8a3d-4ecd-ad30-f92fedabe6c7",
   "metadata": {},
   "outputs": [],
   "source": [
    "explanation.visualize_graph(node_labels=df_asia.columns)"
   ]
  },
  {
   "cell_type": "code",
   "execution_count": 862,
   "id": "e140609a-ff23-4d97-a858-cb958be56d4e",
   "metadata": {},
   "outputs": [
    {
     "data": {
      "text/plain": [
       "4.538610458374023"
      ]
     },
     "execution_count": 862,
     "metadata": {},
     "output_type": "execute_result"
    }
   ],
   "source": [
    "max(losses)"
   ]
  },
  {
   "cell_type": "code",
   "execution_count": 863,
   "id": "494e1355-2d63-4bb7-80f2-79ffc86606c0",
   "metadata": {},
   "outputs": [
    {
     "data": {
      "text/plain": [
       "4.493226051330566"
      ]
     },
     "execution_count": 863,
     "metadata": {},
     "output_type": "execute_result"
    }
   ],
   "source": [
    "min(losses)"
   ]
  },
  {
   "cell_type": "code",
   "execution_count": 864,
   "id": "dda21e2d-3190-44ab-83d2-58f995ef76d3",
   "metadata": {},
   "outputs": [
    {
     "data": {
      "text/plain": [
       "[<matplotlib.lines.Line2D at 0x374974f50>]"
      ]
     },
     "execution_count": 864,
     "metadata": {},
     "output_type": "execute_result"
    },
    {
     "data": {
      "image/png": "[encoded data removed]",
      "text/plain": [
       "<Figure size 640x480 with 1 Axes>"
      ]
     },
     "metadata": {},
     "output_type": "display_data"
    }
   ],
   "source": [
    "plt.plot(losses)"
   ]
  },
  {
   "cell_type": "code",
   "execution_count": null,
   "id": "dbd3a42d-b98b-4f8c-82d0-23609642f700",
   "metadata": {},
   "outputs": [],
   "source": []
  },
  {
   "cell_type": "code",
   "execution_count": null,
   "id": "89ab7a48-8abf-4a15-9095-40d71e9db8d7",
   "metadata": {},
   "outputs": [],
   "source": []
  }
 ],
 "metadata": {
  "kernelspec": {
   "display_name": "Python 3 (ipykernel)",
   "language": "python",
   "name": "python3"
  },
  "language_info": {
   "codemirror_mode": {
    "name": "ipython",
    "version": 3
   },
   "file_extension": ".py",
   "mimetype": "text/x-python",
   "name": "python",
   "nbconvert_exporter": "python",
   "pygments_lexer": "ipython3",
   "version": "3.12.8"
  }
 },
 "nbformat": 4,
 "nbformat_minor": 5
}
